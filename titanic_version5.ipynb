{
  "metadata": {
    "kernelspec": {
      "language": "python",
      "display_name": "Python 3",
      "name": "python3"
    },
    "language_info": {
      "name": "python",
      "version": "3.10.12",
      "mimetype": "text/x-python",
      "codemirror_mode": {
        "name": "ipython",
        "version": 3
      },
      "pygments_lexer": "ipython3",
      "nbconvert_exporter": "python",
      "file_extension": ".py"
    },
    "kaggle": {
      "accelerator": "none",
      "dataSources": [
        {
          "sourceId": 7038321,
          "sourceType": "datasetVersion",
          "datasetId": 4049339
        }
      ],
      "dockerImageVersionId": 30626,
      "isInternetEnabled": true,
      "language": "python",
      "sourceType": "notebook",
      "isGpuEnabled": false
    },
    "colab": {
      "provenance": [],
      "include_colab_link": true
    }
  },
  "nbformat_minor": 0,
  "nbformat": 4,
  "cells": [
    {
      "cell_type": "markdown",
      "metadata": {
        "id": "view-in-github",
        "colab_type": "text"
      },
      "source": [
        "<a href=\"https://colab.research.google.com/github/LucasNatalePires/kaggle_titanic/blob/main/titanic_version5.ipynb\" target=\"_parent\"><img src=\"https://colab.research.google.com/assets/colab-badge.svg\" alt=\"Open In Colab\"/></a>"
      ]
    },
    {
      "cell_type": "code",
      "source": [
        "import pandas as pd"
      ],
      "metadata": {
        "execution": {
          "iopub.status.busy": "2024-01-09T22:13:33.195334Z",
          "iopub.execute_input": "2024-01-09T22:13:33.195728Z",
          "iopub.status.idle": "2024-01-09T22:13:33.201784Z",
          "shell.execute_reply.started": "2024-01-09T22:13:33.195695Z",
          "shell.execute_reply": "2024-01-09T22:13:33.200584Z"
        },
        "trusted": true,
        "id": "5_KPeWg-sK83"
      },
      "execution_count": 9,
      "outputs": []
    },
    {
      "cell_type": "code",
      "source": [
        "#Getting to know our dataset\n",
        "train = pd.read_csv(\"/content/train.csv\")\n",
        "train.head()"
      ],
      "metadata": {
        "execution": {
          "iopub.status.busy": "2024-01-09T22:13:33.229310Z",
          "iopub.execute_input": "2024-01-09T22:13:33.230327Z",
          "iopub.status.idle": "2024-01-09T22:13:33.260127Z",
          "shell.execute_reply.started": "2024-01-09T22:13:33.230285Z",
          "shell.execute_reply": "2024-01-09T22:13:33.259057Z"
        },
        "trusted": true,
        "colab": {
          "base_uri": "https://localhost:8080/",
          "height": 206
        },
        "id": "6sKyQdvOsK84",
        "outputId": "95f4202c-fcc0-435f-98f6-199bca93d6c3"
      },
      "execution_count": 10,
      "outputs": [
        {
          "output_type": "execute_result",
          "data": {
            "text/plain": [
              "   PassengerId  Survived  Pclass  \\\n",
              "0            1         0       3   \n",
              "1            2         1       1   \n",
              "2            3         1       3   \n",
              "3            4         1       1   \n",
              "4            5         0       3   \n",
              "\n",
              "                                                Name     Sex   Age  SibSp  \\\n",
              "0                            Braund, Mr. Owen Harris    male  22.0      1   \n",
              "1  Cumings, Mrs. John Bradley (Florence Briggs Th...  female  38.0      1   \n",
              "2                             Heikkinen, Miss. Laina  female  26.0      0   \n",
              "3       Futrelle, Mrs. Jacques Heath (Lily May Peel)  female  35.0      1   \n",
              "4                           Allen, Mr. William Henry    male  35.0      0   \n",
              "\n",
              "   Parch            Ticket     Fare Cabin Embarked  \n",
              "0      0         A/5 21171   7.2500   NaN        S  \n",
              "1      0          PC 17599  71.2833   C85        C  \n",
              "2      0  STON/O2. 3101282   7.9250   NaN        S  \n",
              "3      0            113803  53.1000  C123        S  \n",
              "4      0            373450   8.0500   NaN        S  "
            ],
            "text/html": [
              "\n",
              "  <div id=\"df-265076f9-cea5-4de1-a427-59e1aa16147e\" class=\"colab-df-container\">\n",
              "    <div>\n",
              "<style scoped>\n",
              "    .dataframe tbody tr th:only-of-type {\n",
              "        vertical-align: middle;\n",
              "    }\n",
              "\n",
              "    .dataframe tbody tr th {\n",
              "        vertical-align: top;\n",
              "    }\n",
              "\n",
              "    .dataframe thead th {\n",
              "        text-align: right;\n",
              "    }\n",
              "</style>\n",
              "<table border=\"1\" class=\"dataframe\">\n",
              "  <thead>\n",
              "    <tr style=\"text-align: right;\">\n",
              "      <th></th>\n",
              "      <th>PassengerId</th>\n",
              "      <th>Survived</th>\n",
              "      <th>Pclass</th>\n",
              "      <th>Name</th>\n",
              "      <th>Sex</th>\n",
              "      <th>Age</th>\n",
              "      <th>SibSp</th>\n",
              "      <th>Parch</th>\n",
              "      <th>Ticket</th>\n",
              "      <th>Fare</th>\n",
              "      <th>Cabin</th>\n",
              "      <th>Embarked</th>\n",
              "    </tr>\n",
              "  </thead>\n",
              "  <tbody>\n",
              "    <tr>\n",
              "      <th>0</th>\n",
              "      <td>1</td>\n",
              "      <td>0</td>\n",
              "      <td>3</td>\n",
              "      <td>Braund, Mr. Owen Harris</td>\n",
              "      <td>male</td>\n",
              "      <td>22.0</td>\n",
              "      <td>1</td>\n",
              "      <td>0</td>\n",
              "      <td>A/5 21171</td>\n",
              "      <td>7.2500</td>\n",
              "      <td>NaN</td>\n",
              "      <td>S</td>\n",
              "    </tr>\n",
              "    <tr>\n",
              "      <th>1</th>\n",
              "      <td>2</td>\n",
              "      <td>1</td>\n",
              "      <td>1</td>\n",
              "      <td>Cumings, Mrs. John Bradley (Florence Briggs Th...</td>\n",
              "      <td>female</td>\n",
              "      <td>38.0</td>\n",
              "      <td>1</td>\n",
              "      <td>0</td>\n",
              "      <td>PC 17599</td>\n",
              "      <td>71.2833</td>\n",
              "      <td>C85</td>\n",
              "      <td>C</td>\n",
              "    </tr>\n",
              "    <tr>\n",
              "      <th>2</th>\n",
              "      <td>3</td>\n",
              "      <td>1</td>\n",
              "      <td>3</td>\n",
              "      <td>Heikkinen, Miss. Laina</td>\n",
              "      <td>female</td>\n",
              "      <td>26.0</td>\n",
              "      <td>0</td>\n",
              "      <td>0</td>\n",
              "      <td>STON/O2. 3101282</td>\n",
              "      <td>7.9250</td>\n",
              "      <td>NaN</td>\n",
              "      <td>S</td>\n",
              "    </tr>\n",
              "    <tr>\n",
              "      <th>3</th>\n",
              "      <td>4</td>\n",
              "      <td>1</td>\n",
              "      <td>1</td>\n",
              "      <td>Futrelle, Mrs. Jacques Heath (Lily May Peel)</td>\n",
              "      <td>female</td>\n",
              "      <td>35.0</td>\n",
              "      <td>1</td>\n",
              "      <td>0</td>\n",
              "      <td>113803</td>\n",
              "      <td>53.1000</td>\n",
              "      <td>C123</td>\n",
              "      <td>S</td>\n",
              "    </tr>\n",
              "    <tr>\n",
              "      <th>4</th>\n",
              "      <td>5</td>\n",
              "      <td>0</td>\n",
              "      <td>3</td>\n",
              "      <td>Allen, Mr. William Henry</td>\n",
              "      <td>male</td>\n",
              "      <td>35.0</td>\n",
              "      <td>0</td>\n",
              "      <td>0</td>\n",
              "      <td>373450</td>\n",
              "      <td>8.0500</td>\n",
              "      <td>NaN</td>\n",
              "      <td>S</td>\n",
              "    </tr>\n",
              "  </tbody>\n",
              "</table>\n",
              "</div>\n",
              "    <div class=\"colab-df-buttons\">\n",
              "\n",
              "  <div class=\"colab-df-container\">\n",
              "    <button class=\"colab-df-convert\" onclick=\"convertToInteractive('df-265076f9-cea5-4de1-a427-59e1aa16147e')\"\n",
              "            title=\"Convert this dataframe to an interactive table.\"\n",
              "            style=\"display:none;\">\n",
              "\n",
              "  <svg xmlns=\"http://www.w3.org/2000/svg\" height=\"24px\" viewBox=\"0 -960 960 960\">\n",
              "    <path d=\"M120-120v-720h720v720H120Zm60-500h600v-160H180v160Zm220 220h160v-160H400v160Zm0 220h160v-160H400v160ZM180-400h160v-160H180v160Zm440 0h160v-160H620v160ZM180-180h160v-160H180v160Zm440 0h160v-160H620v160Z\"/>\n",
              "  </svg>\n",
              "    </button>\n",
              "\n",
              "  <style>\n",
              "    .colab-df-container {\n",
              "      display:flex;\n",
              "      gap: 12px;\n",
              "    }\n",
              "\n",
              "    .colab-df-convert {\n",
              "      background-color: #E8F0FE;\n",
              "      border: none;\n",
              "      border-radius: 50%;\n",
              "      cursor: pointer;\n",
              "      display: none;\n",
              "      fill: #1967D2;\n",
              "      height: 32px;\n",
              "      padding: 0 0 0 0;\n",
              "      width: 32px;\n",
              "    }\n",
              "\n",
              "    .colab-df-convert:hover {\n",
              "      background-color: #E2EBFA;\n",
              "      box-shadow: 0px 1px 2px rgba(60, 64, 67, 0.3), 0px 1px 3px 1px rgba(60, 64, 67, 0.15);\n",
              "      fill: #174EA6;\n",
              "    }\n",
              "\n",
              "    .colab-df-buttons div {\n",
              "      margin-bottom: 4px;\n",
              "    }\n",
              "\n",
              "    [theme=dark] .colab-df-convert {\n",
              "      background-color: #3B4455;\n",
              "      fill: #D2E3FC;\n",
              "    }\n",
              "\n",
              "    [theme=dark] .colab-df-convert:hover {\n",
              "      background-color: #434B5C;\n",
              "      box-shadow: 0px 1px 3px 1px rgba(0, 0, 0, 0.15);\n",
              "      filter: drop-shadow(0px 1px 2px rgba(0, 0, 0, 0.3));\n",
              "      fill: #FFFFFF;\n",
              "    }\n",
              "  </style>\n",
              "\n",
              "    <script>\n",
              "      const buttonEl =\n",
              "        document.querySelector('#df-265076f9-cea5-4de1-a427-59e1aa16147e button.colab-df-convert');\n",
              "      buttonEl.style.display =\n",
              "        google.colab.kernel.accessAllowed ? 'block' : 'none';\n",
              "\n",
              "      async function convertToInteractive(key) {\n",
              "        const element = document.querySelector('#df-265076f9-cea5-4de1-a427-59e1aa16147e');\n",
              "        const dataTable =\n",
              "          await google.colab.kernel.invokeFunction('convertToInteractive',\n",
              "                                                    [key], {});\n",
              "        if (!dataTable) return;\n",
              "\n",
              "        const docLinkHtml = 'Like what you see? Visit the ' +\n",
              "          '<a target=\"_blank\" href=https://colab.research.google.com/notebooks/data_table.ipynb>data table notebook</a>'\n",
              "          + ' to learn more about interactive tables.';\n",
              "        element.innerHTML = '';\n",
              "        dataTable['output_type'] = 'display_data';\n",
              "        await google.colab.output.renderOutput(dataTable, element);\n",
              "        const docLink = document.createElement('div');\n",
              "        docLink.innerHTML = docLinkHtml;\n",
              "        element.appendChild(docLink);\n",
              "      }\n",
              "    </script>\n",
              "  </div>\n",
              "\n",
              "\n",
              "<div id=\"df-e5930fa4-106d-474e-92bb-f020c4ee4607\">\n",
              "  <button class=\"colab-df-quickchart\" onclick=\"quickchart('df-e5930fa4-106d-474e-92bb-f020c4ee4607')\"\n",
              "            title=\"Suggest charts\"\n",
              "            style=\"display:none;\">\n",
              "\n",
              "<svg xmlns=\"http://www.w3.org/2000/svg\" height=\"24px\"viewBox=\"0 0 24 24\"\n",
              "     width=\"24px\">\n",
              "    <g>\n",
              "        <path d=\"M19 3H5c-1.1 0-2 .9-2 2v14c0 1.1.9 2 2 2h14c1.1 0 2-.9 2-2V5c0-1.1-.9-2-2-2zM9 17H7v-7h2v7zm4 0h-2V7h2v10zm4 0h-2v-4h2v4z\"/>\n",
              "    </g>\n",
              "</svg>\n",
              "  </button>\n",
              "\n",
              "<style>\n",
              "  .colab-df-quickchart {\n",
              "      --bg-color: #E8F0FE;\n",
              "      --fill-color: #1967D2;\n",
              "      --hover-bg-color: #E2EBFA;\n",
              "      --hover-fill-color: #174EA6;\n",
              "      --disabled-fill-color: #AAA;\n",
              "      --disabled-bg-color: #DDD;\n",
              "  }\n",
              "\n",
              "  [theme=dark] .colab-df-quickchart {\n",
              "      --bg-color: #3B4455;\n",
              "      --fill-color: #D2E3FC;\n",
              "      --hover-bg-color: #434B5C;\n",
              "      --hover-fill-color: #FFFFFF;\n",
              "      --disabled-bg-color: #3B4455;\n",
              "      --disabled-fill-color: #666;\n",
              "  }\n",
              "\n",
              "  .colab-df-quickchart {\n",
              "    background-color: var(--bg-color);\n",
              "    border: none;\n",
              "    border-radius: 50%;\n",
              "    cursor: pointer;\n",
              "    display: none;\n",
              "    fill: var(--fill-color);\n",
              "    height: 32px;\n",
              "    padding: 0;\n",
              "    width: 32px;\n",
              "  }\n",
              "\n",
              "  .colab-df-quickchart:hover {\n",
              "    background-color: var(--hover-bg-color);\n",
              "    box-shadow: 0 1px 2px rgba(60, 64, 67, 0.3), 0 1px 3px 1px rgba(60, 64, 67, 0.15);\n",
              "    fill: var(--button-hover-fill-color);\n",
              "  }\n",
              "\n",
              "  .colab-df-quickchart-complete:disabled,\n",
              "  .colab-df-quickchart-complete:disabled:hover {\n",
              "    background-color: var(--disabled-bg-color);\n",
              "    fill: var(--disabled-fill-color);\n",
              "    box-shadow: none;\n",
              "  }\n",
              "\n",
              "  .colab-df-spinner {\n",
              "    border: 2px solid var(--fill-color);\n",
              "    border-color: transparent;\n",
              "    border-bottom-color: var(--fill-color);\n",
              "    animation:\n",
              "      spin 1s steps(1) infinite;\n",
              "  }\n",
              "\n",
              "  @keyframes spin {\n",
              "    0% {\n",
              "      border-color: transparent;\n",
              "      border-bottom-color: var(--fill-color);\n",
              "      border-left-color: var(--fill-color);\n",
              "    }\n",
              "    20% {\n",
              "      border-color: transparent;\n",
              "      border-left-color: var(--fill-color);\n",
              "      border-top-color: var(--fill-color);\n",
              "    }\n",
              "    30% {\n",
              "      border-color: transparent;\n",
              "      border-left-color: var(--fill-color);\n",
              "      border-top-color: var(--fill-color);\n",
              "      border-right-color: var(--fill-color);\n",
              "    }\n",
              "    40% {\n",
              "      border-color: transparent;\n",
              "      border-right-color: var(--fill-color);\n",
              "      border-top-color: var(--fill-color);\n",
              "    }\n",
              "    60% {\n",
              "      border-color: transparent;\n",
              "      border-right-color: var(--fill-color);\n",
              "    }\n",
              "    80% {\n",
              "      border-color: transparent;\n",
              "      border-right-color: var(--fill-color);\n",
              "      border-bottom-color: var(--fill-color);\n",
              "    }\n",
              "    90% {\n",
              "      border-color: transparent;\n",
              "      border-bottom-color: var(--fill-color);\n",
              "    }\n",
              "  }\n",
              "</style>\n",
              "\n",
              "  <script>\n",
              "    async function quickchart(key) {\n",
              "      const quickchartButtonEl =\n",
              "        document.querySelector('#' + key + ' button');\n",
              "      quickchartButtonEl.disabled = true;  // To prevent multiple clicks.\n",
              "      quickchartButtonEl.classList.add('colab-df-spinner');\n",
              "      try {\n",
              "        const charts = await google.colab.kernel.invokeFunction(\n",
              "            'suggestCharts', [key], {});\n",
              "      } catch (error) {\n",
              "        console.error('Error during call to suggestCharts:', error);\n",
              "      }\n",
              "      quickchartButtonEl.classList.remove('colab-df-spinner');\n",
              "      quickchartButtonEl.classList.add('colab-df-quickchart-complete');\n",
              "    }\n",
              "    (() => {\n",
              "      let quickchartButtonEl =\n",
              "        document.querySelector('#df-e5930fa4-106d-474e-92bb-f020c4ee4607 button');\n",
              "      quickchartButtonEl.style.display =\n",
              "        google.colab.kernel.accessAllowed ? 'block' : 'none';\n",
              "    })();\n",
              "  </script>\n",
              "</div>\n",
              "\n",
              "    </div>\n",
              "  </div>\n"
            ]
          },
          "metadata": {},
          "execution_count": 10
        }
      ]
    },
    {
      "cell_type": "code",
      "source": [
        "test = pd.read_csv(\"/content/test.csv\")\n",
        "test.head()"
      ],
      "metadata": {
        "execution": {
          "iopub.status.busy": "2024-01-09T22:13:33.311245Z",
          "iopub.execute_input": "2024-01-09T22:13:33.312042Z",
          "iopub.status.idle": "2024-01-09T22:13:33.341855Z",
          "shell.execute_reply.started": "2024-01-09T22:13:33.311979Z",
          "shell.execute_reply": "2024-01-09T22:13:33.340817Z"
        },
        "trusted": true,
        "colab": {
          "base_uri": "https://localhost:8080/",
          "height": 206
        },
        "id": "i4t9hhMGsK85",
        "outputId": "dcb47cb2-a1b4-4c31-b7f7-55964ac66873"
      },
      "execution_count": 11,
      "outputs": [
        {
          "output_type": "execute_result",
          "data": {
            "text/plain": [
              "   PassengerId  Pclass                                          Name     Sex  \\\n",
              "0          892       3                              Kelly, Mr. James    male   \n",
              "1          893       3              Wilkes, Mrs. James (Ellen Needs)  female   \n",
              "2          894       2                     Myles, Mr. Thomas Francis    male   \n",
              "3          895       3                              Wirz, Mr. Albert    male   \n",
              "4          896       3  Hirvonen, Mrs. Alexander (Helga E Lindqvist)  female   \n",
              "\n",
              "    Age  SibSp  Parch   Ticket     Fare Cabin Embarked  \n",
              "0  34.5      0      0   330911   7.8292   NaN        Q  \n",
              "1  47.0      1      0   363272   7.0000   NaN        S  \n",
              "2  62.0      0      0   240276   9.6875   NaN        Q  \n",
              "3  27.0      0      0   315154   8.6625   NaN        S  \n",
              "4  22.0      1      1  3101298  12.2875   NaN        S  "
            ],
            "text/html": [
              "\n",
              "  <div id=\"df-d142cc07-116d-4c6a-bf91-8dc3f6ed5a68\" class=\"colab-df-container\">\n",
              "    <div>\n",
              "<style scoped>\n",
              "    .dataframe tbody tr th:only-of-type {\n",
              "        vertical-align: middle;\n",
              "    }\n",
              "\n",
              "    .dataframe tbody tr th {\n",
              "        vertical-align: top;\n",
              "    }\n",
              "\n",
              "    .dataframe thead th {\n",
              "        text-align: right;\n",
              "    }\n",
              "</style>\n",
              "<table border=\"1\" class=\"dataframe\">\n",
              "  <thead>\n",
              "    <tr style=\"text-align: right;\">\n",
              "      <th></th>\n",
              "      <th>PassengerId</th>\n",
              "      <th>Pclass</th>\n",
              "      <th>Name</th>\n",
              "      <th>Sex</th>\n",
              "      <th>Age</th>\n",
              "      <th>SibSp</th>\n",
              "      <th>Parch</th>\n",
              "      <th>Ticket</th>\n",
              "      <th>Fare</th>\n",
              "      <th>Cabin</th>\n",
              "      <th>Embarked</th>\n",
              "    </tr>\n",
              "  </thead>\n",
              "  <tbody>\n",
              "    <tr>\n",
              "      <th>0</th>\n",
              "      <td>892</td>\n",
              "      <td>3</td>\n",
              "      <td>Kelly, Mr. James</td>\n",
              "      <td>male</td>\n",
              "      <td>34.5</td>\n",
              "      <td>0</td>\n",
              "      <td>0</td>\n",
              "      <td>330911</td>\n",
              "      <td>7.8292</td>\n",
              "      <td>NaN</td>\n",
              "      <td>Q</td>\n",
              "    </tr>\n",
              "    <tr>\n",
              "      <th>1</th>\n",
              "      <td>893</td>\n",
              "      <td>3</td>\n",
              "      <td>Wilkes, Mrs. James (Ellen Needs)</td>\n",
              "      <td>female</td>\n",
              "      <td>47.0</td>\n",
              "      <td>1</td>\n",
              "      <td>0</td>\n",
              "      <td>363272</td>\n",
              "      <td>7.0000</td>\n",
              "      <td>NaN</td>\n",
              "      <td>S</td>\n",
              "    </tr>\n",
              "    <tr>\n",
              "      <th>2</th>\n",
              "      <td>894</td>\n",
              "      <td>2</td>\n",
              "      <td>Myles, Mr. Thomas Francis</td>\n",
              "      <td>male</td>\n",
              "      <td>62.0</td>\n",
              "      <td>0</td>\n",
              "      <td>0</td>\n",
              "      <td>240276</td>\n",
              "      <td>9.6875</td>\n",
              "      <td>NaN</td>\n",
              "      <td>Q</td>\n",
              "    </tr>\n",
              "    <tr>\n",
              "      <th>3</th>\n",
              "      <td>895</td>\n",
              "      <td>3</td>\n",
              "      <td>Wirz, Mr. Albert</td>\n",
              "      <td>male</td>\n",
              "      <td>27.0</td>\n",
              "      <td>0</td>\n",
              "      <td>0</td>\n",
              "      <td>315154</td>\n",
              "      <td>8.6625</td>\n",
              "      <td>NaN</td>\n",
              "      <td>S</td>\n",
              "    </tr>\n",
              "    <tr>\n",
              "      <th>4</th>\n",
              "      <td>896</td>\n",
              "      <td>3</td>\n",
              "      <td>Hirvonen, Mrs. Alexander (Helga E Lindqvist)</td>\n",
              "      <td>female</td>\n",
              "      <td>22.0</td>\n",
              "      <td>1</td>\n",
              "      <td>1</td>\n",
              "      <td>3101298</td>\n",
              "      <td>12.2875</td>\n",
              "      <td>NaN</td>\n",
              "      <td>S</td>\n",
              "    </tr>\n",
              "  </tbody>\n",
              "</table>\n",
              "</div>\n",
              "    <div class=\"colab-df-buttons\">\n",
              "\n",
              "  <div class=\"colab-df-container\">\n",
              "    <button class=\"colab-df-convert\" onclick=\"convertToInteractive('df-d142cc07-116d-4c6a-bf91-8dc3f6ed5a68')\"\n",
              "            title=\"Convert this dataframe to an interactive table.\"\n",
              "            style=\"display:none;\">\n",
              "\n",
              "  <svg xmlns=\"http://www.w3.org/2000/svg\" height=\"24px\" viewBox=\"0 -960 960 960\">\n",
              "    <path d=\"M120-120v-720h720v720H120Zm60-500h600v-160H180v160Zm220 220h160v-160H400v160Zm0 220h160v-160H400v160ZM180-400h160v-160H180v160Zm440 0h160v-160H620v160ZM180-180h160v-160H180v160Zm440 0h160v-160H620v160Z\"/>\n",
              "  </svg>\n",
              "    </button>\n",
              "\n",
              "  <style>\n",
              "    .colab-df-container {\n",
              "      display:flex;\n",
              "      gap: 12px;\n",
              "    }\n",
              "\n",
              "    .colab-df-convert {\n",
              "      background-color: #E8F0FE;\n",
              "      border: none;\n",
              "      border-radius: 50%;\n",
              "      cursor: pointer;\n",
              "      display: none;\n",
              "      fill: #1967D2;\n",
              "      height: 32px;\n",
              "      padding: 0 0 0 0;\n",
              "      width: 32px;\n",
              "    }\n",
              "\n",
              "    .colab-df-convert:hover {\n",
              "      background-color: #E2EBFA;\n",
              "      box-shadow: 0px 1px 2px rgba(60, 64, 67, 0.3), 0px 1px 3px 1px rgba(60, 64, 67, 0.15);\n",
              "      fill: #174EA6;\n",
              "    }\n",
              "\n",
              "    .colab-df-buttons div {\n",
              "      margin-bottom: 4px;\n",
              "    }\n",
              "\n",
              "    [theme=dark] .colab-df-convert {\n",
              "      background-color: #3B4455;\n",
              "      fill: #D2E3FC;\n",
              "    }\n",
              "\n",
              "    [theme=dark] .colab-df-convert:hover {\n",
              "      background-color: #434B5C;\n",
              "      box-shadow: 0px 1px 3px 1px rgba(0, 0, 0, 0.15);\n",
              "      filter: drop-shadow(0px 1px 2px rgba(0, 0, 0, 0.3));\n",
              "      fill: #FFFFFF;\n",
              "    }\n",
              "  </style>\n",
              "\n",
              "    <script>\n",
              "      const buttonEl =\n",
              "        document.querySelector('#df-d142cc07-116d-4c6a-bf91-8dc3f6ed5a68 button.colab-df-convert');\n",
              "      buttonEl.style.display =\n",
              "        google.colab.kernel.accessAllowed ? 'block' : 'none';\n",
              "\n",
              "      async function convertToInteractive(key) {\n",
              "        const element = document.querySelector('#df-d142cc07-116d-4c6a-bf91-8dc3f6ed5a68');\n",
              "        const dataTable =\n",
              "          await google.colab.kernel.invokeFunction('convertToInteractive',\n",
              "                                                    [key], {});\n",
              "        if (!dataTable) return;\n",
              "\n",
              "        const docLinkHtml = 'Like what you see? Visit the ' +\n",
              "          '<a target=\"_blank\" href=https://colab.research.google.com/notebooks/data_table.ipynb>data table notebook</a>'\n",
              "          + ' to learn more about interactive tables.';\n",
              "        element.innerHTML = '';\n",
              "        dataTable['output_type'] = 'display_data';\n",
              "        await google.colab.output.renderOutput(dataTable, element);\n",
              "        const docLink = document.createElement('div');\n",
              "        docLink.innerHTML = docLinkHtml;\n",
              "        element.appendChild(docLink);\n",
              "      }\n",
              "    </script>\n",
              "  </div>\n",
              "\n",
              "\n",
              "<div id=\"df-06f580af-9948-4bec-b2e3-7aa641ff201e\">\n",
              "  <button class=\"colab-df-quickchart\" onclick=\"quickchart('df-06f580af-9948-4bec-b2e3-7aa641ff201e')\"\n",
              "            title=\"Suggest charts\"\n",
              "            style=\"display:none;\">\n",
              "\n",
              "<svg xmlns=\"http://www.w3.org/2000/svg\" height=\"24px\"viewBox=\"0 0 24 24\"\n",
              "     width=\"24px\">\n",
              "    <g>\n",
              "        <path d=\"M19 3H5c-1.1 0-2 .9-2 2v14c0 1.1.9 2 2 2h14c1.1 0 2-.9 2-2V5c0-1.1-.9-2-2-2zM9 17H7v-7h2v7zm4 0h-2V7h2v10zm4 0h-2v-4h2v4z\"/>\n",
              "    </g>\n",
              "</svg>\n",
              "  </button>\n",
              "\n",
              "<style>\n",
              "  .colab-df-quickchart {\n",
              "      --bg-color: #E8F0FE;\n",
              "      --fill-color: #1967D2;\n",
              "      --hover-bg-color: #E2EBFA;\n",
              "      --hover-fill-color: #174EA6;\n",
              "      --disabled-fill-color: #AAA;\n",
              "      --disabled-bg-color: #DDD;\n",
              "  }\n",
              "\n",
              "  [theme=dark] .colab-df-quickchart {\n",
              "      --bg-color: #3B4455;\n",
              "      --fill-color: #D2E3FC;\n",
              "      --hover-bg-color: #434B5C;\n",
              "      --hover-fill-color: #FFFFFF;\n",
              "      --disabled-bg-color: #3B4455;\n",
              "      --disabled-fill-color: #666;\n",
              "  }\n",
              "\n",
              "  .colab-df-quickchart {\n",
              "    background-color: var(--bg-color);\n",
              "    border: none;\n",
              "    border-radius: 50%;\n",
              "    cursor: pointer;\n",
              "    display: none;\n",
              "    fill: var(--fill-color);\n",
              "    height: 32px;\n",
              "    padding: 0;\n",
              "    width: 32px;\n",
              "  }\n",
              "\n",
              "  .colab-df-quickchart:hover {\n",
              "    background-color: var(--hover-bg-color);\n",
              "    box-shadow: 0 1px 2px rgba(60, 64, 67, 0.3), 0 1px 3px 1px rgba(60, 64, 67, 0.15);\n",
              "    fill: var(--button-hover-fill-color);\n",
              "  }\n",
              "\n",
              "  .colab-df-quickchart-complete:disabled,\n",
              "  .colab-df-quickchart-complete:disabled:hover {\n",
              "    background-color: var(--disabled-bg-color);\n",
              "    fill: var(--disabled-fill-color);\n",
              "    box-shadow: none;\n",
              "  }\n",
              "\n",
              "  .colab-df-spinner {\n",
              "    border: 2px solid var(--fill-color);\n",
              "    border-color: transparent;\n",
              "    border-bottom-color: var(--fill-color);\n",
              "    animation:\n",
              "      spin 1s steps(1) infinite;\n",
              "  }\n",
              "\n",
              "  @keyframes spin {\n",
              "    0% {\n",
              "      border-color: transparent;\n",
              "      border-bottom-color: var(--fill-color);\n",
              "      border-left-color: var(--fill-color);\n",
              "    }\n",
              "    20% {\n",
              "      border-color: transparent;\n",
              "      border-left-color: var(--fill-color);\n",
              "      border-top-color: var(--fill-color);\n",
              "    }\n",
              "    30% {\n",
              "      border-color: transparent;\n",
              "      border-left-color: var(--fill-color);\n",
              "      border-top-color: var(--fill-color);\n",
              "      border-right-color: var(--fill-color);\n",
              "    }\n",
              "    40% {\n",
              "      border-color: transparent;\n",
              "      border-right-color: var(--fill-color);\n",
              "      border-top-color: var(--fill-color);\n",
              "    }\n",
              "    60% {\n",
              "      border-color: transparent;\n",
              "      border-right-color: var(--fill-color);\n",
              "    }\n",
              "    80% {\n",
              "      border-color: transparent;\n",
              "      border-right-color: var(--fill-color);\n",
              "      border-bottom-color: var(--fill-color);\n",
              "    }\n",
              "    90% {\n",
              "      border-color: transparent;\n",
              "      border-bottom-color: var(--fill-color);\n",
              "    }\n",
              "  }\n",
              "</style>\n",
              "\n",
              "  <script>\n",
              "    async function quickchart(key) {\n",
              "      const quickchartButtonEl =\n",
              "        document.querySelector('#' + key + ' button');\n",
              "      quickchartButtonEl.disabled = true;  // To prevent multiple clicks.\n",
              "      quickchartButtonEl.classList.add('colab-df-spinner');\n",
              "      try {\n",
              "        const charts = await google.colab.kernel.invokeFunction(\n",
              "            'suggestCharts', [key], {});\n",
              "      } catch (error) {\n",
              "        console.error('Error during call to suggestCharts:', error);\n",
              "      }\n",
              "      quickchartButtonEl.classList.remove('colab-df-spinner');\n",
              "      quickchartButtonEl.classList.add('colab-df-quickchart-complete');\n",
              "    }\n",
              "    (() => {\n",
              "      let quickchartButtonEl =\n",
              "        document.querySelector('#df-06f580af-9948-4bec-b2e3-7aa641ff201e button');\n",
              "      quickchartButtonEl.style.display =\n",
              "        google.colab.kernel.accessAllowed ? 'block' : 'none';\n",
              "    })();\n",
              "  </script>\n",
              "</div>\n",
              "\n",
              "    </div>\n",
              "  </div>\n"
            ]
          },
          "metadata": {},
          "execution_count": 11
        }
      ]
    },
    {
      "cell_type": "markdown",
      "source": [
        "**This data processing process below, despite seeming long, is nothing more than all the treatments I did in the previous three versions, treating all null values, and transforming/creating columns so that the algorithm can have greater precision, more details in the respective versions:**\n",
        "\n",
        "[Version 1](https://github.com/LucasNatalePires/kaggle_titanic/blob/main/titanic_version1.ipynb)\n",
        "\n",
        "[Version 2](https://github.com/LucasNatalePires/kaggle_titanic/blob/main/titanic_version2.ipynb)\n",
        "\n",
        "[Version 3](https://github.com/LucasNatalePires/kaggle_titanic/blob/main/titanic_version3.ipynb)\n",
        "\n",
        "[Version 4](https://github.com/LucasNatalePires/kaggle_titanic/blob/main/titanic_version4.ipynb)"
      ],
      "metadata": {
        "id": "0E-6p5j3sK85"
      }
    },
    {
      "cell_type": "code",
      "source": [
        "#Version 1\n",
        "\n",
        "#Deleting those colums from train\n",
        "train = train.drop(['Name','Ticket','Cabin'],axis=1)\n",
        "#Deleting those colums from train\n",
        "test = test.drop(['Name','Ticket','Cabin'],axis=1)\n",
        "\n",
        "\n",
        "\n",
        "# Now it's time to deal with null values, starting with age\n",
        "train_age = train.Age.mean()\n",
        "test_age = test.Age.mean()\n",
        "train.loc[train.Age.isnull(),'Age'] = train_age\n",
        "test.loc[test.Age.isnull(),'Age'] = test_age\n",
        "\n",
        "\n",
        "#Treating null values in the fare column\n",
        "test_fare = test.Fare.mean()\n",
        "test.loc[test.Fare.isnull(),'Fare'] = test_fare\n",
        "\n",
        "\n",
        "#Treating null values in the embarked column\n",
        "train_embarked = train.Embarked.mode()[0]\n",
        "train.loc[train.Embarked.isnull(),'Embarked'] = train_embarked"
      ],
      "metadata": {
        "execution": {
          "iopub.status.busy": "2024-01-09T22:13:33.385508Z",
          "iopub.execute_input": "2024-01-09T22:13:33.386328Z",
          "iopub.status.idle": "2024-01-09T22:13:33.402730Z",
          "shell.execute_reply.started": "2024-01-09T22:13:33.386280Z",
          "shell.execute_reply": "2024-01-09T22:13:33.401608Z"
        },
        "trusted": true,
        "id": "nidAus8PsK87"
      },
      "execution_count": 12,
      "outputs": []
    },
    {
      "cell_type": "code",
      "source": [
        "#Version 2\n",
        "\n",
        "#Function to check and change the 'female' data to '1', so I can work with more data in the model used.\n",
        "train['MaleCheck'] = train.Sex.apply(lambda x:1 if x == 'male' else 0)\n",
        "\n",
        "#Let's repeat the same thing with the datas from test\n",
        "test['MaleCheck'] = test.Sex.apply(lambda x:1 if x == 'male' else 0)"
      ],
      "metadata": {
        "execution": {
          "iopub.status.busy": "2024-01-09T22:13:33.454293Z",
          "iopub.execute_input": "2024-01-09T22:13:33.454895Z",
          "iopub.status.idle": "2024-01-09T22:13:33.465955Z",
          "shell.execute_reply.started": "2024-01-09T22:13:33.454847Z",
          "shell.execute_reply": "2024-01-09T22:13:33.464202Z"
        },
        "trusted": true,
        "id": "L9yJ0h_hsK88"
      },
      "execution_count": 13,
      "outputs": []
    },
    {
      "cell_type": "markdown",
      "source": [
        "**As I said previously about \"work for nothing\" or mistakes, in this function to check the passenger's sexuality, I initially checked if it was female, and yes, I would do the other steps. When I calculated the accuracy using the MLP Classifier, the value was 0.8135593220338984. Analyzing the code again, I replaced 'check female' with 'check male', despite a simple change, the accuracy rose to 0.8305084745762712**"
      ],
      "metadata": {
        "id": "iYkNpuRIsK88"
      }
    },
    {
      "cell_type": "code",
      "source": [
        "#Version 3\n",
        "\n",
        "#Import\n",
        "from sklearn.preprocessing import RobustScaler\n",
        "#Creating the scaler\n",
        "transformer = RobustScaler().fit(train[['Age','Fare']])\n",
        "#Transforming the datas\n",
        "train[['Age', 'Fare']] = transformer.transform(train[['Age','Fare']])\n",
        "\n",
        "#Creating the scaler\n",
        "transformer = RobustScaler().fit(test[['Age','Fare']])\n",
        "test[['Age', 'Fare']] = transformer.transform(test[['Age','Fare']])\n",
        "\n",
        "\n",
        "#Create a function to check if the person is alone\n",
        "def check_alone(x,y):\n",
        "    if (x == 0 and y == 0):\n",
        "        return 1\n",
        "    else:\n",
        "        return 0\n",
        "#Create the column and apply the function\n",
        "train['Alone'] = train.apply(lambda x:check_alone(x.SibSp, x.Parch), axis=1)\n",
        "#Create the column and apply the function\n",
        "test['Alone'] = test.apply(lambda x:check_alone(x.SibSp, x.Parch), axis=1)\n",
        "\n",
        "\n",
        "#Creating the column 'relatives' on train\n",
        "train['Relatives'] = train['SibSp'] + train['Parch']\n",
        "#Doing the same thing on test\n",
        "test['Relatives'] = test['SibSp'] + test['Parch']\n",
        "\n",
        "\n",
        "#Treating the column 'Embarked'\n",
        "#Import\n",
        "from sklearn.preprocessing import OrdinalEncoder\n",
        "#Creating the encoder\n",
        "ports = ['S','C','Q']\n",
        "enc = OrdinalEncoder(categories=[ports],dtype = 'int32')\n",
        "#Fit with datas\n",
        "enc = enc.fit(train[['Embarked']])\n",
        "# Add these datas on the column train\n",
        "train['Embarked'] = enc.transform(train[['Embarked']])\n",
        "#The same job with test, Fit with datas\n",
        "enc = enc.fit(test[['Embarked']])\n",
        "# Add these datas on the column test\n",
        "test['Embarked'] = enc.transform(test[['Embarked']])\n",
        "\n",
        "\n",
        "#Delete the column 'Sex'\n",
        "test = test.drop('Sex', axis=1)\n",
        "train = train.drop('Sex',axis=1)"
      ],
      "metadata": {
        "execution": {
          "iopub.status.busy": "2024-01-09T22:13:33.585359Z",
          "iopub.execute_input": "2024-01-09T22:13:33.586137Z",
          "iopub.status.idle": "2024-01-09T22:13:33.667230Z",
          "shell.execute_reply.started": "2024-01-09T22:13:33.586097Z",
          "shell.execute_reply": "2024-01-09T22:13:33.666330Z"
        },
        "trusted": true,
        "id": "nBZb8bFusK89"
      },
      "execution_count": 14,
      "outputs": []
    },
    {
      "cell_type": "code",
      "source": [
        "#View the treated dataset\n",
        "train.head(3)"
      ],
      "metadata": {
        "execution": {
          "iopub.status.busy": "2024-01-09T22:13:33.669114Z",
          "iopub.execute_input": "2024-01-09T22:13:33.669726Z",
          "iopub.status.idle": "2024-01-09T22:13:33.684765Z",
          "shell.execute_reply.started": "2024-01-09T22:13:33.669691Z",
          "shell.execute_reply": "2024-01-09T22:13:33.683244Z"
        },
        "trusted": true,
        "colab": {
          "base_uri": "https://localhost:8080/",
          "height": 143
        },
        "id": "B0QJ-GlxsK8-",
        "outputId": "01940222-c894-4088-a5ad-f5d38056c669"
      },
      "execution_count": 15,
      "outputs": [
        {
          "output_type": "execute_result",
          "data": {
            "text/plain": [
              "   PassengerId  Survived  Pclass       Age  SibSp  Parch      Fare  Embarked  \\\n",
              "0            1         0       3 -0.592240      1      0 -0.312011         0   \n",
              "1            2         1       1  0.638529      1      0  2.461242         1   \n",
              "2            3         1       3 -0.284548      0      0 -0.282777         0   \n",
              "\n",
              "   MaleCheck  Alone  Relatives  \n",
              "0          1      0          1  \n",
              "1          0      0          1  \n",
              "2          0      1          0  "
            ],
            "text/html": [
              "\n",
              "  <div id=\"df-4415fe48-ad1b-47a9-a279-5d885c71f6e9\" class=\"colab-df-container\">\n",
              "    <div>\n",
              "<style scoped>\n",
              "    .dataframe tbody tr th:only-of-type {\n",
              "        vertical-align: middle;\n",
              "    }\n",
              "\n",
              "    .dataframe tbody tr th {\n",
              "        vertical-align: top;\n",
              "    }\n",
              "\n",
              "    .dataframe thead th {\n",
              "        text-align: right;\n",
              "    }\n",
              "</style>\n",
              "<table border=\"1\" class=\"dataframe\">\n",
              "  <thead>\n",
              "    <tr style=\"text-align: right;\">\n",
              "      <th></th>\n",
              "      <th>PassengerId</th>\n",
              "      <th>Survived</th>\n",
              "      <th>Pclass</th>\n",
              "      <th>Age</th>\n",
              "      <th>SibSp</th>\n",
              "      <th>Parch</th>\n",
              "      <th>Fare</th>\n",
              "      <th>Embarked</th>\n",
              "      <th>MaleCheck</th>\n",
              "      <th>Alone</th>\n",
              "      <th>Relatives</th>\n",
              "    </tr>\n",
              "  </thead>\n",
              "  <tbody>\n",
              "    <tr>\n",
              "      <th>0</th>\n",
              "      <td>1</td>\n",
              "      <td>0</td>\n",
              "      <td>3</td>\n",
              "      <td>-0.592240</td>\n",
              "      <td>1</td>\n",
              "      <td>0</td>\n",
              "      <td>-0.312011</td>\n",
              "      <td>0</td>\n",
              "      <td>1</td>\n",
              "      <td>0</td>\n",
              "      <td>1</td>\n",
              "    </tr>\n",
              "    <tr>\n",
              "      <th>1</th>\n",
              "      <td>2</td>\n",
              "      <td>1</td>\n",
              "      <td>1</td>\n",
              "      <td>0.638529</td>\n",
              "      <td>1</td>\n",
              "      <td>0</td>\n",
              "      <td>2.461242</td>\n",
              "      <td>1</td>\n",
              "      <td>0</td>\n",
              "      <td>0</td>\n",
              "      <td>1</td>\n",
              "    </tr>\n",
              "    <tr>\n",
              "      <th>2</th>\n",
              "      <td>3</td>\n",
              "      <td>1</td>\n",
              "      <td>3</td>\n",
              "      <td>-0.284548</td>\n",
              "      <td>0</td>\n",
              "      <td>0</td>\n",
              "      <td>-0.282777</td>\n",
              "      <td>0</td>\n",
              "      <td>0</td>\n",
              "      <td>1</td>\n",
              "      <td>0</td>\n",
              "    </tr>\n",
              "  </tbody>\n",
              "</table>\n",
              "</div>\n",
              "    <div class=\"colab-df-buttons\">\n",
              "\n",
              "  <div class=\"colab-df-container\">\n",
              "    <button class=\"colab-df-convert\" onclick=\"convertToInteractive('df-4415fe48-ad1b-47a9-a279-5d885c71f6e9')\"\n",
              "            title=\"Convert this dataframe to an interactive table.\"\n",
              "            style=\"display:none;\">\n",
              "\n",
              "  <svg xmlns=\"http://www.w3.org/2000/svg\" height=\"24px\" viewBox=\"0 -960 960 960\">\n",
              "    <path d=\"M120-120v-720h720v720H120Zm60-500h600v-160H180v160Zm220 220h160v-160H400v160Zm0 220h160v-160H400v160ZM180-400h160v-160H180v160Zm440 0h160v-160H620v160ZM180-180h160v-160H180v160Zm440 0h160v-160H620v160Z\"/>\n",
              "  </svg>\n",
              "    </button>\n",
              "\n",
              "  <style>\n",
              "    .colab-df-container {\n",
              "      display:flex;\n",
              "      gap: 12px;\n",
              "    }\n",
              "\n",
              "    .colab-df-convert {\n",
              "      background-color: #E8F0FE;\n",
              "      border: none;\n",
              "      border-radius: 50%;\n",
              "      cursor: pointer;\n",
              "      display: none;\n",
              "      fill: #1967D2;\n",
              "      height: 32px;\n",
              "      padding: 0 0 0 0;\n",
              "      width: 32px;\n",
              "    }\n",
              "\n",
              "    .colab-df-convert:hover {\n",
              "      background-color: #E2EBFA;\n",
              "      box-shadow: 0px 1px 2px rgba(60, 64, 67, 0.3), 0px 1px 3px 1px rgba(60, 64, 67, 0.15);\n",
              "      fill: #174EA6;\n",
              "    }\n",
              "\n",
              "    .colab-df-buttons div {\n",
              "      margin-bottom: 4px;\n",
              "    }\n",
              "\n",
              "    [theme=dark] .colab-df-convert {\n",
              "      background-color: #3B4455;\n",
              "      fill: #D2E3FC;\n",
              "    }\n",
              "\n",
              "    [theme=dark] .colab-df-convert:hover {\n",
              "      background-color: #434B5C;\n",
              "      box-shadow: 0px 1px 3px 1px rgba(0, 0, 0, 0.15);\n",
              "      filter: drop-shadow(0px 1px 2px rgba(0, 0, 0, 0.3));\n",
              "      fill: #FFFFFF;\n",
              "    }\n",
              "  </style>\n",
              "\n",
              "    <script>\n",
              "      const buttonEl =\n",
              "        document.querySelector('#df-4415fe48-ad1b-47a9-a279-5d885c71f6e9 button.colab-df-convert');\n",
              "      buttonEl.style.display =\n",
              "        google.colab.kernel.accessAllowed ? 'block' : 'none';\n",
              "\n",
              "      async function convertToInteractive(key) {\n",
              "        const element = document.querySelector('#df-4415fe48-ad1b-47a9-a279-5d885c71f6e9');\n",
              "        const dataTable =\n",
              "          await google.colab.kernel.invokeFunction('convertToInteractive',\n",
              "                                                    [key], {});\n",
              "        if (!dataTable) return;\n",
              "\n",
              "        const docLinkHtml = 'Like what you see? Visit the ' +\n",
              "          '<a target=\"_blank\" href=https://colab.research.google.com/notebooks/data_table.ipynb>data table notebook</a>'\n",
              "          + ' to learn more about interactive tables.';\n",
              "        element.innerHTML = '';\n",
              "        dataTable['output_type'] = 'display_data';\n",
              "        await google.colab.output.renderOutput(dataTable, element);\n",
              "        const docLink = document.createElement('div');\n",
              "        docLink.innerHTML = docLinkHtml;\n",
              "        element.appendChild(docLink);\n",
              "      }\n",
              "    </script>\n",
              "  </div>\n",
              "\n",
              "\n",
              "<div id=\"df-be8cdba1-0ebe-4c72-894a-d948057d825b\">\n",
              "  <button class=\"colab-df-quickchart\" onclick=\"quickchart('df-be8cdba1-0ebe-4c72-894a-d948057d825b')\"\n",
              "            title=\"Suggest charts\"\n",
              "            style=\"display:none;\">\n",
              "\n",
              "<svg xmlns=\"http://www.w3.org/2000/svg\" height=\"24px\"viewBox=\"0 0 24 24\"\n",
              "     width=\"24px\">\n",
              "    <g>\n",
              "        <path d=\"M19 3H5c-1.1 0-2 .9-2 2v14c0 1.1.9 2 2 2h14c1.1 0 2-.9 2-2V5c0-1.1-.9-2-2-2zM9 17H7v-7h2v7zm4 0h-2V7h2v10zm4 0h-2v-4h2v4z\"/>\n",
              "    </g>\n",
              "</svg>\n",
              "  </button>\n",
              "\n",
              "<style>\n",
              "  .colab-df-quickchart {\n",
              "      --bg-color: #E8F0FE;\n",
              "      --fill-color: #1967D2;\n",
              "      --hover-bg-color: #E2EBFA;\n",
              "      --hover-fill-color: #174EA6;\n",
              "      --disabled-fill-color: #AAA;\n",
              "      --disabled-bg-color: #DDD;\n",
              "  }\n",
              "\n",
              "  [theme=dark] .colab-df-quickchart {\n",
              "      --bg-color: #3B4455;\n",
              "      --fill-color: #D2E3FC;\n",
              "      --hover-bg-color: #434B5C;\n",
              "      --hover-fill-color: #FFFFFF;\n",
              "      --disabled-bg-color: #3B4455;\n",
              "      --disabled-fill-color: #666;\n",
              "  }\n",
              "\n",
              "  .colab-df-quickchart {\n",
              "    background-color: var(--bg-color);\n",
              "    border: none;\n",
              "    border-radius: 50%;\n",
              "    cursor: pointer;\n",
              "    display: none;\n",
              "    fill: var(--fill-color);\n",
              "    height: 32px;\n",
              "    padding: 0;\n",
              "    width: 32px;\n",
              "  }\n",
              "\n",
              "  .colab-df-quickchart:hover {\n",
              "    background-color: var(--hover-bg-color);\n",
              "    box-shadow: 0 1px 2px rgba(60, 64, 67, 0.3), 0 1px 3px 1px rgba(60, 64, 67, 0.15);\n",
              "    fill: var(--button-hover-fill-color);\n",
              "  }\n",
              "\n",
              "  .colab-df-quickchart-complete:disabled,\n",
              "  .colab-df-quickchart-complete:disabled:hover {\n",
              "    background-color: var(--disabled-bg-color);\n",
              "    fill: var(--disabled-fill-color);\n",
              "    box-shadow: none;\n",
              "  }\n",
              "\n",
              "  .colab-df-spinner {\n",
              "    border: 2px solid var(--fill-color);\n",
              "    border-color: transparent;\n",
              "    border-bottom-color: var(--fill-color);\n",
              "    animation:\n",
              "      spin 1s steps(1) infinite;\n",
              "  }\n",
              "\n",
              "  @keyframes spin {\n",
              "    0% {\n",
              "      border-color: transparent;\n",
              "      border-bottom-color: var(--fill-color);\n",
              "      border-left-color: var(--fill-color);\n",
              "    }\n",
              "    20% {\n",
              "      border-color: transparent;\n",
              "      border-left-color: var(--fill-color);\n",
              "      border-top-color: var(--fill-color);\n",
              "    }\n",
              "    30% {\n",
              "      border-color: transparent;\n",
              "      border-left-color: var(--fill-color);\n",
              "      border-top-color: var(--fill-color);\n",
              "      border-right-color: var(--fill-color);\n",
              "    }\n",
              "    40% {\n",
              "      border-color: transparent;\n",
              "      border-right-color: var(--fill-color);\n",
              "      border-top-color: var(--fill-color);\n",
              "    }\n",
              "    60% {\n",
              "      border-color: transparent;\n",
              "      border-right-color: var(--fill-color);\n",
              "    }\n",
              "    80% {\n",
              "      border-color: transparent;\n",
              "      border-right-color: var(--fill-color);\n",
              "      border-bottom-color: var(--fill-color);\n",
              "    }\n",
              "    90% {\n",
              "      border-color: transparent;\n",
              "      border-bottom-color: var(--fill-color);\n",
              "    }\n",
              "  }\n",
              "</style>\n",
              "\n",
              "  <script>\n",
              "    async function quickchart(key) {\n",
              "      const quickchartButtonEl =\n",
              "        document.querySelector('#' + key + ' button');\n",
              "      quickchartButtonEl.disabled = true;  // To prevent multiple clicks.\n",
              "      quickchartButtonEl.classList.add('colab-df-spinner');\n",
              "      try {\n",
              "        const charts = await google.colab.kernel.invokeFunction(\n",
              "            'suggestCharts', [key], {});\n",
              "      } catch (error) {\n",
              "        console.error('Error during call to suggestCharts:', error);\n",
              "      }\n",
              "      quickchartButtonEl.classList.remove('colab-df-spinner');\n",
              "      quickchartButtonEl.classList.add('colab-df-quickchart-complete');\n",
              "    }\n",
              "    (() => {\n",
              "      let quickchartButtonEl =\n",
              "        document.querySelector('#df-be8cdba1-0ebe-4c72-894a-d948057d825b button');\n",
              "      quickchartButtonEl.style.display =\n",
              "        google.colab.kernel.accessAllowed ? 'block' : 'none';\n",
              "    })();\n",
              "  </script>\n",
              "</div>\n",
              "\n",
              "    </div>\n",
              "  </div>\n"
            ]
          },
          "metadata": {},
          "execution_count": 15
        }
      ]
    },
    {
      "cell_type": "markdown",
      "source": [
        "**Separating the file in train and test, As this process has already been done several times, I will not focus on it again.**\n",
        "\n",
        "**[train_test_split](https://scikit-learn.org/stable/modules/generated/sklearn.model_selection.train_test_split.html)**"
      ],
      "metadata": {
        "id": "5BcfvQKksK8-"
      }
    },
    {
      "cell_type": "code",
      "source": [
        "#Import\n",
        "from sklearn.model_selection import train_test_split\n",
        "\n",
        "#Separating the training base into X and y\n",
        "X = train.drop(['PassengerId','Survived'], axis = 1)\n",
        "y = train.Survived\n",
        "\n",
        "#Separate train and validation\n",
        "X_train, X_validation, y_train, y_validation = train_test_split(X, y, test_size=0.33, random_state=42)"
      ],
      "metadata": {
        "execution": {
          "iopub.status.busy": "2024-01-09T22:13:33.687106Z",
          "iopub.execute_input": "2024-01-09T22:13:33.687753Z",
          "iopub.status.idle": "2024-01-09T22:13:33.700512Z",
          "shell.execute_reply.started": "2024-01-09T22:13:33.687707Z",
          "shell.execute_reply": "2024-01-09T22:13:33.699129Z"
        },
        "trusted": true,
        "id": "p9xLMK4lsK8_"
      },
      "execution_count": 16,
      "outputs": []
    },
    {
      "cell_type": "markdown",
      "source": [
        "**Based on the accuracy of the algorithms used, it was found that logistic regression had better performance, so I will not include KNC or Tree Decision, but I will include other algorithms, to see if there is any improvement**\n",
        "\n",
        "**[Logistic regression](https://scikitlearn.org/stable/modules/generated/sklearn.linear_model.LogisticRegression.html#sklearn.linear_model.LogisticRegression)**\n",
        "\n",
        "**[Random Forest](https://scikit-learn.org/stable/modules/generated/sklearn.ensemble.RandomForestClassifier.html)**\n",
        "\n",
        "**[MPL Classifier](https://scikit-learn.org/stable/modules/generated/sklearn.neural_network.MLPClassifier.html#sklearn.neural_network.MLPClassifier)**\n",
        "\n",
        "**After that, let's import the [accuracy](https://scikit-learn.org/stable/modules/generated/sklearn.metrics.accuracy_score.html) and see the results**\n",
        "\n",
        "**I will check the [confusion matrix](https://scikit-learn.org/stable/modules/generated/sklearn.metrics.confusion_matrix.html) and finally, submit the predict**"
      ],
      "metadata": {
        "id": "c3e0Pf_qsK8_"
      }
    },
    {
      "cell_type": "code",
      "source": [
        "from sklearn.linear_model import LogisticRegression\n",
        "\n",
        "# Creating the classifier\n",
        "clf_lr = LogisticRegression(random_state=42)\n",
        "\n",
        "# Fit with data\n",
        "clf_lr = clf_lr.fit(X_train,y_train)\n",
        "\n",
        "# Making the predction\n",
        "y_pred_lr = clf_lr.predict(X_validation)"
      ],
      "metadata": {
        "execution": {
          "iopub.status.busy": "2024-01-09T22:13:33.702913Z",
          "iopub.execute_input": "2024-01-09T22:13:33.703570Z",
          "iopub.status.idle": "2024-01-09T22:13:33.733255Z",
          "shell.execute_reply.started": "2024-01-09T22:13:33.703524Z",
          "shell.execute_reply": "2024-01-09T22:13:33.732116Z"
        },
        "trusted": true,
        "id": "PWEJi3YYsK9B"
      },
      "execution_count": 17,
      "outputs": []
    },
    {
      "cell_type": "code",
      "source": [
        "#Import\n",
        "from sklearn.ensemble import RandomForestClassifier\n",
        "\n",
        "# Creating the Classifier\n",
        "clf_rf = RandomForestClassifier(random_state=42)\n",
        "\n",
        "# Fit with datas\n",
        "clf_rf = clf_rf.fit(X_train, y_train)\n",
        "\n",
        "# Making the predction\n",
        "y_pred_rf = clf_rf.predict(X_validation)\n"
      ],
      "metadata": {
        "execution": {
          "iopub.status.busy": "2024-01-09T22:13:33.740138Z",
          "iopub.execute_input": "2024-01-09T22:13:33.740764Z",
          "iopub.status.idle": "2024-01-09T22:13:34.028640Z",
          "shell.execute_reply.started": "2024-01-09T22:13:33.740729Z",
          "shell.execute_reply": "2024-01-09T22:13:34.027510Z"
        },
        "trusted": true,
        "id": "ZqzEINFUsK9B"
      },
      "execution_count": 18,
      "outputs": []
    },
    {
      "cell_type": "code",
      "source": [
        "#Import\n",
        "from sklearn.neural_network import MLPClassifier\n",
        "\n",
        "# Creating the Classifier\n",
        "clf_mlp = MLPClassifier(random_state=42, max_iter= 5000)\n",
        "\n",
        "# Fit with datas\n",
        "clf_mlp = clf_mlp.fit(X_train, y_train)\n",
        "\n",
        "# Making the predction\n",
        "y_pred_mlp = clf_mlp.predict(X_validation)"
      ],
      "metadata": {
        "execution": {
          "iopub.status.busy": "2024-01-09T22:13:34.030873Z",
          "iopub.execute_input": "2024-01-09T22:13:34.031419Z",
          "iopub.status.idle": "2024-01-09T22:13:40.698689Z",
          "shell.execute_reply.started": "2024-01-09T22:13:34.031366Z",
          "shell.execute_reply": "2024-01-09T22:13:40.696903Z"
        },
        "trusted": true,
        "id": "Mo3wZqHLsK9B"
      },
      "execution_count": 19,
      "outputs": []
    },
    {
      "cell_type": "code",
      "source": [
        "#Import\n",
        "from sklearn.metrics import accuracy_score\n",
        "#Logistic Regression accuracy\n",
        "accuracy_score(y_validation,y_pred_lr)"
      ],
      "metadata": {
        "execution": {
          "iopub.status.busy": "2024-01-09T22:13:40.701690Z",
          "iopub.execute_input": "2024-01-09T22:13:40.702963Z",
          "iopub.status.idle": "2024-01-09T22:13:40.716972Z",
          "shell.execute_reply.started": "2024-01-09T22:13:40.702897Z",
          "shell.execute_reply": "2024-01-09T22:13:40.715489Z"
        },
        "trusted": true,
        "colab": {
          "base_uri": "https://localhost:8080/"
        },
        "id": "Cgbn0YMssK9C",
        "outputId": "515ab784-8b35-4cb8-9581-3d84065ddf51"
      },
      "execution_count": 20,
      "outputs": [
        {
          "output_type": "execute_result",
          "data": {
            "text/plain": [
              "0.8067796610169492"
            ]
          },
          "metadata": {},
          "execution_count": 20
        }
      ]
    },
    {
      "cell_type": "code",
      "source": [
        "# Random Forest accuracy\n",
        "accuracy_score(y_validation, y_pred_rf)"
      ],
      "metadata": {
        "colab": {
          "base_uri": "https://localhost:8080/"
        },
        "id": "XFQCMQIUWPJr",
        "outputId": "290760f9-16a6-4ec6-f631-80cc0132e8c2"
      },
      "execution_count": 21,
      "outputs": [
        {
          "output_type": "execute_result",
          "data": {
            "text/plain": [
              "0.7898305084745763"
            ]
          },
          "metadata": {},
          "execution_count": 21
        }
      ]
    },
    {
      "cell_type": "code",
      "source": [
        "# mpl accuracy\n",
        "accuracy_score(y_validation,y_pred_mlp)"
      ],
      "metadata": {
        "execution": {
          "iopub.status.busy": "2024-01-09T22:13:40.721877Z",
          "iopub.execute_input": "2024-01-09T22:13:40.723204Z",
          "iopub.status.idle": "2024-01-09T22:13:40.737863Z",
          "shell.execute_reply.started": "2024-01-09T22:13:40.723130Z",
          "shell.execute_reply": "2024-01-09T22:13:40.736350Z"
        },
        "trusted": true,
        "colab": {
          "base_uri": "https://localhost:8080/"
        },
        "id": "LGram1JVsK9C",
        "outputId": "e699a654-be52-4fdc-dac8-1eacf447000b"
      },
      "execution_count": 22,
      "outputs": [
        {
          "output_type": "execute_result",
          "data": {
            "text/plain": [
              "0.8305084745762712"
            ]
          },
          "metadata": {},
          "execution_count": 22
        }
      ]
    },
    {
      "cell_type": "code",
      "source": [
        "#Import\n",
        "from sklearn.metrics import confusion_matrix"
      ],
      "metadata": {
        "execution": {
          "iopub.status.busy": "2024-01-09T22:13:40.748184Z",
          "iopub.execute_input": "2024-01-09T22:13:40.749580Z",
          "iopub.status.idle": "2024-01-09T22:13:40.757466Z",
          "shell.execute_reply.started": "2024-01-09T22:13:40.749505Z",
          "shell.execute_reply": "2024-01-09T22:13:40.755521Z"
        },
        "trusted": true,
        "id": "iYYyZir8sK9D"
      },
      "execution_count": 23,
      "outputs": []
    },
    {
      "cell_type": "code",
      "source": [
        "#logistic regression confusion_matrix\n",
        "confusion_matrix(y_validation, y_pred_lr)"
      ],
      "metadata": {
        "execution": {
          "iopub.status.busy": "2024-01-09T22:13:40.759856Z",
          "iopub.execute_input": "2024-01-09T22:13:40.761236Z",
          "iopub.status.idle": "2024-01-09T22:13:40.788895Z",
          "shell.execute_reply.started": "2024-01-09T22:13:40.761171Z",
          "shell.execute_reply": "2024-01-09T22:13:40.787111Z"
        },
        "trusted": true,
        "colab": {
          "base_uri": "https://localhost:8080/"
        },
        "id": "3m7JYbGmsK9D",
        "outputId": "d453f077-6596-49d0-fe97-55d1972a0581"
      },
      "execution_count": 24,
      "outputs": [
        {
          "output_type": "execute_result",
          "data": {
            "text/plain": [
              "array([[152,  23],\n",
              "       [ 34,  86]])"
            ]
          },
          "metadata": {},
          "execution_count": 24
        }
      ]
    },
    {
      "cell_type": "code",
      "source": [
        "#random forest confusion_matrix\n",
        "confusion_matrix(y_validation, y_pred_rf)"
      ],
      "metadata": {
        "execution": {
          "iopub.status.busy": "2024-01-09T22:13:40.792719Z",
          "iopub.execute_input": "2024-01-09T22:13:40.794024Z",
          "iopub.status.idle": "2024-01-09T22:13:40.819225Z",
          "shell.execute_reply.started": "2024-01-09T22:13:40.793938Z",
          "shell.execute_reply": "2024-01-09T22:13:40.818033Z"
        },
        "trusted": true,
        "colab": {
          "base_uri": "https://localhost:8080/"
        },
        "id": "wHK5pGjrsK9D",
        "outputId": "88670e97-4888-4d87-fdc4-e20c377f5bea"
      },
      "execution_count": 25,
      "outputs": [
        {
          "output_type": "execute_result",
          "data": {
            "text/plain": [
              "array([[148,  27],\n",
              "       [ 35,  85]])"
            ]
          },
          "metadata": {},
          "execution_count": 25
        }
      ]
    },
    {
      "cell_type": "code",
      "source": [
        "# mlp Classifier confusion_matrix\n",
        "confusion_matrix(y_validation, y_pred_mlp)"
      ],
      "metadata": {
        "execution": {
          "iopub.status.busy": "2024-01-09T22:13:40.821281Z",
          "iopub.execute_input": "2024-01-09T22:13:40.822114Z",
          "iopub.status.idle": "2024-01-09T22:13:40.832778Z",
          "shell.execute_reply.started": "2024-01-09T22:13:40.822067Z",
          "shell.execute_reply": "2024-01-09T22:13:40.831439Z"
        },
        "trusted": true,
        "colab": {
          "base_uri": "https://localhost:8080/"
        },
        "id": "wSKXdJnRsK9E",
        "outputId": "21e1f049-4185-4d53-eb2c-8cb3b6a4b23f"
      },
      "execution_count": 26,
      "outputs": [
        {
          "output_type": "execute_result",
          "data": {
            "text/plain": [
              "array([[160,  15],\n",
              "       [ 35,  85]])"
            ]
          },
          "metadata": {},
          "execution_count": 26
        }
      ]
    },
    {
      "cell_type": "markdown",
      "source": [
        "**Until this part, nothing new. All of this was done in [version 4](https://github.com/LucasNatalePires/kaggle_titanic/blob/main/titanic_version4.ipynb). Now I will demonstrate how to deal with overfitting in this situation, basically improving the parameters. For this I will use [Grid Search Cv](https://scikit-learn.org/stable/modules/generated/sklearn.model_selection.GridSearchCV.html) to estimate the best parameters**"
      ],
      "metadata": {
        "id": "iJ2xYP3JsK9F"
      }
    },
    {
      "cell_type": "code",
      "source": [
        "#Import\n",
        "from sklearn.model_selection import train_test_split\n",
        "\n",
        "#Separating the training base into X and y\n",
        "X = train.drop(['PassengerId','Survived'], axis =1)\n",
        "y = train.Survived\n",
        "\n",
        "#Separate train and validation\n",
        "X_train, X_validation, y_train, y_validation = train_test_split(X, y, test_size=0.2, random_state=42)"
      ],
      "metadata": {
        "execution": {
          "iopub.status.busy": "2024-01-09T22:13:40.833922Z",
          "iopub.execute_input": "2024-01-09T22:13:40.834262Z",
          "iopub.status.idle": "2024-01-09T22:13:40.845775Z",
          "shell.execute_reply.started": "2024-01-09T22:13:40.834233Z",
          "shell.execute_reply": "2024-01-09T22:13:40.844249Z"
        },
        "trusted": true,
        "id": "50Fc4b3BsK9F"
      },
      "execution_count": 27,
      "outputs": []
    },
    {
      "cell_type": "code",
      "source": [
        "#Import\n",
        "from sklearn.model_selection import GridSearchCV\n",
        "from sklearn.model_selection import KFold"
      ],
      "metadata": {
        "execution": {
          "iopub.status.busy": "2024-01-09T22:13:40.851020Z",
          "iopub.execute_input": "2024-01-09T22:13:40.852364Z",
          "iopub.status.idle": "2024-01-09T22:13:40.858262Z",
          "shell.execute_reply.started": "2024-01-09T22:13:40.852312Z",
          "shell.execute_reply": "2024-01-09T22:13:40.857032Z"
        },
        "trusted": true,
        "id": "3JZbRIdisK9F"
      },
      "execution_count": 28,
      "outputs": []
    },
    {
      "cell_type": "code",
      "source": [
        "#To ignore the warnings\n",
        "import warnings\n",
        "\n",
        "warnings.filterwarnings('ignore')"
      ],
      "metadata": {
        "execution": {
          "iopub.status.busy": "2024-01-09T22:13:40.860030Z",
          "iopub.execute_input": "2024-01-09T22:13:40.860944Z",
          "iopub.status.idle": "2024-01-09T22:13:40.872231Z",
          "shell.execute_reply.started": "2024-01-09T22:13:40.860907Z",
          "shell.execute_reply": "2024-01-09T22:13:40.870479Z"
        },
        "trusted": true,
        "id": "UyoHcDXbsK9G"
      },
      "execution_count": 29,
      "outputs": []
    },
    {
      "cell_type": "markdown",
      "source": [
        "**I will use these algorithms to look for better parameters, consequently better results:**\n",
        "\n",
        "\n",
        "**-- [Logistic regression](https://scikitlearn.org/stable/modules/generated/sklearn.linear_model.LogisticRegression.html#sklearn.linear_model.LogisticRegression)**\n",
        "\n",
        "**-- [Random Forest](https://scikit-learn.org/stable/modules/generated/sklearn.ensemble.RandomForestClassifier.html)**\n",
        "\n",
        "**-- [MPL Classifier](https://scikit-learn.org/stable/modules/generated/sklearn.neural_network.MLPClassifier.html#sklearn.neural_network.MLPClassifier)**\n",
        "\n",
        "\n",
        "\n",
        "\n",
        "**Although the process seems similar to what we have done many times during the project, there is a big difference. Using [Grid Search CV](https://scikit-learn.org/stable/modules/generated/sklearn.model_selection.GridSearchCV.html) and [KFold](https://scikit-learn.org/stable/modules/generated/sklearn.model_selection.KFold.html), I plotted some parameters to get the best score**\n",
        "\n",
        "\n",
        "**NOTE: The final value of the parameters was determined based on trial and error, a process that takes a little longer, but is necessary to improve accuracy. Every time I test a parameter, I see the results from best_params, and so I change the values**\n",
        "\n",
        "\n",
        "\n",
        "**After that, let's import the [accuracy](https://scikit-learn.org/stable/modules/generated/sklearn.metrics.accuracy_score.html) and see the results**\n",
        "\n",
        "**I will check the [confusion matrix](https://scikit-learn.org/stable/modules/generated/sklearn.metrics.confusion_matrix.html) and finally, submit the predict**\n",
        "\n",
        "\n",
        "\n",
        "**I will do respectively: Logistic Regression, Random Forest and Mlp Classifier**"
      ],
      "metadata": {
        "id": "RD_VDQPTsK9G"
      }
    },
    {
      "cell_type": "code",
      "source": [
        "#Function to check the time\n",
        "from datetime import datetime\n",
        "\n",
        "def hour():\n",
        "    time = datetime.now()\n",
        "    print(str(time.hour)+':'+str(time.minute)+':'+str(time.second))"
      ],
      "metadata": {
        "execution": {
          "iopub.status.busy": "2024-01-09T22:13:40.874666Z",
          "iopub.execute_input": "2024-01-09T22:13:40.875542Z",
          "iopub.status.idle": "2024-01-09T22:13:40.888681Z",
          "shell.execute_reply.started": "2024-01-09T22:13:40.875498Z",
          "shell.execute_reply": "2024-01-09T22:13:40.887300Z"
        },
        "trusted": true,
        "id": "DWMumqRasK9G"
      },
      "execution_count": 30,
      "outputs": []
    },
    {
      "cell_type": "markdown",
      "source": [
        "**Out of curiosity, I created a function that takes the current time, runs the algorithm and sees the time again. From this it is possible to know how long it took to process the data, which is important information to take into account, depending on the project**"
      ],
      "metadata": {
        "id": "tm9mvZ3ksK9H"
      }
    },
    {
      "cell_type": "markdown",
      "source": [
        "# Random Forest"
      ],
      "metadata": {
        "id": "dencEzWnsK9H"
      }
    },
    {
      "cell_type": "code",
      "source": [
        "#Import Random Forest\n",
        "from sklearn.ensemble import RandomForestClassifier\n",
        "\n",
        "# Creating the Classifier\n",
        "clf_rf = RandomForestClassifier(random_state=42)\n",
        "\n",
        "#Creating the parameters\n",
        "parameters_rf = {\n",
        "    'n_estimators': [100,250,500,1000],\n",
        "    'criterion': ['gini','entropy','log_loss'],\n",
        "    'max_depth': [2,4,6,8,None],\n",
        "    'max_features': ['sqrt','log2',None]\n",
        "}"
      ],
      "metadata": {
        "execution": {
          "iopub.status.busy": "2024-01-09T22:13:40.890301Z",
          "iopub.execute_input": "2024-01-09T22:13:40.891568Z",
          "iopub.status.idle": "2024-01-09T22:13:40.900559Z",
          "shell.execute_reply.started": "2024-01-09T22:13:40.891509Z",
          "shell.execute_reply": "2024-01-09T22:13:40.899126Z"
        },
        "trusted": true,
        "id": "mk2Qb0qysK9H"
      },
      "execution_count": 31,
      "outputs": []
    },
    {
      "cell_type": "code",
      "source": [
        "# Using the K Fold to split the data and the Grid SearchCv to find the best parameters\n",
        "#The function time() is just to count how long the data is processed\n",
        "\n",
        "hour()\n",
        "KFold_rf = KFold(n_splits=8, random_state=42, shuffle=True)\n",
        "grid_search_rf = GridSearchCV(clf_rf, parameters_rf,scoring='accuracy',cv=KFold_rf)\n",
        "grid_search_rf = grid_search_rf.fit(X_train,y_train)\n",
        "hour()"
      ],
      "metadata": {
        "execution": {
          "iopub.status.busy": "2024-01-09T22:13:40.902271Z",
          "iopub.execute_input": "2024-01-09T22:13:40.903108Z",
          "iopub.status.idle": "2024-01-09T22:43:35.276376Z",
          "shell.execute_reply.started": "2024-01-09T22:13:40.903061Z",
          "shell.execute_reply": "2024-01-09T22:43:35.275223Z"
        },
        "trusted": true,
        "colab": {
          "base_uri": "https://localhost:8080/"
        },
        "id": "XStWeF4hsK9H",
        "outputId": "97fb65b8-a091-4a60-a127-65b1af87591c"
      },
      "execution_count": 32,
      "outputs": [
        {
          "output_type": "stream",
          "name": "stdout",
          "text": [
            "17:14:37\n",
            "17:36:48\n"
          ]
        }
      ]
    },
    {
      "cell_type": "code",
      "source": [
        "#Checking the best parameters\n",
        "grid_search_rf.best_params_"
      ],
      "metadata": {
        "execution": {
          "iopub.status.busy": "2024-01-09T22:43:35.278209Z",
          "iopub.execute_input": "2024-01-09T22:43:35.278928Z",
          "iopub.status.idle": "2024-01-09T22:43:35.286718Z",
          "shell.execute_reply.started": "2024-01-09T22:43:35.278880Z",
          "shell.execute_reply": "2024-01-09T22:43:35.285585Z"
        },
        "trusted": true,
        "colab": {
          "base_uri": "https://localhost:8080/"
        },
        "id": "D_lJoMnxsK9I",
        "outputId": "daef9e0c-c71e-4c12-f138-b98c84bee75f"
      },
      "execution_count": 33,
      "outputs": [
        {
          "output_type": "execute_result",
          "data": {
            "text/plain": [
              "{'criterion': 'entropy',\n",
              " 'max_depth': 6,\n",
              " 'max_features': 'sqrt',\n",
              " 'n_estimators': 100}"
            ]
          },
          "metadata": {},
          "execution_count": 33
        }
      ]
    },
    {
      "cell_type": "code",
      "source": [
        "#Checking the best score\n",
        "grid_search_rf.best_score_"
      ],
      "metadata": {
        "execution": {
          "iopub.status.busy": "2024-01-09T22:43:35.288737Z",
          "iopub.execute_input": "2024-01-09T22:43:35.289595Z",
          "iopub.status.idle": "2024-01-09T22:43:35.306936Z",
          "shell.execute_reply.started": "2024-01-09T22:43:35.289551Z",
          "shell.execute_reply": "2024-01-09T22:43:35.305453Z"
        },
        "trusted": true,
        "colab": {
          "base_uri": "https://localhost:8080/"
        },
        "id": "Ve6HGrXwsK9J",
        "outputId": "50568891-f3f6-41da-868c-fc42bba6c773"
      },
      "execution_count": 34,
      "outputs": [
        {
          "output_type": "execute_result",
          "data": {
            "text/plain": [
              "0.8314606741573034"
            ]
          },
          "metadata": {},
          "execution_count": 34
        }
      ]
    },
    {
      "cell_type": "markdown",
      "source": [
        "# MPL Classifier"
      ],
      "metadata": {
        "id": "wjiFTlbVsK9J"
      }
    },
    {
      "cell_type": "code",
      "source": [
        "#Import Mpl Classifier\n",
        "from sklearn.neural_network import MLPClassifier\n",
        "\n",
        "# Creating the Classifier\n",
        "clf_mpl = MLPClassifier(random_state=42)\n",
        "\n",
        "#Creating the parameters\n",
        "parameters_mpl = {\n",
        "    'solver': ['lbfgs','sgd','adam'],\n",
        "    'alpha': [10.0**(-1),10.0**(-5),10.0**(-7),10.0**(-10)],\n",
        "    'max_iter': [200,500,1000, 5000],\n",
        "}"
      ],
      "metadata": {
        "execution": {
          "iopub.status.busy": "2024-01-09T22:43:35.308782Z",
          "iopub.execute_input": "2024-01-09T22:43:35.309913Z",
          "iopub.status.idle": "2024-01-09T22:43:35.318387Z",
          "shell.execute_reply.started": "2024-01-09T22:43:35.309824Z",
          "shell.execute_reply": "2024-01-09T22:43:35.317198Z"
        },
        "trusted": true,
        "id": "j54P2DKwsK9J"
      },
      "execution_count": 35,
      "outputs": []
    },
    {
      "cell_type": "code",
      "source": [
        "# Using the K Fold to split the data and the Grid SearchCv to find the best parameters\n",
        "# The function time() is just to count how long the data is processed\n",
        "hour()\n",
        "KFold_mpl = KFold(n_splits=8, random_state=42, shuffle=True)\n",
        "grid_search_mpl = GridSearchCV(clf_mpl, parameters_mpl,scoring='accuracy',cv=KFold_mpl)\n",
        "grid_search_mpl = grid_search_mpl.fit(X_train,y_train)\n",
        "hour()"
      ],
      "metadata": {
        "execution": {
          "iopub.status.busy": "2024-01-09T22:43:35.319908Z",
          "iopub.execute_input": "2024-01-09T22:43:35.320735Z",
          "iopub.status.idle": "2024-01-09T23:03:34.882688Z",
          "shell.execute_reply.started": "2024-01-09T22:43:35.320659Z",
          "shell.execute_reply": "2024-01-09T23:03:34.881116Z"
        },
        "trusted": true,
        "colab": {
          "base_uri": "https://localhost:8080/"
        },
        "id": "elJhrbDWsK9J",
        "outputId": "460512e0-37fd-454b-bd91-aceab43431d3"
      },
      "execution_count": 36,
      "outputs": [
        {
          "output_type": "stream",
          "name": "stdout",
          "text": [
            "17:36:49\n",
            "17:51:21\n"
          ]
        }
      ]
    },
    {
      "cell_type": "code",
      "source": [
        "# Checking the best parameters\n",
        "grid_search_mpl.best_params_"
      ],
      "metadata": {
        "execution": {
          "iopub.status.busy": "2024-01-09T23:03:34.891889Z",
          "iopub.execute_input": "2024-01-09T23:03:34.897671Z",
          "iopub.status.idle": "2024-01-09T23:03:34.911795Z",
          "shell.execute_reply.started": "2024-01-09T23:03:34.897579Z",
          "shell.execute_reply": "2024-01-09T23:03:34.909976Z"
        },
        "trusted": true,
        "colab": {
          "base_uri": "https://localhost:8080/"
        },
        "id": "3S37kt5-sK9K",
        "outputId": "dacbe85e-7e34-40c0-c60c-faa1c073a5f1"
      },
      "execution_count": 37,
      "outputs": [
        {
          "output_type": "execute_result",
          "data": {
            "text/plain": [
              "{'alpha': 0.1, 'max_iter': 200, 'solver': 'adam'}"
            ]
          },
          "metadata": {},
          "execution_count": 37
        }
      ]
    },
    {
      "cell_type": "code",
      "source": [
        "#Checking the best score\n",
        "grid_search_mpl.best_score_"
      ],
      "metadata": {
        "execution": {
          "iopub.status.busy": "2024-01-09T23:04:06.038094Z",
          "iopub.execute_input": "2024-01-09T23:04:06.038809Z",
          "iopub.status.idle": "2024-01-09T23:04:06.045423Z",
          "shell.execute_reply.started": "2024-01-09T23:04:06.038768Z",
          "shell.execute_reply": "2024-01-09T23:04:06.044092Z"
        },
        "trusted": true,
        "colab": {
          "base_uri": "https://localhost:8080/"
        },
        "id": "cdKvqfY-sK9K",
        "outputId": "220104da-b9f7-40c0-d6e7-7230bc4e4fa0"
      },
      "execution_count": 38,
      "outputs": [
        {
          "output_type": "execute_result",
          "data": {
            "text/plain": [
              "0.8174157303370786"
            ]
          },
          "metadata": {},
          "execution_count": 38
        }
      ]
    },
    {
      "cell_type": "markdown",
      "source": [
        "# Logistic Regression"
      ],
      "metadata": {
        "id": "LYjk4r3GsK9o"
      }
    },
    {
      "cell_type": "code",
      "source": [
        "# Import\n",
        "from sklearn.linear_model import LogisticRegression\n",
        "\n",
        "# Creating the classifier\n",
        "clf_lr = LogisticRegression(random_state=42)\n",
        "\n",
        "# Creating the parameters\n",
        "parameters_lr = {\n",
        "    'penalty': ['l1','l2'],\n",
        "    'C': [0.01,0.1,1,10],\n",
        "    'solver': ['lbfgs','liblinear','saga'],\n",
        "    'max_iter': [100,1000,5000,10000]\n",
        "}"
      ],
      "metadata": {
        "execution": {
          "iopub.status.busy": "2024-01-09T23:05:12.253608Z",
          "iopub.execute_input": "2024-01-09T23:05:12.254562Z",
          "iopub.status.idle": "2024-01-09T23:05:12.260631Z",
          "shell.execute_reply.started": "2024-01-09T23:05:12.254523Z",
          "shell.execute_reply": "2024-01-09T23:05:12.259601Z"
        },
        "trusted": true,
        "id": "iWLfasHPsK9p"
      },
      "execution_count": 39,
      "outputs": []
    },
    {
      "cell_type": "code",
      "source": [
        "# Using the K Fold to split the data and the Grid SearchCv to find the best parameters\n",
        "# The function time() is just to count how long the data is processed\n",
        "hour()\n",
        "KFold_lr = KFold(n_splits=8, random_state=42, shuffle=True)\n",
        "grid_search_lr = GridSearchCV(clf_lr,parameters_lr,scoring='accuracy',cv=KFold_lr)\n",
        "grid_search_lr = grid_search_lr.fit(X_train, y_train)\n",
        "hour()"
      ],
      "metadata": {
        "execution": {
          "iopub.status.busy": "2024-01-09T23:05:48.462355Z",
          "iopub.execute_input": "2024-01-09T23:05:48.462748Z",
          "iopub.status.idle": "2024-01-09T23:06:01.583938Z",
          "shell.execute_reply.started": "2024-01-09T23:05:48.462717Z",
          "shell.execute_reply": "2024-01-09T23:06:01.582160Z"
        },
        "trusted": true,
        "colab": {
          "base_uri": "https://localhost:8080/"
        },
        "id": "Wf3wtGi9sK9q",
        "outputId": "0b7ca80f-ccdb-4301-ae23-191442d47fcd"
      },
      "execution_count": 40,
      "outputs": [
        {
          "output_type": "stream",
          "name": "stdout",
          "text": [
            "17:51:21\n",
            "17:51:33\n"
          ]
        }
      ]
    },
    {
      "cell_type": "code",
      "source": [
        "#Checking the best parameters\n",
        "grid_search_lr.best_params_"
      ],
      "metadata": {
        "execution": {
          "iopub.status.busy": "2024-01-09T23:09:34.568328Z",
          "iopub.execute_input": "2024-01-09T23:09:34.568769Z",
          "iopub.status.idle": "2024-01-09T23:09:34.576568Z",
          "shell.execute_reply.started": "2024-01-09T23:09:34.568732Z",
          "shell.execute_reply": "2024-01-09T23:09:34.575263Z"
        },
        "trusted": true,
        "colab": {
          "base_uri": "https://localhost:8080/"
        },
        "id": "gMsg7qzjsK9q",
        "outputId": "13834907-5295-4de4-97d9-d99675a0267b"
      },
      "execution_count": 41,
      "outputs": [
        {
          "output_type": "execute_result",
          "data": {
            "text/plain": [
              "{'C': 0.1, 'max_iter': 100, 'penalty': 'l2', 'solver': 'lbfgs'}"
            ]
          },
          "metadata": {},
          "execution_count": 41
        }
      ]
    },
    {
      "cell_type": "code",
      "source": [
        "#Checking the best score\n",
        "grid_search_lr.best_score_"
      ],
      "metadata": {
        "execution": {
          "iopub.status.busy": "2024-01-09T23:09:38.887714Z",
          "iopub.execute_input": "2024-01-09T23:09:38.888165Z",
          "iopub.status.idle": "2024-01-09T23:09:38.894958Z",
          "shell.execute_reply.started": "2024-01-09T23:09:38.888127Z",
          "shell.execute_reply": "2024-01-09T23:09:38.893763Z"
        },
        "trusted": true,
        "colab": {
          "base_uri": "https://localhost:8080/"
        },
        "id": "jtxvNFdPsK9r",
        "outputId": "d1aedc01-3e9d-4bca-ac7e-d5eb908610a9"
      },
      "execution_count": 42,
      "outputs": [
        {
          "output_type": "execute_result",
          "data": {
            "text/plain": [
              "0.8089887640449438"
            ]
          },
          "metadata": {},
          "execution_count": 42
        }
      ]
    },
    {
      "cell_type": "markdown",
      "source": [
        "**After selecting the best parameters, I will calculate the accuracy and the confusion matrix, to define which model to use and then send it**"
      ],
      "metadata": {
        "id": "ZKb2cOvcsK9r"
      }
    },
    {
      "cell_type": "code",
      "source": [
        "#Import\n",
        "from sklearn.metrics import accuracy_score"
      ],
      "metadata": {
        "execution": {
          "iopub.status.busy": "2024-01-09T23:41:37.258081Z",
          "iopub.execute_input": "2024-01-09T23:41:37.258815Z",
          "iopub.status.idle": "2024-01-09T23:41:37.263947Z",
          "shell.execute_reply.started": "2024-01-09T23:41:37.258763Z",
          "shell.execute_reply": "2024-01-09T23:41:37.262796Z"
        },
        "trusted": true,
        "id": "gqf53HiZsK9s"
      },
      "execution_count": 43,
      "outputs": []
    },
    {
      "cell_type": "code",
      "source": [
        "#Predicting on validation data with each of the best models\n",
        "#Logistic Regression\n",
        "clf_selected_lr = grid_search_lr.best_estimator_\n",
        "y_pred_lr = clf_selected_lr.predict(X_validation)"
      ],
      "metadata": {
        "execution": {
          "iopub.status.busy": "2024-01-09T23:41:37.273305Z",
          "iopub.execute_input": "2024-01-09T23:41:37.274203Z",
          "iopub.status.idle": "2024-01-09T23:41:37.284582Z",
          "shell.execute_reply.started": "2024-01-09T23:41:37.274146Z",
          "shell.execute_reply": "2024-01-09T23:41:37.283118Z"
        },
        "trusted": true,
        "id": "2VG7IL4CsK9s"
      },
      "execution_count": 44,
      "outputs": []
    },
    {
      "cell_type": "code",
      "source": [
        "#Predicting on validation data with each of the best models\n",
        "#Random Forest\n",
        "clf_selected_rf = grid_search_rf.best_estimator_\n",
        "y_pred_rf = clf_selected_rf.predict(X_validation)"
      ],
      "metadata": {
        "execution": {
          "iopub.status.busy": "2024-01-09T23:41:37.286894Z",
          "iopub.execute_input": "2024-01-09T23:41:37.287637Z",
          "iopub.status.idle": "2024-01-09T23:41:37.310321Z",
          "shell.execute_reply.started": "2024-01-09T23:41:37.287595Z",
          "shell.execute_reply": "2024-01-09T23:41:37.309138Z"
        },
        "trusted": true,
        "id": "hW2ZxR95sK9s"
      },
      "execution_count": 45,
      "outputs": []
    },
    {
      "cell_type": "code",
      "source": [
        "#Predicting on validation data with each of the best models\n",
        "#Mpl Classifier\n",
        "clf_selected_mpl = grid_search_mpl.best_estimator_\n",
        "y_pred_mpl = clf_selected_mpl.predict(X_validation)"
      ],
      "metadata": {
        "execution": {
          "iopub.status.busy": "2024-01-09T23:41:37.311976Z",
          "iopub.execute_input": "2024-01-09T23:41:37.312720Z",
          "iopub.status.idle": "2024-01-09T23:41:37.322485Z",
          "shell.execute_reply.started": "2024-01-09T23:41:37.312678Z",
          "shell.execute_reply": "2024-01-09T23:41:37.320147Z"
        },
        "trusted": true,
        "id": "QoWW9abHsK9s"
      },
      "execution_count": 46,
      "outputs": []
    },
    {
      "cell_type": "code",
      "source": [
        "# Logistic Regression Accuracy\n",
        "accuracy_score(y_validation, y_pred_lr)"
      ],
      "metadata": {
        "execution": {
          "iopub.status.busy": "2024-01-09T23:41:37.326961Z",
          "iopub.execute_input": "2024-01-09T23:41:37.328132Z",
          "iopub.status.idle": "2024-01-09T23:41:37.340688Z",
          "shell.execute_reply.started": "2024-01-09T23:41:37.328052Z",
          "shell.execute_reply": "2024-01-09T23:41:37.339118Z"
        },
        "trusted": true,
        "colab": {
          "base_uri": "https://localhost:8080/"
        },
        "id": "nI1Ws_1CsK9t",
        "outputId": "e998795f-e927-4d07-eccc-cc99b7c7a913"
      },
      "execution_count": 47,
      "outputs": [
        {
          "output_type": "execute_result",
          "data": {
            "text/plain": [
              "0.8044692737430168"
            ]
          },
          "metadata": {},
          "execution_count": 47
        }
      ]
    },
    {
      "cell_type": "code",
      "source": [
        "# Random Forest Accuracy\n",
        "accuracy_score(y_validation, y_pred_rf)"
      ],
      "metadata": {
        "execution": {
          "iopub.status.busy": "2024-01-09T23:41:37.343180Z",
          "iopub.execute_input": "2024-01-09T23:41:37.344550Z",
          "iopub.status.idle": "2024-01-09T23:41:37.359197Z",
          "shell.execute_reply.started": "2024-01-09T23:41:37.344465Z",
          "shell.execute_reply": "2024-01-09T23:41:37.356234Z"
        },
        "trusted": true,
        "colab": {
          "base_uri": "https://localhost:8080/"
        },
        "id": "L2fUUjCYsK9t",
        "outputId": "9e221483-fe36-4d0c-e742-48f5fa183217"
      },
      "execution_count": 48,
      "outputs": [
        {
          "output_type": "execute_result",
          "data": {
            "text/plain": [
              "0.8100558659217877"
            ]
          },
          "metadata": {},
          "execution_count": 48
        }
      ]
    },
    {
      "cell_type": "code",
      "source": [
        "#Mpl Classifier Accuracy\n",
        "accuracy_score(y_validation, y_pred_mpl)"
      ],
      "metadata": {
        "execution": {
          "iopub.status.busy": "2024-01-09T23:41:37.362722Z",
          "iopub.execute_input": "2024-01-09T23:41:37.363927Z",
          "iopub.status.idle": "2024-01-09T23:41:37.378506Z",
          "shell.execute_reply.started": "2024-01-09T23:41:37.363866Z",
          "shell.execute_reply": "2024-01-09T23:41:37.376583Z"
        },
        "trusted": true,
        "colab": {
          "base_uri": "https://localhost:8080/"
        },
        "id": "PTHOUxZdsK9u",
        "outputId": "6cb4fc64-b049-4df9-8646-56d4fbf6657c"
      },
      "execution_count": 49,
      "outputs": [
        {
          "output_type": "execute_result",
          "data": {
            "text/plain": [
              "0.8100558659217877"
            ]
          },
          "metadata": {},
          "execution_count": 49
        }
      ]
    },
    {
      "cell_type": "code",
      "source": [
        "#Import\n",
        "from sklearn.metrics import confusion_matrix"
      ],
      "metadata": {
        "execution": {
          "iopub.status.busy": "2024-01-09T23:41:37.383798Z",
          "iopub.execute_input": "2024-01-09T23:41:37.385129Z",
          "iopub.status.idle": "2024-01-09T23:41:37.392892Z",
          "shell.execute_reply.started": "2024-01-09T23:41:37.385052Z",
          "shell.execute_reply": "2024-01-09T23:41:37.391099Z"
        },
        "trusted": true,
        "id": "GKzB522xsK9u"
      },
      "execution_count": 50,
      "outputs": []
    },
    {
      "cell_type": "code",
      "source": [
        "#Confusion Matrix Logistic Regression\n",
        "confusion_matrix(y_validation, y_pred_lr)"
      ],
      "metadata": {
        "execution": {
          "iopub.status.busy": "2024-01-09T23:41:37.396886Z",
          "iopub.execute_input": "2024-01-09T23:41:37.398405Z",
          "iopub.status.idle": "2024-01-09T23:41:37.415403Z",
          "shell.execute_reply.started": "2024-01-09T23:41:37.398330Z",
          "shell.execute_reply": "2024-01-09T23:41:37.413692Z"
        },
        "trusted": true,
        "colab": {
          "base_uri": "https://localhost:8080/"
        },
        "id": "xsVVvbpHsK9v",
        "outputId": "fafee5dc-ffc1-42c9-d5e5-168cf89db866"
      },
      "execution_count": 51,
      "outputs": [
        {
          "output_type": "execute_result",
          "data": {
            "text/plain": [
              "array([[91, 14],\n",
              "       [21, 53]])"
            ]
          },
          "metadata": {},
          "execution_count": 51
        }
      ]
    },
    {
      "cell_type": "code",
      "source": [
        "#Confusion Matrix Random Forest\n",
        "confusion_matrix(y_validation, y_pred_rf)"
      ],
      "metadata": {
        "execution": {
          "iopub.status.busy": "2024-01-09T23:41:37.418865Z",
          "iopub.execute_input": "2024-01-09T23:41:37.420478Z",
          "iopub.status.idle": "2024-01-09T23:41:37.442023Z",
          "shell.execute_reply.started": "2024-01-09T23:41:37.420390Z",
          "shell.execute_reply": "2024-01-09T23:41:37.441152Z"
        },
        "trusted": true,
        "colab": {
          "base_uri": "https://localhost:8080/"
        },
        "id": "GK7F1jepsK9w",
        "outputId": "290b80a8-00bd-4466-9ba7-39c505b07377"
      },
      "execution_count": 52,
      "outputs": [
        {
          "output_type": "execute_result",
          "data": {
            "text/plain": [
              "array([[93, 12],\n",
              "       [22, 52]])"
            ]
          },
          "metadata": {},
          "execution_count": 52
        }
      ]
    },
    {
      "cell_type": "code",
      "source": [
        "#Confusion Matrix Mpl Classifier\n",
        "confusion_matrix(y_validation, y_pred_mpl)"
      ],
      "metadata": {
        "execution": {
          "iopub.status.busy": "2024-01-09T23:41:37.444299Z",
          "iopub.execute_input": "2024-01-09T23:41:37.444963Z",
          "iopub.status.idle": "2024-01-09T23:41:37.453397Z",
          "shell.execute_reply.started": "2024-01-09T23:41:37.444922Z",
          "shell.execute_reply": "2024-01-09T23:41:37.452378Z"
        },
        "trusted": true,
        "colab": {
          "base_uri": "https://localhost:8080/"
        },
        "id": "xSoIn72LsK9x",
        "outputId": "1c5c5326-4fbe-427d-8540-a1b142ec7dd5"
      },
      "execution_count": 53,
      "outputs": [
        {
          "output_type": "execute_result",
          "data": {
            "text/plain": [
              "array([[92, 13],\n",
              "       [21, 53]])"
            ]
          },
          "metadata": {},
          "execution_count": 53
        }
      ]
    },
    {
      "cell_type": "code",
      "source": [
        "X_train.head(3)"
      ],
      "metadata": {
        "execution": {
          "iopub.status.busy": "2024-01-09T23:43:38.496772Z",
          "iopub.execute_input": "2024-01-09T23:43:38.497782Z",
          "iopub.status.idle": "2024-01-09T23:43:38.512525Z",
          "shell.execute_reply.started": "2024-01-09T23:43:38.497740Z",
          "shell.execute_reply": "2024-01-09T23:43:38.511117Z"
        },
        "trusted": true,
        "colab": {
          "base_uri": "https://localhost:8080/",
          "height": 143
        },
        "id": "aTnv6ZFmsK9y",
        "outputId": "71b6f5d9-b21f-478c-c7b4-b7d74068d5a5"
      },
      "execution_count": 54,
      "outputs": [
        {
          "output_type": "execute_result",
          "data": {
            "text/plain": [
              "     Pclass       Age  SibSp  Parch      Fare  Embarked  MaleCheck  Alone  \\\n",
              "331       1  1.215452      0      0  0.608317         0          1      1   \n",
              "733       2 -0.515317      0      0 -0.062981         0          1      1   \n",
              "382       3  0.176991      0      0 -0.282777         0          1      1   \n",
              "\n",
              "     Relatives  \n",
              "331          0  \n",
              "733          0  \n",
              "382          0  "
            ],
            "text/html": [
              "\n",
              "  <div id=\"df-3f0fd21d-2c4e-4d58-8aab-d626e106f8f4\" class=\"colab-df-container\">\n",
              "    <div>\n",
              "<style scoped>\n",
              "    .dataframe tbody tr th:only-of-type {\n",
              "        vertical-align: middle;\n",
              "    }\n",
              "\n",
              "    .dataframe tbody tr th {\n",
              "        vertical-align: top;\n",
              "    }\n",
              "\n",
              "    .dataframe thead th {\n",
              "        text-align: right;\n",
              "    }\n",
              "</style>\n",
              "<table border=\"1\" class=\"dataframe\">\n",
              "  <thead>\n",
              "    <tr style=\"text-align: right;\">\n",
              "      <th></th>\n",
              "      <th>Pclass</th>\n",
              "      <th>Age</th>\n",
              "      <th>SibSp</th>\n",
              "      <th>Parch</th>\n",
              "      <th>Fare</th>\n",
              "      <th>Embarked</th>\n",
              "      <th>MaleCheck</th>\n",
              "      <th>Alone</th>\n",
              "      <th>Relatives</th>\n",
              "    </tr>\n",
              "  </thead>\n",
              "  <tbody>\n",
              "    <tr>\n",
              "      <th>331</th>\n",
              "      <td>1</td>\n",
              "      <td>1.215452</td>\n",
              "      <td>0</td>\n",
              "      <td>0</td>\n",
              "      <td>0.608317</td>\n",
              "      <td>0</td>\n",
              "      <td>1</td>\n",
              "      <td>1</td>\n",
              "      <td>0</td>\n",
              "    </tr>\n",
              "    <tr>\n",
              "      <th>733</th>\n",
              "      <td>2</td>\n",
              "      <td>-0.515317</td>\n",
              "      <td>0</td>\n",
              "      <td>0</td>\n",
              "      <td>-0.062981</td>\n",
              "      <td>0</td>\n",
              "      <td>1</td>\n",
              "      <td>1</td>\n",
              "      <td>0</td>\n",
              "    </tr>\n",
              "    <tr>\n",
              "      <th>382</th>\n",
              "      <td>3</td>\n",
              "      <td>0.176991</td>\n",
              "      <td>0</td>\n",
              "      <td>0</td>\n",
              "      <td>-0.282777</td>\n",
              "      <td>0</td>\n",
              "      <td>1</td>\n",
              "      <td>1</td>\n",
              "      <td>0</td>\n",
              "    </tr>\n",
              "  </tbody>\n",
              "</table>\n",
              "</div>\n",
              "    <div class=\"colab-df-buttons\">\n",
              "\n",
              "  <div class=\"colab-df-container\">\n",
              "    <button class=\"colab-df-convert\" onclick=\"convertToInteractive('df-3f0fd21d-2c4e-4d58-8aab-d626e106f8f4')\"\n",
              "            title=\"Convert this dataframe to an interactive table.\"\n",
              "            style=\"display:none;\">\n",
              "\n",
              "  <svg xmlns=\"http://www.w3.org/2000/svg\" height=\"24px\" viewBox=\"0 -960 960 960\">\n",
              "    <path d=\"M120-120v-720h720v720H120Zm60-500h600v-160H180v160Zm220 220h160v-160H400v160Zm0 220h160v-160H400v160ZM180-400h160v-160H180v160Zm440 0h160v-160H620v160ZM180-180h160v-160H180v160Zm440 0h160v-160H620v160Z\"/>\n",
              "  </svg>\n",
              "    </button>\n",
              "\n",
              "  <style>\n",
              "    .colab-df-container {\n",
              "      display:flex;\n",
              "      gap: 12px;\n",
              "    }\n",
              "\n",
              "    .colab-df-convert {\n",
              "      background-color: #E8F0FE;\n",
              "      border: none;\n",
              "      border-radius: 50%;\n",
              "      cursor: pointer;\n",
              "      display: none;\n",
              "      fill: #1967D2;\n",
              "      height: 32px;\n",
              "      padding: 0 0 0 0;\n",
              "      width: 32px;\n",
              "    }\n",
              "\n",
              "    .colab-df-convert:hover {\n",
              "      background-color: #E2EBFA;\n",
              "      box-shadow: 0px 1px 2px rgba(60, 64, 67, 0.3), 0px 1px 3px 1px rgba(60, 64, 67, 0.15);\n",
              "      fill: #174EA6;\n",
              "    }\n",
              "\n",
              "    .colab-df-buttons div {\n",
              "      margin-bottom: 4px;\n",
              "    }\n",
              "\n",
              "    [theme=dark] .colab-df-convert {\n",
              "      background-color: #3B4455;\n",
              "      fill: #D2E3FC;\n",
              "    }\n",
              "\n",
              "    [theme=dark] .colab-df-convert:hover {\n",
              "      background-color: #434B5C;\n",
              "      box-shadow: 0px 1px 3px 1px rgba(0, 0, 0, 0.15);\n",
              "      filter: drop-shadow(0px 1px 2px rgba(0, 0, 0, 0.3));\n",
              "      fill: #FFFFFF;\n",
              "    }\n",
              "  </style>\n",
              "\n",
              "    <script>\n",
              "      const buttonEl =\n",
              "        document.querySelector('#df-3f0fd21d-2c4e-4d58-8aab-d626e106f8f4 button.colab-df-convert');\n",
              "      buttonEl.style.display =\n",
              "        google.colab.kernel.accessAllowed ? 'block' : 'none';\n",
              "\n",
              "      async function convertToInteractive(key) {\n",
              "        const element = document.querySelector('#df-3f0fd21d-2c4e-4d58-8aab-d626e106f8f4');\n",
              "        const dataTable =\n",
              "          await google.colab.kernel.invokeFunction('convertToInteractive',\n",
              "                                                    [key], {});\n",
              "        if (!dataTable) return;\n",
              "\n",
              "        const docLinkHtml = 'Like what you see? Visit the ' +\n",
              "          '<a target=\"_blank\" href=https://colab.research.google.com/notebooks/data_table.ipynb>data table notebook</a>'\n",
              "          + ' to learn more about interactive tables.';\n",
              "        element.innerHTML = '';\n",
              "        dataTable['output_type'] = 'display_data';\n",
              "        await google.colab.output.renderOutput(dataTable, element);\n",
              "        const docLink = document.createElement('div');\n",
              "        docLink.innerHTML = docLinkHtml;\n",
              "        element.appendChild(docLink);\n",
              "      }\n",
              "    </script>\n",
              "  </div>\n",
              "\n",
              "\n",
              "<div id=\"df-42ca994e-7b6d-485a-94fe-9dfd6ecdd65b\">\n",
              "  <button class=\"colab-df-quickchart\" onclick=\"quickchart('df-42ca994e-7b6d-485a-94fe-9dfd6ecdd65b')\"\n",
              "            title=\"Suggest charts\"\n",
              "            style=\"display:none;\">\n",
              "\n",
              "<svg xmlns=\"http://www.w3.org/2000/svg\" height=\"24px\"viewBox=\"0 0 24 24\"\n",
              "     width=\"24px\">\n",
              "    <g>\n",
              "        <path d=\"M19 3H5c-1.1 0-2 .9-2 2v14c0 1.1.9 2 2 2h14c1.1 0 2-.9 2-2V5c0-1.1-.9-2-2-2zM9 17H7v-7h2v7zm4 0h-2V7h2v10zm4 0h-2v-4h2v4z\"/>\n",
              "    </g>\n",
              "</svg>\n",
              "  </button>\n",
              "\n",
              "<style>\n",
              "  .colab-df-quickchart {\n",
              "      --bg-color: #E8F0FE;\n",
              "      --fill-color: #1967D2;\n",
              "      --hover-bg-color: #E2EBFA;\n",
              "      --hover-fill-color: #174EA6;\n",
              "      --disabled-fill-color: #AAA;\n",
              "      --disabled-bg-color: #DDD;\n",
              "  }\n",
              "\n",
              "  [theme=dark] .colab-df-quickchart {\n",
              "      --bg-color: #3B4455;\n",
              "      --fill-color: #D2E3FC;\n",
              "      --hover-bg-color: #434B5C;\n",
              "      --hover-fill-color: #FFFFFF;\n",
              "      --disabled-bg-color: #3B4455;\n",
              "      --disabled-fill-color: #666;\n",
              "  }\n",
              "\n",
              "  .colab-df-quickchart {\n",
              "    background-color: var(--bg-color);\n",
              "    border: none;\n",
              "    border-radius: 50%;\n",
              "    cursor: pointer;\n",
              "    display: none;\n",
              "    fill: var(--fill-color);\n",
              "    height: 32px;\n",
              "    padding: 0;\n",
              "    width: 32px;\n",
              "  }\n",
              "\n",
              "  .colab-df-quickchart:hover {\n",
              "    background-color: var(--hover-bg-color);\n",
              "    box-shadow: 0 1px 2px rgba(60, 64, 67, 0.3), 0 1px 3px 1px rgba(60, 64, 67, 0.15);\n",
              "    fill: var(--button-hover-fill-color);\n",
              "  }\n",
              "\n",
              "  .colab-df-quickchart-complete:disabled,\n",
              "  .colab-df-quickchart-complete:disabled:hover {\n",
              "    background-color: var(--disabled-bg-color);\n",
              "    fill: var(--disabled-fill-color);\n",
              "    box-shadow: none;\n",
              "  }\n",
              "\n",
              "  .colab-df-spinner {\n",
              "    border: 2px solid var(--fill-color);\n",
              "    border-color: transparent;\n",
              "    border-bottom-color: var(--fill-color);\n",
              "    animation:\n",
              "      spin 1s steps(1) infinite;\n",
              "  }\n",
              "\n",
              "  @keyframes spin {\n",
              "    0% {\n",
              "      border-color: transparent;\n",
              "      border-bottom-color: var(--fill-color);\n",
              "      border-left-color: var(--fill-color);\n",
              "    }\n",
              "    20% {\n",
              "      border-color: transparent;\n",
              "      border-left-color: var(--fill-color);\n",
              "      border-top-color: var(--fill-color);\n",
              "    }\n",
              "    30% {\n",
              "      border-color: transparent;\n",
              "      border-left-color: var(--fill-color);\n",
              "      border-top-color: var(--fill-color);\n",
              "      border-right-color: var(--fill-color);\n",
              "    }\n",
              "    40% {\n",
              "      border-color: transparent;\n",
              "      border-right-color: var(--fill-color);\n",
              "      border-top-color: var(--fill-color);\n",
              "    }\n",
              "    60% {\n",
              "      border-color: transparent;\n",
              "      border-right-color: var(--fill-color);\n",
              "    }\n",
              "    80% {\n",
              "      border-color: transparent;\n",
              "      border-right-color: var(--fill-color);\n",
              "      border-bottom-color: var(--fill-color);\n",
              "    }\n",
              "    90% {\n",
              "      border-color: transparent;\n",
              "      border-bottom-color: var(--fill-color);\n",
              "    }\n",
              "  }\n",
              "</style>\n",
              "\n",
              "  <script>\n",
              "    async function quickchart(key) {\n",
              "      const quickchartButtonEl =\n",
              "        document.querySelector('#' + key + ' button');\n",
              "      quickchartButtonEl.disabled = true;  // To prevent multiple clicks.\n",
              "      quickchartButtonEl.classList.add('colab-df-spinner');\n",
              "      try {\n",
              "        const charts = await google.colab.kernel.invokeFunction(\n",
              "            'suggestCharts', [key], {});\n",
              "      } catch (error) {\n",
              "        console.error('Error during call to suggestCharts:', error);\n",
              "      }\n",
              "      quickchartButtonEl.classList.remove('colab-df-spinner');\n",
              "      quickchartButtonEl.classList.add('colab-df-quickchart-complete');\n",
              "    }\n",
              "    (() => {\n",
              "      let quickchartButtonEl =\n",
              "        document.querySelector('#df-42ca994e-7b6d-485a-94fe-9dfd6ecdd65b button');\n",
              "      quickchartButtonEl.style.display =\n",
              "        google.colab.kernel.accessAllowed ? 'block' : 'none';\n",
              "    })();\n",
              "  </script>\n",
              "</div>\n",
              "\n",
              "    </div>\n",
              "  </div>\n"
            ]
          },
          "metadata": {},
          "execution_count": 54
        }
      ]
    },
    {
      "cell_type": "code",
      "source": [
        "test.head(3)"
      ],
      "metadata": {
        "execution": {
          "iopub.status.busy": "2024-01-09T23:43:48.449270Z",
          "iopub.execute_input": "2024-01-09T23:43:48.449699Z",
          "iopub.status.idle": "2024-01-09T23:43:48.465330Z",
          "shell.execute_reply.started": "2024-01-09T23:43:48.449664Z",
          "shell.execute_reply": "2024-01-09T23:43:48.464100Z"
        },
        "trusted": true,
        "colab": {
          "base_uri": "https://localhost:8080/",
          "height": 143
        },
        "id": "H8cpmBVqsK9z",
        "outputId": "b323c9dd-d396-4960-dda3-0ec075093d8a"
      },
      "execution_count": 55,
      "outputs": [
        {
          "output_type": "execute_result",
          "data": {
            "text/plain": [
              "   PassengerId  Pclass       Age  SibSp  Parch      Fare  Embarked  MaleCheck  \\\n",
              "0          892       3  0.331562      0      0 -0.280670         2          1   \n",
              "1          893       3  1.311954      1      0 -0.315800         0          0   \n",
              "2          894       2  2.488424      0      0 -0.201943         2          1   \n",
              "\n",
              "   Alone  Relatives  \n",
              "0      1          0  \n",
              "1      0          1  \n",
              "2      1          0  "
            ],
            "text/html": [
              "\n",
              "  <div id=\"df-e323df18-6918-4203-983c-6614a53d7db0\" class=\"colab-df-container\">\n",
              "    <div>\n",
              "<style scoped>\n",
              "    .dataframe tbody tr th:only-of-type {\n",
              "        vertical-align: middle;\n",
              "    }\n",
              "\n",
              "    .dataframe tbody tr th {\n",
              "        vertical-align: top;\n",
              "    }\n",
              "\n",
              "    .dataframe thead th {\n",
              "        text-align: right;\n",
              "    }\n",
              "</style>\n",
              "<table border=\"1\" class=\"dataframe\">\n",
              "  <thead>\n",
              "    <tr style=\"text-align: right;\">\n",
              "      <th></th>\n",
              "      <th>PassengerId</th>\n",
              "      <th>Pclass</th>\n",
              "      <th>Age</th>\n",
              "      <th>SibSp</th>\n",
              "      <th>Parch</th>\n",
              "      <th>Fare</th>\n",
              "      <th>Embarked</th>\n",
              "      <th>MaleCheck</th>\n",
              "      <th>Alone</th>\n",
              "      <th>Relatives</th>\n",
              "    </tr>\n",
              "  </thead>\n",
              "  <tbody>\n",
              "    <tr>\n",
              "      <th>0</th>\n",
              "      <td>892</td>\n",
              "      <td>3</td>\n",
              "      <td>0.331562</td>\n",
              "      <td>0</td>\n",
              "      <td>0</td>\n",
              "      <td>-0.280670</td>\n",
              "      <td>2</td>\n",
              "      <td>1</td>\n",
              "      <td>1</td>\n",
              "      <td>0</td>\n",
              "    </tr>\n",
              "    <tr>\n",
              "      <th>1</th>\n",
              "      <td>893</td>\n",
              "      <td>3</td>\n",
              "      <td>1.311954</td>\n",
              "      <td>1</td>\n",
              "      <td>0</td>\n",
              "      <td>-0.315800</td>\n",
              "      <td>0</td>\n",
              "      <td>0</td>\n",
              "      <td>0</td>\n",
              "      <td>1</td>\n",
              "    </tr>\n",
              "    <tr>\n",
              "      <th>2</th>\n",
              "      <td>894</td>\n",
              "      <td>2</td>\n",
              "      <td>2.488424</td>\n",
              "      <td>0</td>\n",
              "      <td>0</td>\n",
              "      <td>-0.201943</td>\n",
              "      <td>2</td>\n",
              "      <td>1</td>\n",
              "      <td>1</td>\n",
              "      <td>0</td>\n",
              "    </tr>\n",
              "  </tbody>\n",
              "</table>\n",
              "</div>\n",
              "    <div class=\"colab-df-buttons\">\n",
              "\n",
              "  <div class=\"colab-df-container\">\n",
              "    <button class=\"colab-df-convert\" onclick=\"convertToInteractive('df-e323df18-6918-4203-983c-6614a53d7db0')\"\n",
              "            title=\"Convert this dataframe to an interactive table.\"\n",
              "            style=\"display:none;\">\n",
              "\n",
              "  <svg xmlns=\"http://www.w3.org/2000/svg\" height=\"24px\" viewBox=\"0 -960 960 960\">\n",
              "    <path d=\"M120-120v-720h720v720H120Zm60-500h600v-160H180v160Zm220 220h160v-160H400v160Zm0 220h160v-160H400v160ZM180-400h160v-160H180v160Zm440 0h160v-160H620v160ZM180-180h160v-160H180v160Zm440 0h160v-160H620v160Z\"/>\n",
              "  </svg>\n",
              "    </button>\n",
              "\n",
              "  <style>\n",
              "    .colab-df-container {\n",
              "      display:flex;\n",
              "      gap: 12px;\n",
              "    }\n",
              "\n",
              "    .colab-df-convert {\n",
              "      background-color: #E8F0FE;\n",
              "      border: none;\n",
              "      border-radius: 50%;\n",
              "      cursor: pointer;\n",
              "      display: none;\n",
              "      fill: #1967D2;\n",
              "      height: 32px;\n",
              "      padding: 0 0 0 0;\n",
              "      width: 32px;\n",
              "    }\n",
              "\n",
              "    .colab-df-convert:hover {\n",
              "      background-color: #E2EBFA;\n",
              "      box-shadow: 0px 1px 2px rgba(60, 64, 67, 0.3), 0px 1px 3px 1px rgba(60, 64, 67, 0.15);\n",
              "      fill: #174EA6;\n",
              "    }\n",
              "\n",
              "    .colab-df-buttons div {\n",
              "      margin-bottom: 4px;\n",
              "    }\n",
              "\n",
              "    [theme=dark] .colab-df-convert {\n",
              "      background-color: #3B4455;\n",
              "      fill: #D2E3FC;\n",
              "    }\n",
              "\n",
              "    [theme=dark] .colab-df-convert:hover {\n",
              "      background-color: #434B5C;\n",
              "      box-shadow: 0px 1px 3px 1px rgba(0, 0, 0, 0.15);\n",
              "      filter: drop-shadow(0px 1px 2px rgba(0, 0, 0, 0.3));\n",
              "      fill: #FFFFFF;\n",
              "    }\n",
              "  </style>\n",
              "\n",
              "    <script>\n",
              "      const buttonEl =\n",
              "        document.querySelector('#df-e323df18-6918-4203-983c-6614a53d7db0 button.colab-df-convert');\n",
              "      buttonEl.style.display =\n",
              "        google.colab.kernel.accessAllowed ? 'block' : 'none';\n",
              "\n",
              "      async function convertToInteractive(key) {\n",
              "        const element = document.querySelector('#df-e323df18-6918-4203-983c-6614a53d7db0');\n",
              "        const dataTable =\n",
              "          await google.colab.kernel.invokeFunction('convertToInteractive',\n",
              "                                                    [key], {});\n",
              "        if (!dataTable) return;\n",
              "\n",
              "        const docLinkHtml = 'Like what you see? Visit the ' +\n",
              "          '<a target=\"_blank\" href=https://colab.research.google.com/notebooks/data_table.ipynb>data table notebook</a>'\n",
              "          + ' to learn more about interactive tables.';\n",
              "        element.innerHTML = '';\n",
              "        dataTable['output_type'] = 'display_data';\n",
              "        await google.colab.output.renderOutput(dataTable, element);\n",
              "        const docLink = document.createElement('div');\n",
              "        docLink.innerHTML = docLinkHtml;\n",
              "        element.appendChild(docLink);\n",
              "      }\n",
              "    </script>\n",
              "  </div>\n",
              "\n",
              "\n",
              "<div id=\"df-e0502bae-ea1a-4d58-acb0-6b2f452066dc\">\n",
              "  <button class=\"colab-df-quickchart\" onclick=\"quickchart('df-e0502bae-ea1a-4d58-acb0-6b2f452066dc')\"\n",
              "            title=\"Suggest charts\"\n",
              "            style=\"display:none;\">\n",
              "\n",
              "<svg xmlns=\"http://www.w3.org/2000/svg\" height=\"24px\"viewBox=\"0 0 24 24\"\n",
              "     width=\"24px\">\n",
              "    <g>\n",
              "        <path d=\"M19 3H5c-1.1 0-2 .9-2 2v14c0 1.1.9 2 2 2h14c1.1 0 2-.9 2-2V5c0-1.1-.9-2-2-2zM9 17H7v-7h2v7zm4 0h-2V7h2v10zm4 0h-2v-4h2v4z\"/>\n",
              "    </g>\n",
              "</svg>\n",
              "  </button>\n",
              "\n",
              "<style>\n",
              "  .colab-df-quickchart {\n",
              "      --bg-color: #E8F0FE;\n",
              "      --fill-color: #1967D2;\n",
              "      --hover-bg-color: #E2EBFA;\n",
              "      --hover-fill-color: #174EA6;\n",
              "      --disabled-fill-color: #AAA;\n",
              "      --disabled-bg-color: #DDD;\n",
              "  }\n",
              "\n",
              "  [theme=dark] .colab-df-quickchart {\n",
              "      --bg-color: #3B4455;\n",
              "      --fill-color: #D2E3FC;\n",
              "      --hover-bg-color: #434B5C;\n",
              "      --hover-fill-color: #FFFFFF;\n",
              "      --disabled-bg-color: #3B4455;\n",
              "      --disabled-fill-color: #666;\n",
              "  }\n",
              "\n",
              "  .colab-df-quickchart {\n",
              "    background-color: var(--bg-color);\n",
              "    border: none;\n",
              "    border-radius: 50%;\n",
              "    cursor: pointer;\n",
              "    display: none;\n",
              "    fill: var(--fill-color);\n",
              "    height: 32px;\n",
              "    padding: 0;\n",
              "    width: 32px;\n",
              "  }\n",
              "\n",
              "  .colab-df-quickchart:hover {\n",
              "    background-color: var(--hover-bg-color);\n",
              "    box-shadow: 0 1px 2px rgba(60, 64, 67, 0.3), 0 1px 3px 1px rgba(60, 64, 67, 0.15);\n",
              "    fill: var(--button-hover-fill-color);\n",
              "  }\n",
              "\n",
              "  .colab-df-quickchart-complete:disabled,\n",
              "  .colab-df-quickchart-complete:disabled:hover {\n",
              "    background-color: var(--disabled-bg-color);\n",
              "    fill: var(--disabled-fill-color);\n",
              "    box-shadow: none;\n",
              "  }\n",
              "\n",
              "  .colab-df-spinner {\n",
              "    border: 2px solid var(--fill-color);\n",
              "    border-color: transparent;\n",
              "    border-bottom-color: var(--fill-color);\n",
              "    animation:\n",
              "      spin 1s steps(1) infinite;\n",
              "  }\n",
              "\n",
              "  @keyframes spin {\n",
              "    0% {\n",
              "      border-color: transparent;\n",
              "      border-bottom-color: var(--fill-color);\n",
              "      border-left-color: var(--fill-color);\n",
              "    }\n",
              "    20% {\n",
              "      border-color: transparent;\n",
              "      border-left-color: var(--fill-color);\n",
              "      border-top-color: var(--fill-color);\n",
              "    }\n",
              "    30% {\n",
              "      border-color: transparent;\n",
              "      border-left-color: var(--fill-color);\n",
              "      border-top-color: var(--fill-color);\n",
              "      border-right-color: var(--fill-color);\n",
              "    }\n",
              "    40% {\n",
              "      border-color: transparent;\n",
              "      border-right-color: var(--fill-color);\n",
              "      border-top-color: var(--fill-color);\n",
              "    }\n",
              "    60% {\n",
              "      border-color: transparent;\n",
              "      border-right-color: var(--fill-color);\n",
              "    }\n",
              "    80% {\n",
              "      border-color: transparent;\n",
              "      border-right-color: var(--fill-color);\n",
              "      border-bottom-color: var(--fill-color);\n",
              "    }\n",
              "    90% {\n",
              "      border-color: transparent;\n",
              "      border-bottom-color: var(--fill-color);\n",
              "    }\n",
              "  }\n",
              "</style>\n",
              "\n",
              "  <script>\n",
              "    async function quickchart(key) {\n",
              "      const quickchartButtonEl =\n",
              "        document.querySelector('#' + key + ' button');\n",
              "      quickchartButtonEl.disabled = true;  // To prevent multiple clicks.\n",
              "      quickchartButtonEl.classList.add('colab-df-spinner');\n",
              "      try {\n",
              "        const charts = await google.colab.kernel.invokeFunction(\n",
              "            'suggestCharts', [key], {});\n",
              "      } catch (error) {\n",
              "        console.error('Error during call to suggestCharts:', error);\n",
              "      }\n",
              "      quickchartButtonEl.classList.remove('colab-df-spinner');\n",
              "      quickchartButtonEl.classList.add('colab-df-quickchart-complete');\n",
              "    }\n",
              "    (() => {\n",
              "      let quickchartButtonEl =\n",
              "        document.querySelector('#df-e0502bae-ea1a-4d58-acb0-6b2f452066dc button');\n",
              "      quickchartButtonEl.style.display =\n",
              "        google.colab.kernel.accessAllowed ? 'block' : 'none';\n",
              "    })();\n",
              "  </script>\n",
              "</div>\n",
              "\n",
              "    </div>\n",
              "  </div>\n"
            ]
          },
          "metadata": {},
          "execution_count": 55
        }
      ]
    },
    {
      "cell_type": "code",
      "source": [
        "#Deleting PassengerId from Test because test and training must have the same columns\n",
        "X_test = test.drop(['PassengerId'], axis=1)"
      ],
      "metadata": {
        "execution": {
          "iopub.status.busy": "2024-01-09T23:46:38.565303Z",
          "iopub.execute_input": "2024-01-09T23:46:38.565722Z",
          "iopub.status.idle": "2024-01-09T23:46:38.573081Z",
          "shell.execute_reply.started": "2024-01-09T23:46:38.565689Z",
          "shell.execute_reply": "2024-01-09T23:46:38.571848Z"
        },
        "trusted": true,
        "id": "12FCRUgasK9z"
      },
      "execution_count": 56,
      "outputs": []
    },
    {
      "cell_type": "code",
      "source": [
        "#Selecting the best model to our test data\n",
        "y_pred = clf_selected_rf.predict(X_test)"
      ],
      "metadata": {
        "execution": {
          "iopub.status.busy": "2024-01-09T23:52:20.525841Z",
          "iopub.execute_input": "2024-01-09T23:52:20.526390Z",
          "iopub.status.idle": "2024-01-09T23:52:20.548032Z",
          "shell.execute_reply.started": "2024-01-09T23:52:20.526338Z",
          "shell.execute_reply": "2024-01-09T23:52:20.546819Z"
        },
        "trusted": true,
        "id": "0YNHHLJysK9z"
      },
      "execution_count": 57,
      "outputs": []
    },
    {
      "cell_type": "code",
      "source": [
        "#Creating the colum 'Survived'\n",
        "test['Survived'] = y_pred"
      ],
      "metadata": {
        "execution": {
          "iopub.status.busy": "2024-01-09T23:54:13.737868Z",
          "iopub.execute_input": "2024-01-09T23:54:13.738305Z",
          "iopub.status.idle": "2024-01-09T23:54:13.743935Z",
          "shell.execute_reply.started": "2024-01-09T23:54:13.738269Z",
          "shell.execute_reply": "2024-01-09T23:54:13.743068Z"
        },
        "trusted": true,
        "id": "62i8SNyZsK90"
      },
      "execution_count": 58,
      "outputs": []
    },
    {
      "cell_type": "code",
      "source": [
        "#Selecting just the colums 'PassengerId'and 'Survived' to send and the dataset updated\n",
        "result = test[['PassengerId','Survived']]"
      ],
      "metadata": {
        "execution": {
          "iopub.status.busy": "2024-01-09T23:54:17.987813Z",
          "iopub.execute_input": "2024-01-09T23:54:17.988270Z",
          "iopub.status.idle": "2024-01-09T23:54:17.995325Z",
          "shell.execute_reply.started": "2024-01-09T23:54:17.988234Z",
          "shell.execute_reply": "2024-01-09T23:54:17.993981Z"
        },
        "trusted": true,
        "id": "i7oZ50OCsK90"
      },
      "execution_count": 59,
      "outputs": []
    },
    {
      "cell_type": "code",
      "source": [
        "#Exporting to .CSV\n",
        "result.to_csv('result4.csv', index = False)"
      ],
      "metadata": {
        "execution": {
          "iopub.status.busy": "2024-01-09T23:54:48.860106Z",
          "iopub.execute_input": "2024-01-09T23:54:48.860537Z",
          "iopub.status.idle": "2024-01-09T23:54:48.870541Z",
          "shell.execute_reply.started": "2024-01-09T23:54:48.860500Z",
          "shell.execute_reply": "2024-01-09T23:54:48.868820Z"
        },
        "trusted": true,
        "id": "gYaKJL3ZsK90"
      },
      "execution_count": 60,
      "outputs": []
    }
  ]
}