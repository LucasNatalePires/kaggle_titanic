{
  "cells": [
    {
      "cell_type": "markdown",
      "metadata": {
        "id": "view-in-github",
        "colab_type": "text"
      },
      "source": [
        "<a href=\"https://colab.research.google.com/github/LucasNatalePires/kaggle_titanic/blob/main/titanic_version2.ipynb\" target=\"_parent\"><img src=\"https://colab.research.google.com/assets/colab-badge.svg\" alt=\"Open In Colab\"/></a>"
      ]
    },
    {
      "cell_type": "markdown",
      "id": "975e1129",
      "metadata": {
        "id": "975e1129",
        "papermill": {
          "duration": 0.013159,
          "end_time": "2023-11-28T22:16:18.290942",
          "exception": false,
          "start_time": "2023-11-28T22:16:18.277783",
          "status": "completed"
        },
        "tags": []
      },
      "source": [
        "**The first version had a result below what I expected and so it was necessary to rethink what could be done to improve it. And it is very evident that sex influences the final result, so, as the first attempt was to exclude the column, we will have to treat it and transform the object type variable into a float or int, so the Logistic Regression model can be used taking into account count more information and consequently have greater accuracy**"
      ]
    },
    {
      "cell_type": "markdown",
      "id": "ebffd8a8",
      "metadata": {
        "id": "ebffd8a8",
        "papermill": {
          "duration": 0.013661,
          "end_time": "2023-11-28T22:16:18.317925",
          "exception": false,
          "start_time": "2023-11-28T22:16:18.304264",
          "status": "completed"
        },
        "tags": []
      },
      "source": [
        "**For the above reason, and because I have already treated the data and I explained why each thing in version 1, in version 2 we will focus on converting this data, seeking to achieve our objective of reaching around 85%, but I'll leave the link here, in case you want to review it in more detail:\n",
        "[version1](https://github.com/LucasNatalePires/kaggle_titanic/blob/main/titanic_version1.ipynb)**"
      ]
    },
    {
      "cell_type": "code",
      "execution_count": 3,
      "id": "85043fbd",
      "metadata": {
        "execution": {
          "iopub.execute_input": "2023-11-28T22:16:18.346851Z",
          "iopub.status.busy": "2023-11-28T22:16:18.346477Z",
          "iopub.status.idle": "2023-11-28T22:16:18.349962Z",
          "shell.execute_reply": "2023-11-28T22:16:18.349191Z"
        },
        "id": "85043fbd",
        "papermill": {
          "duration": 0.019602,
          "end_time": "2023-11-28T22:16:18.351492",
          "exception": false,
          "start_time": "2023-11-28T22:16:18.331890",
          "status": "completed"
        },
        "tags": []
      },
      "outputs": [],
      "source": [
        "#Import\n",
        "import pandas as pd"
      ]
    },
    {
      "cell_type": "code",
      "execution_count": 4,
      "id": "14134343",
      "metadata": {
        "execution": {
          "iopub.execute_input": "2023-11-28T22:16:18.379492Z",
          "iopub.status.busy": "2023-11-28T22:16:18.379220Z",
          "iopub.status.idle": "2023-11-28T22:16:18.415271Z",
          "shell.execute_reply": "2023-11-28T22:16:18.414520Z"
        },
        "id": "14134343",
        "outputId": "ad3bf10d-a353-4592-afc7-ad4279d1c30f",
        "papermill": {
          "duration": 0.052011,
          "end_time": "2023-11-28T22:16:18.417088",
          "exception": false,
          "start_time": "2023-11-28T22:16:18.365077",
          "status": "completed"
        },
        "tags": [],
        "colab": {
          "base_uri": "https://localhost:8080/",
          "height": 224
        }
      },
      "outputs": [
        {
          "output_type": "execute_result",
          "data": {
            "text/plain": [
              "   PassengerId  Pclass                                          Name     Sex  \\\n",
              "0          892       3                              Kelly, Mr. James    male   \n",
              "1          893       3              Wilkes, Mrs. James (Ellen Needs)  female   \n",
              "2          894       2                     Myles, Mr. Thomas Francis    male   \n",
              "3          895       3                              Wirz, Mr. Albert    male   \n",
              "4          896       3  Hirvonen, Mrs. Alexander (Helga E Lindqvist)  female   \n",
              "\n",
              "    Age  SibSp  Parch   Ticket     Fare Cabin Embarked  \n",
              "0  34.5      0      0   330911   7.8292   NaN        Q  \n",
              "1  47.0      1      0   363272   7.0000   NaN        S  \n",
              "2  62.0      0      0   240276   9.6875   NaN        Q  \n",
              "3  27.0      0      0   315154   8.6625   NaN        S  \n",
              "4  22.0      1      1  3101298  12.2875   NaN        S  "
            ],
            "text/html": [
              "\n",
              "  <div id=\"df-2884dd93-eb27-4824-93e4-57e5a9447461\" class=\"colab-df-container\">\n",
              "    <div>\n",
              "<style scoped>\n",
              "    .dataframe tbody tr th:only-of-type {\n",
              "        vertical-align: middle;\n",
              "    }\n",
              "\n",
              "    .dataframe tbody tr th {\n",
              "        vertical-align: top;\n",
              "    }\n",
              "\n",
              "    .dataframe thead th {\n",
              "        text-align: right;\n",
              "    }\n",
              "</style>\n",
              "<table border=\"1\" class=\"dataframe\">\n",
              "  <thead>\n",
              "    <tr style=\"text-align: right;\">\n",
              "      <th></th>\n",
              "      <th>PassengerId</th>\n",
              "      <th>Pclass</th>\n",
              "      <th>Name</th>\n",
              "      <th>Sex</th>\n",
              "      <th>Age</th>\n",
              "      <th>SibSp</th>\n",
              "      <th>Parch</th>\n",
              "      <th>Ticket</th>\n",
              "      <th>Fare</th>\n",
              "      <th>Cabin</th>\n",
              "      <th>Embarked</th>\n",
              "    </tr>\n",
              "  </thead>\n",
              "  <tbody>\n",
              "    <tr>\n",
              "      <th>0</th>\n",
              "      <td>892</td>\n",
              "      <td>3</td>\n",
              "      <td>Kelly, Mr. James</td>\n",
              "      <td>male</td>\n",
              "      <td>34.5</td>\n",
              "      <td>0</td>\n",
              "      <td>0</td>\n",
              "      <td>330911</td>\n",
              "      <td>7.8292</td>\n",
              "      <td>NaN</td>\n",
              "      <td>Q</td>\n",
              "    </tr>\n",
              "    <tr>\n",
              "      <th>1</th>\n",
              "      <td>893</td>\n",
              "      <td>3</td>\n",
              "      <td>Wilkes, Mrs. James (Ellen Needs)</td>\n",
              "      <td>female</td>\n",
              "      <td>47.0</td>\n",
              "      <td>1</td>\n",
              "      <td>0</td>\n",
              "      <td>363272</td>\n",
              "      <td>7.0000</td>\n",
              "      <td>NaN</td>\n",
              "      <td>S</td>\n",
              "    </tr>\n",
              "    <tr>\n",
              "      <th>2</th>\n",
              "      <td>894</td>\n",
              "      <td>2</td>\n",
              "      <td>Myles, Mr. Thomas Francis</td>\n",
              "      <td>male</td>\n",
              "      <td>62.0</td>\n",
              "      <td>0</td>\n",
              "      <td>0</td>\n",
              "      <td>240276</td>\n",
              "      <td>9.6875</td>\n",
              "      <td>NaN</td>\n",
              "      <td>Q</td>\n",
              "    </tr>\n",
              "    <tr>\n",
              "      <th>3</th>\n",
              "      <td>895</td>\n",
              "      <td>3</td>\n",
              "      <td>Wirz, Mr. Albert</td>\n",
              "      <td>male</td>\n",
              "      <td>27.0</td>\n",
              "      <td>0</td>\n",
              "      <td>0</td>\n",
              "      <td>315154</td>\n",
              "      <td>8.6625</td>\n",
              "      <td>NaN</td>\n",
              "      <td>S</td>\n",
              "    </tr>\n",
              "    <tr>\n",
              "      <th>4</th>\n",
              "      <td>896</td>\n",
              "      <td>3</td>\n",
              "      <td>Hirvonen, Mrs. Alexander (Helga E Lindqvist)</td>\n",
              "      <td>female</td>\n",
              "      <td>22.0</td>\n",
              "      <td>1</td>\n",
              "      <td>1</td>\n",
              "      <td>3101298</td>\n",
              "      <td>12.2875</td>\n",
              "      <td>NaN</td>\n",
              "      <td>S</td>\n",
              "    </tr>\n",
              "  </tbody>\n",
              "</table>\n",
              "</div>\n",
              "    <div class=\"colab-df-buttons\">\n",
              "\n",
              "  <div class=\"colab-df-container\">\n",
              "    <button class=\"colab-df-convert\" onclick=\"convertToInteractive('df-2884dd93-eb27-4824-93e4-57e5a9447461')\"\n",
              "            title=\"Convert this dataframe to an interactive table.\"\n",
              "            style=\"display:none;\">\n",
              "\n",
              "  <svg xmlns=\"http://www.w3.org/2000/svg\" height=\"24px\" viewBox=\"0 -960 960 960\">\n",
              "    <path d=\"M120-120v-720h720v720H120Zm60-500h600v-160H180v160Zm220 220h160v-160H400v160Zm0 220h160v-160H400v160ZM180-400h160v-160H180v160Zm440 0h160v-160H620v160ZM180-180h160v-160H180v160Zm440 0h160v-160H620v160Z\"/>\n",
              "  </svg>\n",
              "    </button>\n",
              "\n",
              "  <style>\n",
              "    .colab-df-container {\n",
              "      display:flex;\n",
              "      gap: 12px;\n",
              "    }\n",
              "\n",
              "    .colab-df-convert {\n",
              "      background-color: #E8F0FE;\n",
              "      border: none;\n",
              "      border-radius: 50%;\n",
              "      cursor: pointer;\n",
              "      display: none;\n",
              "      fill: #1967D2;\n",
              "      height: 32px;\n",
              "      padding: 0 0 0 0;\n",
              "      width: 32px;\n",
              "    }\n",
              "\n",
              "    .colab-df-convert:hover {\n",
              "      background-color: #E2EBFA;\n",
              "      box-shadow: 0px 1px 2px rgba(60, 64, 67, 0.3), 0px 1px 3px 1px rgba(60, 64, 67, 0.15);\n",
              "      fill: #174EA6;\n",
              "    }\n",
              "\n",
              "    .colab-df-buttons div {\n",
              "      margin-bottom: 4px;\n",
              "    }\n",
              "\n",
              "    [theme=dark] .colab-df-convert {\n",
              "      background-color: #3B4455;\n",
              "      fill: #D2E3FC;\n",
              "    }\n",
              "\n",
              "    [theme=dark] .colab-df-convert:hover {\n",
              "      background-color: #434B5C;\n",
              "      box-shadow: 0px 1px 3px 1px rgba(0, 0, 0, 0.15);\n",
              "      filter: drop-shadow(0px 1px 2px rgba(0, 0, 0, 0.3));\n",
              "      fill: #FFFFFF;\n",
              "    }\n",
              "  </style>\n",
              "\n",
              "    <script>\n",
              "      const buttonEl =\n",
              "        document.querySelector('#df-2884dd93-eb27-4824-93e4-57e5a9447461 button.colab-df-convert');\n",
              "      buttonEl.style.display =\n",
              "        google.colab.kernel.accessAllowed ? 'block' : 'none';\n",
              "\n",
              "      async function convertToInteractive(key) {\n",
              "        const element = document.querySelector('#df-2884dd93-eb27-4824-93e4-57e5a9447461');\n",
              "        const dataTable =\n",
              "          await google.colab.kernel.invokeFunction('convertToInteractive',\n",
              "                                                    [key], {});\n",
              "        if (!dataTable) return;\n",
              "\n",
              "        const docLinkHtml = 'Like what you see? Visit the ' +\n",
              "          '<a target=\"_blank\" href=https://colab.research.google.com/notebooks/data_table.ipynb>data table notebook</a>'\n",
              "          + ' to learn more about interactive tables.';\n",
              "        element.innerHTML = '';\n",
              "        dataTable['output_type'] = 'display_data';\n",
              "        await google.colab.output.renderOutput(dataTable, element);\n",
              "        const docLink = document.createElement('div');\n",
              "        docLink.innerHTML = docLinkHtml;\n",
              "        element.appendChild(docLink);\n",
              "      }\n",
              "    </script>\n",
              "  </div>\n",
              "\n",
              "\n",
              "<div id=\"df-028f2ed8-853d-4730-9444-93569f18f304\">\n",
              "  <button class=\"colab-df-quickchart\" onclick=\"quickchart('df-028f2ed8-853d-4730-9444-93569f18f304')\"\n",
              "            title=\"Suggest charts\"\n",
              "            style=\"display:none;\">\n",
              "\n",
              "<svg xmlns=\"http://www.w3.org/2000/svg\" height=\"24px\"viewBox=\"0 0 24 24\"\n",
              "     width=\"24px\">\n",
              "    <g>\n",
              "        <path d=\"M19 3H5c-1.1 0-2 .9-2 2v14c0 1.1.9 2 2 2h14c1.1 0 2-.9 2-2V5c0-1.1-.9-2-2-2zM9 17H7v-7h2v7zm4 0h-2V7h2v10zm4 0h-2v-4h2v4z\"/>\n",
              "    </g>\n",
              "</svg>\n",
              "  </button>\n",
              "\n",
              "<style>\n",
              "  .colab-df-quickchart {\n",
              "      --bg-color: #E8F0FE;\n",
              "      --fill-color: #1967D2;\n",
              "      --hover-bg-color: #E2EBFA;\n",
              "      --hover-fill-color: #174EA6;\n",
              "      --disabled-fill-color: #AAA;\n",
              "      --disabled-bg-color: #DDD;\n",
              "  }\n",
              "\n",
              "  [theme=dark] .colab-df-quickchart {\n",
              "      --bg-color: #3B4455;\n",
              "      --fill-color: #D2E3FC;\n",
              "      --hover-bg-color: #434B5C;\n",
              "      --hover-fill-color: #FFFFFF;\n",
              "      --disabled-bg-color: #3B4455;\n",
              "      --disabled-fill-color: #666;\n",
              "  }\n",
              "\n",
              "  .colab-df-quickchart {\n",
              "    background-color: var(--bg-color);\n",
              "    border: none;\n",
              "    border-radius: 50%;\n",
              "    cursor: pointer;\n",
              "    display: none;\n",
              "    fill: var(--fill-color);\n",
              "    height: 32px;\n",
              "    padding: 0;\n",
              "    width: 32px;\n",
              "  }\n",
              "\n",
              "  .colab-df-quickchart:hover {\n",
              "    background-color: var(--hover-bg-color);\n",
              "    box-shadow: 0 1px 2px rgba(60, 64, 67, 0.3), 0 1px 3px 1px rgba(60, 64, 67, 0.15);\n",
              "    fill: var(--button-hover-fill-color);\n",
              "  }\n",
              "\n",
              "  .colab-df-quickchart-complete:disabled,\n",
              "  .colab-df-quickchart-complete:disabled:hover {\n",
              "    background-color: var(--disabled-bg-color);\n",
              "    fill: var(--disabled-fill-color);\n",
              "    box-shadow: none;\n",
              "  }\n",
              "\n",
              "  .colab-df-spinner {\n",
              "    border: 2px solid var(--fill-color);\n",
              "    border-color: transparent;\n",
              "    border-bottom-color: var(--fill-color);\n",
              "    animation:\n",
              "      spin 1s steps(1) infinite;\n",
              "  }\n",
              "\n",
              "  @keyframes spin {\n",
              "    0% {\n",
              "      border-color: transparent;\n",
              "      border-bottom-color: var(--fill-color);\n",
              "      border-left-color: var(--fill-color);\n",
              "    }\n",
              "    20% {\n",
              "      border-color: transparent;\n",
              "      border-left-color: var(--fill-color);\n",
              "      border-top-color: var(--fill-color);\n",
              "    }\n",
              "    30% {\n",
              "      border-color: transparent;\n",
              "      border-left-color: var(--fill-color);\n",
              "      border-top-color: var(--fill-color);\n",
              "      border-right-color: var(--fill-color);\n",
              "    }\n",
              "    40% {\n",
              "      border-color: transparent;\n",
              "      border-right-color: var(--fill-color);\n",
              "      border-top-color: var(--fill-color);\n",
              "    }\n",
              "    60% {\n",
              "      border-color: transparent;\n",
              "      border-right-color: var(--fill-color);\n",
              "    }\n",
              "    80% {\n",
              "      border-color: transparent;\n",
              "      border-right-color: var(--fill-color);\n",
              "      border-bottom-color: var(--fill-color);\n",
              "    }\n",
              "    90% {\n",
              "      border-color: transparent;\n",
              "      border-bottom-color: var(--fill-color);\n",
              "    }\n",
              "  }\n",
              "</style>\n",
              "\n",
              "  <script>\n",
              "    async function quickchart(key) {\n",
              "      const quickchartButtonEl =\n",
              "        document.querySelector('#' + key + ' button');\n",
              "      quickchartButtonEl.disabled = true;  // To prevent multiple clicks.\n",
              "      quickchartButtonEl.classList.add('colab-df-spinner');\n",
              "      try {\n",
              "        const charts = await google.colab.kernel.invokeFunction(\n",
              "            'suggestCharts', [key], {});\n",
              "      } catch (error) {\n",
              "        console.error('Error during call to suggestCharts:', error);\n",
              "      }\n",
              "      quickchartButtonEl.classList.remove('colab-df-spinner');\n",
              "      quickchartButtonEl.classList.add('colab-df-quickchart-complete');\n",
              "    }\n",
              "    (() => {\n",
              "      let quickchartButtonEl =\n",
              "        document.querySelector('#df-028f2ed8-853d-4730-9444-93569f18f304 button');\n",
              "      quickchartButtonEl.style.display =\n",
              "        google.colab.kernel.accessAllowed ? 'block' : 'none';\n",
              "    })();\n",
              "  </script>\n",
              "</div>\n",
              "    </div>\n",
              "  </div>\n"
            ]
          },
          "metadata": {},
          "execution_count": 4
        }
      ],
      "source": [
        "#Getting to know our dataset\n",
        "test = pd.read_csv(\"/content/test.csv\")\n",
        "test.head()"
      ]
    },
    {
      "cell_type": "code",
      "execution_count": 5,
      "id": "ca5d226d",
      "metadata": {
        "execution": {
          "iopub.execute_input": "2023-11-28T22:16:18.445990Z",
          "iopub.status.busy": "2023-11-28T22:16:18.445318Z",
          "iopub.status.idle": "2023-11-28T22:16:18.466237Z",
          "shell.execute_reply": "2023-11-28T22:16:18.465566Z"
        },
        "id": "ca5d226d",
        "outputId": "9cfd17dd-0c44-496c-c72e-3a7977821645",
        "papermill": {
          "duration": 0.03687,
          "end_time": "2023-11-28T22:16:18.467833",
          "exception": false,
          "start_time": "2023-11-28T22:16:18.430963",
          "status": "completed"
        },
        "tags": [],
        "colab": {
          "base_uri": "https://localhost:8080/",
          "height": 345
        }
      },
      "outputs": [
        {
          "output_type": "execute_result",
          "data": {
            "text/plain": [
              "   PassengerId  Survived  Pclass  \\\n",
              "0            1         0       3   \n",
              "1            2         1       1   \n",
              "2            3         1       3   \n",
              "3            4         1       1   \n",
              "4            5         0       3   \n",
              "\n",
              "                                                Name     Sex   Age  SibSp  \\\n",
              "0                            Braund, Mr. Owen Harris    male  22.0      1   \n",
              "1  Cumings, Mrs. John Bradley (Florence Briggs Th...  female  38.0      1   \n",
              "2                             Heikkinen, Miss. Laina  female  26.0      0   \n",
              "3       Futrelle, Mrs. Jacques Heath (Lily May Peel)  female  35.0      1   \n",
              "4                           Allen, Mr. William Henry    male  35.0      0   \n",
              "\n",
              "   Parch            Ticket     Fare Cabin Embarked  \n",
              "0      0         A/5 21171   7.2500   NaN        S  \n",
              "1      0          PC 17599  71.2833   C85        C  \n",
              "2      0  STON/O2. 3101282   7.9250   NaN        S  \n",
              "3      0            113803  53.1000  C123        S  \n",
              "4      0            373450   8.0500   NaN        S  "
            ],
            "text/html": [
              "\n",
              "  <div id=\"df-734d06c4-047d-466a-a3df-3a3f74dcb26e\" class=\"colab-df-container\">\n",
              "    <div>\n",
              "<style scoped>\n",
              "    .dataframe tbody tr th:only-of-type {\n",
              "        vertical-align: middle;\n",
              "    }\n",
              "\n",
              "    .dataframe tbody tr th {\n",
              "        vertical-align: top;\n",
              "    }\n",
              "\n",
              "    .dataframe thead th {\n",
              "        text-align: right;\n",
              "    }\n",
              "</style>\n",
              "<table border=\"1\" class=\"dataframe\">\n",
              "  <thead>\n",
              "    <tr style=\"text-align: right;\">\n",
              "      <th></th>\n",
              "      <th>PassengerId</th>\n",
              "      <th>Survived</th>\n",
              "      <th>Pclass</th>\n",
              "      <th>Name</th>\n",
              "      <th>Sex</th>\n",
              "      <th>Age</th>\n",
              "      <th>SibSp</th>\n",
              "      <th>Parch</th>\n",
              "      <th>Ticket</th>\n",
              "      <th>Fare</th>\n",
              "      <th>Cabin</th>\n",
              "      <th>Embarked</th>\n",
              "    </tr>\n",
              "  </thead>\n",
              "  <tbody>\n",
              "    <tr>\n",
              "      <th>0</th>\n",
              "      <td>1</td>\n",
              "      <td>0</td>\n",
              "      <td>3</td>\n",
              "      <td>Braund, Mr. Owen Harris</td>\n",
              "      <td>male</td>\n",
              "      <td>22.0</td>\n",
              "      <td>1</td>\n",
              "      <td>0</td>\n",
              "      <td>A/5 21171</td>\n",
              "      <td>7.2500</td>\n",
              "      <td>NaN</td>\n",
              "      <td>S</td>\n",
              "    </tr>\n",
              "    <tr>\n",
              "      <th>1</th>\n",
              "      <td>2</td>\n",
              "      <td>1</td>\n",
              "      <td>1</td>\n",
              "      <td>Cumings, Mrs. John Bradley (Florence Briggs Th...</td>\n",
              "      <td>female</td>\n",
              "      <td>38.0</td>\n",
              "      <td>1</td>\n",
              "      <td>0</td>\n",
              "      <td>PC 17599</td>\n",
              "      <td>71.2833</td>\n",
              "      <td>C85</td>\n",
              "      <td>C</td>\n",
              "    </tr>\n",
              "    <tr>\n",
              "      <th>2</th>\n",
              "      <td>3</td>\n",
              "      <td>1</td>\n",
              "      <td>3</td>\n",
              "      <td>Heikkinen, Miss. Laina</td>\n",
              "      <td>female</td>\n",
              "      <td>26.0</td>\n",
              "      <td>0</td>\n",
              "      <td>0</td>\n",
              "      <td>STON/O2. 3101282</td>\n",
              "      <td>7.9250</td>\n",
              "      <td>NaN</td>\n",
              "      <td>S</td>\n",
              "    </tr>\n",
              "    <tr>\n",
              "      <th>3</th>\n",
              "      <td>4</td>\n",
              "      <td>1</td>\n",
              "      <td>1</td>\n",
              "      <td>Futrelle, Mrs. Jacques Heath (Lily May Peel)</td>\n",
              "      <td>female</td>\n",
              "      <td>35.0</td>\n",
              "      <td>1</td>\n",
              "      <td>0</td>\n",
              "      <td>113803</td>\n",
              "      <td>53.1000</td>\n",
              "      <td>C123</td>\n",
              "      <td>S</td>\n",
              "    </tr>\n",
              "    <tr>\n",
              "      <th>4</th>\n",
              "      <td>5</td>\n",
              "      <td>0</td>\n",
              "      <td>3</td>\n",
              "      <td>Allen, Mr. William Henry</td>\n",
              "      <td>male</td>\n",
              "      <td>35.0</td>\n",
              "      <td>0</td>\n",
              "      <td>0</td>\n",
              "      <td>373450</td>\n",
              "      <td>8.0500</td>\n",
              "      <td>NaN</td>\n",
              "      <td>S</td>\n",
              "    </tr>\n",
              "  </tbody>\n",
              "</table>\n",
              "</div>\n",
              "    <div class=\"colab-df-buttons\">\n",
              "\n",
              "  <div class=\"colab-df-container\">\n",
              "    <button class=\"colab-df-convert\" onclick=\"convertToInteractive('df-734d06c4-047d-466a-a3df-3a3f74dcb26e')\"\n",
              "            title=\"Convert this dataframe to an interactive table.\"\n",
              "            style=\"display:none;\">\n",
              "\n",
              "  <svg xmlns=\"http://www.w3.org/2000/svg\" height=\"24px\" viewBox=\"0 -960 960 960\">\n",
              "    <path d=\"M120-120v-720h720v720H120Zm60-500h600v-160H180v160Zm220 220h160v-160H400v160Zm0 220h160v-160H400v160ZM180-400h160v-160H180v160Zm440 0h160v-160H620v160ZM180-180h160v-160H180v160Zm440 0h160v-160H620v160Z\"/>\n",
              "  </svg>\n",
              "    </button>\n",
              "\n",
              "  <style>\n",
              "    .colab-df-container {\n",
              "      display:flex;\n",
              "      gap: 12px;\n",
              "    }\n",
              "\n",
              "    .colab-df-convert {\n",
              "      background-color: #E8F0FE;\n",
              "      border: none;\n",
              "      border-radius: 50%;\n",
              "      cursor: pointer;\n",
              "      display: none;\n",
              "      fill: #1967D2;\n",
              "      height: 32px;\n",
              "      padding: 0 0 0 0;\n",
              "      width: 32px;\n",
              "    }\n",
              "\n",
              "    .colab-df-convert:hover {\n",
              "      background-color: #E2EBFA;\n",
              "      box-shadow: 0px 1px 2px rgba(60, 64, 67, 0.3), 0px 1px 3px 1px rgba(60, 64, 67, 0.15);\n",
              "      fill: #174EA6;\n",
              "    }\n",
              "\n",
              "    .colab-df-buttons div {\n",
              "      margin-bottom: 4px;\n",
              "    }\n",
              "\n",
              "    [theme=dark] .colab-df-convert {\n",
              "      background-color: #3B4455;\n",
              "      fill: #D2E3FC;\n",
              "    }\n",
              "\n",
              "    [theme=dark] .colab-df-convert:hover {\n",
              "      background-color: #434B5C;\n",
              "      box-shadow: 0px 1px 3px 1px rgba(0, 0, 0, 0.15);\n",
              "      filter: drop-shadow(0px 1px 2px rgba(0, 0, 0, 0.3));\n",
              "      fill: #FFFFFF;\n",
              "    }\n",
              "  </style>\n",
              "\n",
              "    <script>\n",
              "      const buttonEl =\n",
              "        document.querySelector('#df-734d06c4-047d-466a-a3df-3a3f74dcb26e button.colab-df-convert');\n",
              "      buttonEl.style.display =\n",
              "        google.colab.kernel.accessAllowed ? 'block' : 'none';\n",
              "\n",
              "      async function convertToInteractive(key) {\n",
              "        const element = document.querySelector('#df-734d06c4-047d-466a-a3df-3a3f74dcb26e');\n",
              "        const dataTable =\n",
              "          await google.colab.kernel.invokeFunction('convertToInteractive',\n",
              "                                                    [key], {});\n",
              "        if (!dataTable) return;\n",
              "\n",
              "        const docLinkHtml = 'Like what you see? Visit the ' +\n",
              "          '<a target=\"_blank\" href=https://colab.research.google.com/notebooks/data_table.ipynb>data table notebook</a>'\n",
              "          + ' to learn more about interactive tables.';\n",
              "        element.innerHTML = '';\n",
              "        dataTable['output_type'] = 'display_data';\n",
              "        await google.colab.output.renderOutput(dataTable, element);\n",
              "        const docLink = document.createElement('div');\n",
              "        docLink.innerHTML = docLinkHtml;\n",
              "        element.appendChild(docLink);\n",
              "      }\n",
              "    </script>\n",
              "  </div>\n",
              "\n",
              "\n",
              "<div id=\"df-8de32f54-b304-49db-8887-57099fd88c0f\">\n",
              "  <button class=\"colab-df-quickchart\" onclick=\"quickchart('df-8de32f54-b304-49db-8887-57099fd88c0f')\"\n",
              "            title=\"Suggest charts\"\n",
              "            style=\"display:none;\">\n",
              "\n",
              "<svg xmlns=\"http://www.w3.org/2000/svg\" height=\"24px\"viewBox=\"0 0 24 24\"\n",
              "     width=\"24px\">\n",
              "    <g>\n",
              "        <path d=\"M19 3H5c-1.1 0-2 .9-2 2v14c0 1.1.9 2 2 2h14c1.1 0 2-.9 2-2V5c0-1.1-.9-2-2-2zM9 17H7v-7h2v7zm4 0h-2V7h2v10zm4 0h-2v-4h2v4z\"/>\n",
              "    </g>\n",
              "</svg>\n",
              "  </button>\n",
              "\n",
              "<style>\n",
              "  .colab-df-quickchart {\n",
              "      --bg-color: #E8F0FE;\n",
              "      --fill-color: #1967D2;\n",
              "      --hover-bg-color: #E2EBFA;\n",
              "      --hover-fill-color: #174EA6;\n",
              "      --disabled-fill-color: #AAA;\n",
              "      --disabled-bg-color: #DDD;\n",
              "  }\n",
              "\n",
              "  [theme=dark] .colab-df-quickchart {\n",
              "      --bg-color: #3B4455;\n",
              "      --fill-color: #D2E3FC;\n",
              "      --hover-bg-color: #434B5C;\n",
              "      --hover-fill-color: #FFFFFF;\n",
              "      --disabled-bg-color: #3B4455;\n",
              "      --disabled-fill-color: #666;\n",
              "  }\n",
              "\n",
              "  .colab-df-quickchart {\n",
              "    background-color: var(--bg-color);\n",
              "    border: none;\n",
              "    border-radius: 50%;\n",
              "    cursor: pointer;\n",
              "    display: none;\n",
              "    fill: var(--fill-color);\n",
              "    height: 32px;\n",
              "    padding: 0;\n",
              "    width: 32px;\n",
              "  }\n",
              "\n",
              "  .colab-df-quickchart:hover {\n",
              "    background-color: var(--hover-bg-color);\n",
              "    box-shadow: 0 1px 2px rgba(60, 64, 67, 0.3), 0 1px 3px 1px rgba(60, 64, 67, 0.15);\n",
              "    fill: var(--button-hover-fill-color);\n",
              "  }\n",
              "\n",
              "  .colab-df-quickchart-complete:disabled,\n",
              "  .colab-df-quickchart-complete:disabled:hover {\n",
              "    background-color: var(--disabled-bg-color);\n",
              "    fill: var(--disabled-fill-color);\n",
              "    box-shadow: none;\n",
              "  }\n",
              "\n",
              "  .colab-df-spinner {\n",
              "    border: 2px solid var(--fill-color);\n",
              "    border-color: transparent;\n",
              "    border-bottom-color: var(--fill-color);\n",
              "    animation:\n",
              "      spin 1s steps(1) infinite;\n",
              "  }\n",
              "\n",
              "  @keyframes spin {\n",
              "    0% {\n",
              "      border-color: transparent;\n",
              "      border-bottom-color: var(--fill-color);\n",
              "      border-left-color: var(--fill-color);\n",
              "    }\n",
              "    20% {\n",
              "      border-color: transparent;\n",
              "      border-left-color: var(--fill-color);\n",
              "      border-top-color: var(--fill-color);\n",
              "    }\n",
              "    30% {\n",
              "      border-color: transparent;\n",
              "      border-left-color: var(--fill-color);\n",
              "      border-top-color: var(--fill-color);\n",
              "      border-right-color: var(--fill-color);\n",
              "    }\n",
              "    40% {\n",
              "      border-color: transparent;\n",
              "      border-right-color: var(--fill-color);\n",
              "      border-top-color: var(--fill-color);\n",
              "    }\n",
              "    60% {\n",
              "      border-color: transparent;\n",
              "      border-right-color: var(--fill-color);\n",
              "    }\n",
              "    80% {\n",
              "      border-color: transparent;\n",
              "      border-right-color: var(--fill-color);\n",
              "      border-bottom-color: var(--fill-color);\n",
              "    }\n",
              "    90% {\n",
              "      border-color: transparent;\n",
              "      border-bottom-color: var(--fill-color);\n",
              "    }\n",
              "  }\n",
              "</style>\n",
              "\n",
              "  <script>\n",
              "    async function quickchart(key) {\n",
              "      const quickchartButtonEl =\n",
              "        document.querySelector('#' + key + ' button');\n",
              "      quickchartButtonEl.disabled = true;  // To prevent multiple clicks.\n",
              "      quickchartButtonEl.classList.add('colab-df-spinner');\n",
              "      try {\n",
              "        const charts = await google.colab.kernel.invokeFunction(\n",
              "            'suggestCharts', [key], {});\n",
              "      } catch (error) {\n",
              "        console.error('Error during call to suggestCharts:', error);\n",
              "      }\n",
              "      quickchartButtonEl.classList.remove('colab-df-spinner');\n",
              "      quickchartButtonEl.classList.add('colab-df-quickchart-complete');\n",
              "    }\n",
              "    (() => {\n",
              "      let quickchartButtonEl =\n",
              "        document.querySelector('#df-8de32f54-b304-49db-8887-57099fd88c0f button');\n",
              "      quickchartButtonEl.style.display =\n",
              "        google.colab.kernel.accessAllowed ? 'block' : 'none';\n",
              "    })();\n",
              "  </script>\n",
              "</div>\n",
              "    </div>\n",
              "  </div>\n"
            ]
          },
          "metadata": {},
          "execution_count": 5
        }
      ],
      "source": [
        "train = pd.read_csv(\"/content/train.csv\")\n",
        "train.head()"
      ]
    },
    {
      "cell_type": "markdown",
      "id": "6d448ca1",
      "metadata": {
        "id": "6d448ca1",
        "papermill": {
          "duration": 0.013312,
          "end_time": "2023-11-28T22:16:18.494933",
          "exception": false,
          "start_time": "2023-11-28T22:16:18.481621",
          "status": "completed"
        },
        "tags": []
      },
      "source": [
        "**As explained above, we already know the data information, which values are null and how to treat them, this was explained in detail in the first version, for this reason, I performed all these steps without much explanation**"
      ]
    },
    {
      "cell_type": "code",
      "execution_count": 6,
      "id": "f6dc36a5",
      "metadata": {
        "execution": {
          "iopub.execute_input": "2023-11-28T22:16:18.523826Z",
          "iopub.status.busy": "2023-11-28T22:16:18.523305Z",
          "iopub.status.idle": "2023-11-28T22:16:18.532923Z",
          "shell.execute_reply": "2023-11-28T22:16:18.532417Z"
        },
        "id": "f6dc36a5",
        "papermill": {
          "duration": 0.025635,
          "end_time": "2023-11-28T22:16:18.534494",
          "exception": false,
          "start_time": "2023-11-28T22:16:18.508859",
          "status": "completed"
        },
        "tags": []
      },
      "outputs": [],
      "source": [
        "#Deleting that columns from train\n",
        "train = train.drop(['Name', 'Ticket', 'Cabin'],axis = 1)"
      ]
    },
    {
      "cell_type": "code",
      "execution_count": 7,
      "id": "247eb58d",
      "metadata": {
        "execution": {
          "iopub.execute_input": "2023-11-28T22:16:18.602678Z",
          "iopub.status.busy": "2023-11-28T22:16:18.602184Z",
          "iopub.status.idle": "2023-11-28T22:16:18.606934Z",
          "shell.execute_reply": "2023-11-28T22:16:18.606236Z"
        },
        "id": "247eb58d",
        "papermill": {
          "duration": 0.060413,
          "end_time": "2023-11-28T22:16:18.608568",
          "exception": false,
          "start_time": "2023-11-28T22:16:18.548155",
          "status": "completed"
        },
        "tags": []
      },
      "outputs": [],
      "source": [
        "#Deleting that columns from test\n",
        "test = test.drop(['Name', 'Ticket' ,'Cabin'], axis = 1)"
      ]
    },
    {
      "cell_type": "code",
      "execution_count": 8,
      "id": "0b5bb0df",
      "metadata": {
        "execution": {
          "iopub.execute_input": "2023-11-28T22:16:18.637235Z",
          "iopub.status.busy": "2023-11-28T22:16:18.636975Z",
          "iopub.status.idle": "2023-11-28T22:16:18.642435Z",
          "shell.execute_reply": "2023-11-28T22:16:18.641803Z"
        },
        "id": "0b5bb0df",
        "papermill": {
          "duration": 0.021475,
          "end_time": "2023-11-28T22:16:18.643949",
          "exception": false,
          "start_time": "2023-11-28T22:16:18.622474",
          "status": "completed"
        },
        "tags": []
      },
      "outputs": [],
      "source": [
        "#Now it's time to deal with null values, starting with age\n",
        "train_age = train.Age.mean()\n",
        "train.loc[train.Age.isnull(),'Age'] = train_age"
      ]
    },
    {
      "cell_type": "code",
      "execution_count": 9,
      "id": "5f5a6dfd",
      "metadata": {
        "execution": {
          "iopub.execute_input": "2023-11-28T22:16:18.672495Z",
          "iopub.status.busy": "2023-11-28T22:16:18.672247Z",
          "iopub.status.idle": "2023-11-28T22:16:18.676912Z",
          "shell.execute_reply": "2023-11-28T22:16:18.676420Z"
        },
        "id": "5f5a6dfd",
        "papermill": {
          "duration": 0.02044,
          "end_time": "2023-11-28T22:16:18.678260",
          "exception": false,
          "start_time": "2023-11-28T22:16:18.657820",
          "status": "completed"
        },
        "tags": []
      },
      "outputs": [],
      "source": [
        "#Treating null values ​​in the embarked column\n",
        "train_embarked = train.Embarked.mode()[0]\n",
        "train.loc[train.Embarked.isnull(),'Embarked'] = train_embarked"
      ]
    },
    {
      "cell_type": "code",
      "execution_count": 10,
      "id": "6b177fdc",
      "metadata": {
        "execution": {
          "iopub.execute_input": "2023-11-28T22:16:18.707051Z",
          "iopub.status.busy": "2023-11-28T22:16:18.706504Z",
          "iopub.status.idle": "2023-11-28T22:16:18.710920Z",
          "shell.execute_reply": "2023-11-28T22:16:18.710251Z"
        },
        "id": "6b177fdc",
        "papermill": {
          "duration": 0.020394,
          "end_time": "2023-11-28T22:16:18.712512",
          "exception": false,
          "start_time": "2023-11-28T22:16:18.692118",
          "status": "completed"
        },
        "tags": []
      },
      "outputs": [],
      "source": [
        "#Now test age\n",
        "test_age = test.Age.mean()\n",
        "test.loc[test.Age.isnull(),'Age'] = test_age"
      ]
    },
    {
      "cell_type": "code",
      "execution_count": 11,
      "id": "b90c2970",
      "metadata": {
        "execution": {
          "iopub.execute_input": "2023-11-28T22:16:18.741080Z",
          "iopub.status.busy": "2023-11-28T22:16:18.740854Z",
          "iopub.status.idle": "2023-11-28T22:16:18.744780Z",
          "shell.execute_reply": "2023-11-28T22:16:18.744009Z"
        },
        "id": "b90c2970",
        "papermill": {
          "duration": 0.019934,
          "end_time": "2023-11-28T22:16:18.746270",
          "exception": false,
          "start_time": "2023-11-28T22:16:18.726336",
          "status": "completed"
        },
        "tags": []
      },
      "outputs": [],
      "source": [
        "#Treating null values ​​in the fare column\n",
        "test_fare = test.Fare.mean()\n",
        "test.loc[test.Fare.isnull(),'Fare'] = test_fare"
      ]
    },
    {
      "cell_type": "markdown",
      "id": "d2d9c87d",
      "metadata": {
        "id": "d2d9c87d",
        "papermill": {
          "duration": 0.015119,
          "end_time": "2023-11-28T22:16:18.775213",
          "exception": false,
          "start_time": "2023-11-28T22:16:18.760094",
          "status": "completed"
        },
        "tags": []
      },
      "source": [
        "**Let's just check if we finished with the null values**"
      ]
    },
    {
      "cell_type": "code",
      "execution_count": 12,
      "id": "9cc3ea27",
      "metadata": {
        "execution": {
          "iopub.execute_input": "2023-11-28T22:16:18.804315Z",
          "iopub.status.busy": "2023-11-28T22:16:18.804020Z",
          "iopub.status.idle": "2023-11-28T22:16:18.811199Z",
          "shell.execute_reply": "2023-11-28T22:16:18.810436Z"
        },
        "id": "9cc3ea27",
        "outputId": "665572c5-8e4a-4914-80fe-c0f3b4eba857",
        "papermill": {
          "duration": 0.023877,
          "end_time": "2023-11-28T22:16:18.812955",
          "exception": false,
          "start_time": "2023-11-28T22:16:18.789078",
          "status": "completed"
        },
        "tags": [],
        "colab": {
          "base_uri": "https://localhost:8080/"
        }
      },
      "outputs": [
        {
          "output_type": "execute_result",
          "data": {
            "text/plain": [
              "PassengerId    0\n",
              "Survived       0\n",
              "Pclass         0\n",
              "Sex            0\n",
              "Age            0\n",
              "SibSp          0\n",
              "Parch          0\n",
              "Fare           0\n",
              "Embarked       0\n",
              "dtype: int64"
            ]
          },
          "metadata": {},
          "execution_count": 12
        }
      ],
      "source": [
        "#Checking train\n",
        "pd.isnull(train).sum().sort_values(ascending = False)"
      ]
    },
    {
      "cell_type": "code",
      "execution_count": 13,
      "id": "4a0c3589",
      "metadata": {
        "execution": {
          "iopub.execute_input": "2023-11-28T22:16:18.841811Z",
          "iopub.status.busy": "2023-11-28T22:16:18.841599Z",
          "iopub.status.idle": "2023-11-28T22:16:18.847810Z",
          "shell.execute_reply": "2023-11-28T22:16:18.846979Z"
        },
        "id": "4a0c3589",
        "outputId": "f413621d-da44-4404-ea9e-136bc6d2d6e6",
        "papermill": {
          "duration": 0.022755,
          "end_time": "2023-11-28T22:16:18.849441",
          "exception": false,
          "start_time": "2023-11-28T22:16:18.826686",
          "status": "completed"
        },
        "tags": [],
        "colab": {
          "base_uri": "https://localhost:8080/"
        }
      },
      "outputs": [
        {
          "output_type": "execute_result",
          "data": {
            "text/plain": [
              "PassengerId    0\n",
              "Pclass         0\n",
              "Sex            0\n",
              "Age            0\n",
              "SibSp          0\n",
              "Parch          0\n",
              "Fare           0\n",
              "Embarked       0\n",
              "dtype: int64"
            ]
          },
          "metadata": {},
          "execution_count": 13
        }
      ],
      "source": [
        "#Checking test\n",
        "pd.isnull(test).sum().sort_values(ascending = False)"
      ]
    },
    {
      "cell_type": "markdown",
      "id": "5649d6c7",
      "metadata": {
        "id": "5649d6c7",
        "papermill": {
          "duration": 0.013702,
          "end_time": "2023-11-28T22:16:18.877018",
          "exception": false,
          "start_time": "2023-11-28T22:16:18.863316",
          "status": "completed"
        },
        "tags": []
      },
      "source": [
        "**The data is ok! In the first project, the first approach to treating object data was to remove it from the table, but this reduced accuracy. Now let's treat them so that they can be used.**"
      ]
    },
    {
      "cell_type": "markdown",
      "id": "6f89a665",
      "metadata": {
        "id": "6f89a665",
        "papermill": {
          "duration": 0.013836,
          "end_time": "2023-11-28T22:16:18.904724",
          "exception": false,
          "start_time": "2023-11-28T22:16:18.890888",
          "status": "completed"
        },
        "tags": []
      },
      "source": [
        "**The gender is male or female, we can replace it with 1 or 0. In this case, the hierarchy is not important**"
      ]
    },
    {
      "cell_type": "code",
      "execution_count": 14,
      "id": "a21a4392",
      "metadata": {
        "execution": {
          "iopub.execute_input": "2023-11-28T22:16:18.934491Z",
          "iopub.status.busy": "2023-11-28T22:16:18.934196Z",
          "iopub.status.idle": "2023-11-28T22:16:18.939179Z",
          "shell.execute_reply": "2023-11-28T22:16:18.938564Z"
        },
        "id": "a21a4392",
        "papermill": {
          "duration": 0.022306,
          "end_time": "2023-11-28T22:16:18.940973",
          "exception": false,
          "start_time": "2023-11-28T22:16:18.918667",
          "status": "completed"
        },
        "tags": []
      },
      "outputs": [],
      "source": [
        "#Function to check and change the 'female' data to '1', so I can work with more data in the model used.\n",
        "train['FemaleCheck'] = train.Sex.apply(lambda x:1 if x =='female' else 0)"
      ]
    },
    {
      "cell_type": "code",
      "execution_count": 15,
      "id": "7b89daf2",
      "metadata": {
        "execution": {
          "iopub.execute_input": "2023-11-28T22:16:18.971288Z",
          "iopub.status.busy": "2023-11-28T22:16:18.971018Z",
          "iopub.status.idle": "2023-11-28T22:16:18.983784Z",
          "shell.execute_reply": "2023-11-28T22:16:18.983019Z"
        },
        "id": "7b89daf2",
        "outputId": "59a252f2-0fc3-4e9f-cf62-f50298db101b",
        "papermill": {
          "duration": 0.029476,
          "end_time": "2023-11-28T22:16:18.985216",
          "exception": false,
          "start_time": "2023-11-28T22:16:18.955740",
          "status": "completed"
        },
        "tags": [],
        "colab": {
          "base_uri": "https://localhost:8080/"
        }
      },
      "outputs": [
        {
          "output_type": "execute_result",
          "data": {
            "text/plain": [
              "Sex     FemaleCheck\n",
              "male    0              577\n",
              "female  1              314\n",
              "dtype: int64"
            ]
          },
          "metadata": {},
          "execution_count": 15
        }
      ],
      "source": [
        "#Checking the new values\n",
        "train[['Sex', 'FemaleCheck']].value_counts()"
      ]
    },
    {
      "cell_type": "code",
      "execution_count": 16,
      "id": "8a8627b5",
      "metadata": {
        "execution": {
          "iopub.execute_input": "2023-11-28T22:16:19.014490Z",
          "iopub.status.busy": "2023-11-28T22:16:19.014276Z",
          "iopub.status.idle": "2023-11-28T22:16:19.018319Z",
          "shell.execute_reply": "2023-11-28T22:16:19.017687Z"
        },
        "id": "8a8627b5",
        "papermill": {
          "duration": 0.020474,
          "end_time": "2023-11-28T22:16:19.019891",
          "exception": false,
          "start_time": "2023-11-28T22:16:18.999417",
          "status": "completed"
        },
        "tags": []
      },
      "outputs": [],
      "source": [
        "#Let's repeat the same thing with the datas from test\n",
        "test['FemaleCheck'] = test.Sex.apply(lambda x:1 if x =='female' else 0)"
      ]
    },
    {
      "cell_type": "code",
      "execution_count": 17,
      "id": "dd050e79",
      "metadata": {
        "execution": {
          "iopub.execute_input": "2023-11-28T22:16:19.049870Z",
          "iopub.status.busy": "2023-11-28T22:16:19.049672Z",
          "iopub.status.idle": "2023-11-28T22:16:19.056855Z",
          "shell.execute_reply": "2023-11-28T22:16:19.056152Z"
        },
        "id": "dd050e79",
        "outputId": "4f877d3e-e625-4c4c-d9b0-7d791f966206",
        "papermill": {
          "duration": 0.023571,
          "end_time": "2023-11-28T22:16:19.058372",
          "exception": false,
          "start_time": "2023-11-28T22:16:19.034801",
          "status": "completed"
        },
        "tags": [],
        "colab": {
          "base_uri": "https://localhost:8080/"
        }
      },
      "outputs": [
        {
          "output_type": "execute_result",
          "data": {
            "text/plain": [
              "Sex     FemaleCheck\n",
              "male    0              266\n",
              "female  1              152\n",
              "dtype: int64"
            ]
          },
          "metadata": {},
          "execution_count": 17
        }
      ],
      "source": [
        "#Checking the new values\n",
        "test[['Sex', 'FemaleCheck']].value_counts()"
      ]
    },
    {
      "cell_type": "markdown",
      "id": "d1e5f8c0",
      "metadata": {
        "id": "d1e5f8c0",
        "papermill": {
          "duration": 0.01382,
          "end_time": "2023-11-28T22:16:19.086234",
          "exception": false,
          "start_time": "2023-11-28T22:16:19.072414",
          "status": "completed"
        },
        "tags": []
      },
      "source": [
        "**Now that we have dealt with the 'Sex' column, let's deal with the 'Embarked' column**"
      ]
    },
    {
      "cell_type": "code",
      "execution_count": 18,
      "id": "0d411eb3",
      "metadata": {
        "execution": {
          "iopub.execute_input": "2023-11-28T22:16:19.115721Z",
          "iopub.status.busy": "2023-11-28T22:16:19.115521Z",
          "iopub.status.idle": "2023-11-28T22:16:19.120248Z",
          "shell.execute_reply": "2023-11-28T22:16:19.119552Z"
        },
        "id": "0d411eb3",
        "outputId": "10ca5547-7bdf-4f69-f04b-ba5163726d0a",
        "papermill": {
          "duration": 0.021225,
          "end_time": "2023-11-28T22:16:19.121851",
          "exception": false,
          "start_time": "2023-11-28T22:16:19.100626",
          "status": "completed"
        },
        "tags": [],
        "colab": {
          "base_uri": "https://localhost:8080/"
        }
      },
      "outputs": [
        {
          "output_type": "execute_result",
          "data": {
            "text/plain": [
              "array(['S', 'C', 'Q'], dtype=object)"
            ]
          },
          "metadata": {},
          "execution_count": 18
        }
      ],
      "source": [
        "#Checking all possible datas in the column 'Embarked'\n",
        "train['Embarked'].unique()"
      ]
    },
    {
      "cell_type": "markdown",
      "id": "4841c192",
      "metadata": {
        "id": "4841c192",
        "papermill": {
          "duration": 0.014072,
          "end_time": "2023-11-28T22:16:19.150048",
          "exception": false,
          "start_time": "2023-11-28T22:16:19.135976",
          "status": "completed"
        },
        "tags": []
      },
      "source": [
        "**The natural thought is: since in the problem above, you replace it with 0 or 1, in this problem, I should just add 1 more, considering that we have 3 possible variables, so it will be 0, 1, 2. But, this can generate a problem, as the program may interpret that there is a certain hierarchy, which is not true**"
      ]
    },
    {
      "cell_type": "markdown",
      "id": "72bfead5",
      "metadata": {
        "id": "72bfead5",
        "papermill": {
          "duration": 0.01394,
          "end_time": "2023-11-28T22:16:19.178241",
          "exception": false,
          "start_time": "2023-11-28T22:16:19.164301",
          "status": "completed"
        },
        "tags": []
      },
      "source": [
        "**For this reason, we will use the [OneHotEncoder](https://scikit-learn.org/stable/modules/generated/sklearn.preprocessing.OneHotEncoder.html)**"
      ]
    },
    {
      "cell_type": "code",
      "execution_count": 19,
      "id": "ce9b393a",
      "metadata": {
        "execution": {
          "iopub.execute_input": "2023-11-28T22:16:19.207554Z",
          "iopub.status.busy": "2023-11-28T22:16:19.207179Z",
          "iopub.status.idle": "2023-11-28T22:16:20.032625Z",
          "shell.execute_reply": "2023-11-28T22:16:20.031879Z"
        },
        "id": "ce9b393a",
        "papermill": {
          "duration": 0.842292,
          "end_time": "2023-11-28T22:16:20.034663",
          "exception": false,
          "start_time": "2023-11-28T22:16:19.192371",
          "status": "completed"
        },
        "tags": []
      },
      "outputs": [],
      "source": [
        "#Import OneHotEncoder\n",
        "from sklearn.preprocessing import OneHotEncoder"
      ]
    },
    {
      "cell_type": "code",
      "execution_count": 20,
      "id": "0559c2bc",
      "metadata": {
        "execution": {
          "iopub.execute_input": "2023-11-28T22:16:20.065481Z",
          "iopub.status.busy": "2023-11-28T22:16:20.065199Z",
          "iopub.status.idle": "2023-11-28T22:16:20.068793Z",
          "shell.execute_reply": "2023-11-28T22:16:20.068031Z"
        },
        "id": "0559c2bc",
        "papermill": {
          "duration": 0.020266,
          "end_time": "2023-11-28T22:16:20.070190",
          "exception": false,
          "start_time": "2023-11-28T22:16:20.049924",
          "status": "completed"
        },
        "tags": []
      },
      "outputs": [],
      "source": [
        "#Create the encoder. I chose dtype = int32 to make the display more friendly, but there is not problem choosing float\n",
        "ohe = OneHotEncoder(handle_unknown= 'ignore', dtype = 'int32')"
      ]
    },
    {
      "cell_type": "code",
      "execution_count": 21,
      "id": "0311e96a",
      "metadata": {
        "execution": {
          "iopub.execute_input": "2023-11-28T22:16:20.099362Z",
          "iopub.status.busy": "2023-11-28T22:16:20.099125Z",
          "iopub.status.idle": "2023-11-28T22:16:20.104963Z",
          "shell.execute_reply": "2023-11-28T22:16:20.104185Z"
        },
        "id": "0311e96a",
        "papermill": {
          "duration": 0.022133,
          "end_time": "2023-11-28T22:16:20.106445",
          "exception": false,
          "start_time": "2023-11-28T22:16:20.084312",
          "status": "completed"
        },
        "tags": []
      },
      "outputs": [],
      "source": [
        "#Fit with datas\n",
        "ohe = ohe.fit(train[['Embarked']])"
      ]
    },
    {
      "cell_type": "code",
      "execution_count": 22,
      "id": "748bbfe2",
      "metadata": {
        "execution": {
          "iopub.execute_input": "2023-11-28T22:16:20.135907Z",
          "iopub.status.busy": "2023-11-28T22:16:20.135665Z",
          "iopub.status.idle": "2023-11-28T22:16:20.143963Z",
          "shell.execute_reply": "2023-11-28T22:16:20.143184Z"
        },
        "id": "748bbfe2",
        "outputId": "f9a035b6-3c79-457b-ebd8-801b677374cd",
        "papermill": {
          "duration": 0.024858,
          "end_time": "2023-11-28T22:16:20.145445",
          "exception": false,
          "start_time": "2023-11-28T22:16:20.120587",
          "status": "completed"
        },
        "tags": [],
        "colab": {
          "base_uri": "https://localhost:8080/"
        }
      },
      "outputs": [
        {
          "output_type": "execute_result",
          "data": {
            "text/plain": [
              "array([[0, 0, 1],\n",
              "       [1, 0, 0],\n",
              "       [0, 0, 1],\n",
              "       ...,\n",
              "       [0, 0, 1],\n",
              "       [1, 0, 0],\n",
              "       [0, 1, 0]], dtype=int32)"
            ]
          },
          "metadata": {},
          "execution_count": 22
        }
      ],
      "source": [
        "#Transforming the data\n",
        "ohe.transform(train[['Embarked']]).toarray()"
      ]
    },
    {
      "cell_type": "code",
      "execution_count": 23,
      "id": "d5af111c",
      "metadata": {
        "execution": {
          "iopub.execute_input": "2023-11-28T22:16:20.175242Z",
          "iopub.status.busy": "2023-11-28T22:16:20.174988Z",
          "iopub.status.idle": "2023-11-28T22:16:20.184221Z",
          "shell.execute_reply": "2023-11-28T22:16:20.183494Z"
        },
        "id": "d5af111c",
        "outputId": "9a496ece-7582-4747-85b4-5ba92f5edd78",
        "papermill": {
          "duration": 0.025829,
          "end_time": "2023-11-28T22:16:20.185697",
          "exception": false,
          "start_time": "2023-11-28T22:16:20.159868",
          "status": "completed"
        },
        "tags": [],
        "colab": {
          "base_uri": "https://localhost:8080/",
          "height": 206
        }
      },
      "outputs": [
        {
          "output_type": "execute_result",
          "data": {
            "text/plain": [
              "   Embarked_C  Embarked_Q  Embarked_S\n",
              "0           0           0           1\n",
              "1           1           0           0\n",
              "2           0           0           1\n",
              "3           0           0           1\n",
              "4           0           0           1"
            ],
            "text/html": [
              "\n",
              "  <div id=\"df-56b0d248-63ed-424d-b992-3a5abec16e60\" class=\"colab-df-container\">\n",
              "    <div>\n",
              "<style scoped>\n",
              "    .dataframe tbody tr th:only-of-type {\n",
              "        vertical-align: middle;\n",
              "    }\n",
              "\n",
              "    .dataframe tbody tr th {\n",
              "        vertical-align: top;\n",
              "    }\n",
              "\n",
              "    .dataframe thead th {\n",
              "        text-align: right;\n",
              "    }\n",
              "</style>\n",
              "<table border=\"1\" class=\"dataframe\">\n",
              "  <thead>\n",
              "    <tr style=\"text-align: right;\">\n",
              "      <th></th>\n",
              "      <th>Embarked_C</th>\n",
              "      <th>Embarked_Q</th>\n",
              "      <th>Embarked_S</th>\n",
              "    </tr>\n",
              "  </thead>\n",
              "  <tbody>\n",
              "    <tr>\n",
              "      <th>0</th>\n",
              "      <td>0</td>\n",
              "      <td>0</td>\n",
              "      <td>1</td>\n",
              "    </tr>\n",
              "    <tr>\n",
              "      <th>1</th>\n",
              "      <td>1</td>\n",
              "      <td>0</td>\n",
              "      <td>0</td>\n",
              "    </tr>\n",
              "    <tr>\n",
              "      <th>2</th>\n",
              "      <td>0</td>\n",
              "      <td>0</td>\n",
              "      <td>1</td>\n",
              "    </tr>\n",
              "    <tr>\n",
              "      <th>3</th>\n",
              "      <td>0</td>\n",
              "      <td>0</td>\n",
              "      <td>1</td>\n",
              "    </tr>\n",
              "    <tr>\n",
              "      <th>4</th>\n",
              "      <td>0</td>\n",
              "      <td>0</td>\n",
              "      <td>1</td>\n",
              "    </tr>\n",
              "  </tbody>\n",
              "</table>\n",
              "</div>\n",
              "    <div class=\"colab-df-buttons\">\n",
              "\n",
              "  <div class=\"colab-df-container\">\n",
              "    <button class=\"colab-df-convert\" onclick=\"convertToInteractive('df-56b0d248-63ed-424d-b992-3a5abec16e60')\"\n",
              "            title=\"Convert this dataframe to an interactive table.\"\n",
              "            style=\"display:none;\">\n",
              "\n",
              "  <svg xmlns=\"http://www.w3.org/2000/svg\" height=\"24px\" viewBox=\"0 -960 960 960\">\n",
              "    <path d=\"M120-120v-720h720v720H120Zm60-500h600v-160H180v160Zm220 220h160v-160H400v160Zm0 220h160v-160H400v160ZM180-400h160v-160H180v160Zm440 0h160v-160H620v160ZM180-180h160v-160H180v160Zm440 0h160v-160H620v160Z\"/>\n",
              "  </svg>\n",
              "    </button>\n",
              "\n",
              "  <style>\n",
              "    .colab-df-container {\n",
              "      display:flex;\n",
              "      gap: 12px;\n",
              "    }\n",
              "\n",
              "    .colab-df-convert {\n",
              "      background-color: #E8F0FE;\n",
              "      border: none;\n",
              "      border-radius: 50%;\n",
              "      cursor: pointer;\n",
              "      display: none;\n",
              "      fill: #1967D2;\n",
              "      height: 32px;\n",
              "      padding: 0 0 0 0;\n",
              "      width: 32px;\n",
              "    }\n",
              "\n",
              "    .colab-df-convert:hover {\n",
              "      background-color: #E2EBFA;\n",
              "      box-shadow: 0px 1px 2px rgba(60, 64, 67, 0.3), 0px 1px 3px 1px rgba(60, 64, 67, 0.15);\n",
              "      fill: #174EA6;\n",
              "    }\n",
              "\n",
              "    .colab-df-buttons div {\n",
              "      margin-bottom: 4px;\n",
              "    }\n",
              "\n",
              "    [theme=dark] .colab-df-convert {\n",
              "      background-color: #3B4455;\n",
              "      fill: #D2E3FC;\n",
              "    }\n",
              "\n",
              "    [theme=dark] .colab-df-convert:hover {\n",
              "      background-color: #434B5C;\n",
              "      box-shadow: 0px 1px 3px 1px rgba(0, 0, 0, 0.15);\n",
              "      filter: drop-shadow(0px 1px 2px rgba(0, 0, 0, 0.3));\n",
              "      fill: #FFFFFF;\n",
              "    }\n",
              "  </style>\n",
              "\n",
              "    <script>\n",
              "      const buttonEl =\n",
              "        document.querySelector('#df-56b0d248-63ed-424d-b992-3a5abec16e60 button.colab-df-convert');\n",
              "      buttonEl.style.display =\n",
              "        google.colab.kernel.accessAllowed ? 'block' : 'none';\n",
              "\n",
              "      async function convertToInteractive(key) {\n",
              "        const element = document.querySelector('#df-56b0d248-63ed-424d-b992-3a5abec16e60');\n",
              "        const dataTable =\n",
              "          await google.colab.kernel.invokeFunction('convertToInteractive',\n",
              "                                                    [key], {});\n",
              "        if (!dataTable) return;\n",
              "\n",
              "        const docLinkHtml = 'Like what you see? Visit the ' +\n",
              "          '<a target=\"_blank\" href=https://colab.research.google.com/notebooks/data_table.ipynb>data table notebook</a>'\n",
              "          + ' to learn more about interactive tables.';\n",
              "        element.innerHTML = '';\n",
              "        dataTable['output_type'] = 'display_data';\n",
              "        await google.colab.output.renderOutput(dataTable, element);\n",
              "        const docLink = document.createElement('div');\n",
              "        docLink.innerHTML = docLinkHtml;\n",
              "        element.appendChild(docLink);\n",
              "      }\n",
              "    </script>\n",
              "  </div>\n",
              "\n",
              "\n",
              "<div id=\"df-44152a01-94a9-4b73-9416-36cd45dbbcd0\">\n",
              "  <button class=\"colab-df-quickchart\" onclick=\"quickchart('df-44152a01-94a9-4b73-9416-36cd45dbbcd0')\"\n",
              "            title=\"Suggest charts\"\n",
              "            style=\"display:none;\">\n",
              "\n",
              "<svg xmlns=\"http://www.w3.org/2000/svg\" height=\"24px\"viewBox=\"0 0 24 24\"\n",
              "     width=\"24px\">\n",
              "    <g>\n",
              "        <path d=\"M19 3H5c-1.1 0-2 .9-2 2v14c0 1.1.9 2 2 2h14c1.1 0 2-.9 2-2V5c0-1.1-.9-2-2-2zM9 17H7v-7h2v7zm4 0h-2V7h2v10zm4 0h-2v-4h2v4z\"/>\n",
              "    </g>\n",
              "</svg>\n",
              "  </button>\n",
              "\n",
              "<style>\n",
              "  .colab-df-quickchart {\n",
              "      --bg-color: #E8F0FE;\n",
              "      --fill-color: #1967D2;\n",
              "      --hover-bg-color: #E2EBFA;\n",
              "      --hover-fill-color: #174EA6;\n",
              "      --disabled-fill-color: #AAA;\n",
              "      --disabled-bg-color: #DDD;\n",
              "  }\n",
              "\n",
              "  [theme=dark] .colab-df-quickchart {\n",
              "      --bg-color: #3B4455;\n",
              "      --fill-color: #D2E3FC;\n",
              "      --hover-bg-color: #434B5C;\n",
              "      --hover-fill-color: #FFFFFF;\n",
              "      --disabled-bg-color: #3B4455;\n",
              "      --disabled-fill-color: #666;\n",
              "  }\n",
              "\n",
              "  .colab-df-quickchart {\n",
              "    background-color: var(--bg-color);\n",
              "    border: none;\n",
              "    border-radius: 50%;\n",
              "    cursor: pointer;\n",
              "    display: none;\n",
              "    fill: var(--fill-color);\n",
              "    height: 32px;\n",
              "    padding: 0;\n",
              "    width: 32px;\n",
              "  }\n",
              "\n",
              "  .colab-df-quickchart:hover {\n",
              "    background-color: var(--hover-bg-color);\n",
              "    box-shadow: 0 1px 2px rgba(60, 64, 67, 0.3), 0 1px 3px 1px rgba(60, 64, 67, 0.15);\n",
              "    fill: var(--button-hover-fill-color);\n",
              "  }\n",
              "\n",
              "  .colab-df-quickchart-complete:disabled,\n",
              "  .colab-df-quickchart-complete:disabled:hover {\n",
              "    background-color: var(--disabled-bg-color);\n",
              "    fill: var(--disabled-fill-color);\n",
              "    box-shadow: none;\n",
              "  }\n",
              "\n",
              "  .colab-df-spinner {\n",
              "    border: 2px solid var(--fill-color);\n",
              "    border-color: transparent;\n",
              "    border-bottom-color: var(--fill-color);\n",
              "    animation:\n",
              "      spin 1s steps(1) infinite;\n",
              "  }\n",
              "\n",
              "  @keyframes spin {\n",
              "    0% {\n",
              "      border-color: transparent;\n",
              "      border-bottom-color: var(--fill-color);\n",
              "      border-left-color: var(--fill-color);\n",
              "    }\n",
              "    20% {\n",
              "      border-color: transparent;\n",
              "      border-left-color: var(--fill-color);\n",
              "      border-top-color: var(--fill-color);\n",
              "    }\n",
              "    30% {\n",
              "      border-color: transparent;\n",
              "      border-left-color: var(--fill-color);\n",
              "      border-top-color: var(--fill-color);\n",
              "      border-right-color: var(--fill-color);\n",
              "    }\n",
              "    40% {\n",
              "      border-color: transparent;\n",
              "      border-right-color: var(--fill-color);\n",
              "      border-top-color: var(--fill-color);\n",
              "    }\n",
              "    60% {\n",
              "      border-color: transparent;\n",
              "      border-right-color: var(--fill-color);\n",
              "    }\n",
              "    80% {\n",
              "      border-color: transparent;\n",
              "      border-right-color: var(--fill-color);\n",
              "      border-bottom-color: var(--fill-color);\n",
              "    }\n",
              "    90% {\n",
              "      border-color: transparent;\n",
              "      border-bottom-color: var(--fill-color);\n",
              "    }\n",
              "  }\n",
              "</style>\n",
              "\n",
              "  <script>\n",
              "    async function quickchart(key) {\n",
              "      const quickchartButtonEl =\n",
              "        document.querySelector('#' + key + ' button');\n",
              "      quickchartButtonEl.disabled = true;  // To prevent multiple clicks.\n",
              "      quickchartButtonEl.classList.add('colab-df-spinner');\n",
              "      try {\n",
              "        const charts = await google.colab.kernel.invokeFunction(\n",
              "            'suggestCharts', [key], {});\n",
              "      } catch (error) {\n",
              "        console.error('Error during call to suggestCharts:', error);\n",
              "      }\n",
              "      quickchartButtonEl.classList.remove('colab-df-spinner');\n",
              "      quickchartButtonEl.classList.add('colab-df-quickchart-complete');\n",
              "    }\n",
              "    (() => {\n",
              "      let quickchartButtonEl =\n",
              "        document.querySelector('#df-44152a01-94a9-4b73-9416-36cd45dbbcd0 button');\n",
              "      quickchartButtonEl.style.display =\n",
              "        google.colab.kernel.accessAllowed ? 'block' : 'none';\n",
              "    })();\n",
              "  </script>\n",
              "</div>\n",
              "    </div>\n",
              "  </div>\n"
            ]
          },
          "metadata": {},
          "execution_count": 23
        }
      ],
      "source": [
        "#Transforming the array into dataFrame\n",
        "ohe_df = pd.DataFrame(ohe.transform(train[['Embarked']]).toarray(), columns = ohe.get_feature_names_out())\n",
        "ohe_df.head()"
      ]
    },
    {
      "cell_type": "code",
      "execution_count": 24,
      "id": "409a7382",
      "metadata": {
        "execution": {
          "iopub.execute_input": "2023-11-28T22:16:20.217009Z",
          "iopub.status.busy": "2023-11-28T22:16:20.216779Z",
          "iopub.status.idle": "2023-11-28T22:16:20.220956Z",
          "shell.execute_reply": "2023-11-28T22:16:20.220174Z"
        },
        "id": "409a7382",
        "papermill": {
          "duration": 0.02071,
          "end_time": "2023-11-28T22:16:20.222373",
          "exception": false,
          "start_time": "2023-11-28T22:16:20.201663",
          "status": "completed"
        },
        "tags": []
      },
      "outputs": [],
      "source": [
        "#Now I will add these columns on Train\n",
        "train = pd.concat([train,ohe_df],axis = 1)"
      ]
    },
    {
      "cell_type": "code",
      "execution_count": 25,
      "id": "a1d0151b",
      "metadata": {
        "execution": {
          "iopub.execute_input": "2023-11-28T22:16:20.252408Z",
          "iopub.status.busy": "2023-11-28T22:16:20.252112Z",
          "iopub.status.idle": "2023-11-28T22:16:20.260990Z",
          "shell.execute_reply": "2023-11-28T22:16:20.260213Z"
        },
        "id": "a1d0151b",
        "outputId": "ff65381c-e6d9-4625-e921-13934c3620c8",
        "papermill": {
          "duration": 0.025831,
          "end_time": "2023-11-28T22:16:20.262575",
          "exception": false,
          "start_time": "2023-11-28T22:16:20.236744",
          "status": "completed"
        },
        "tags": [],
        "colab": {
          "base_uri": "https://localhost:8080/"
        }
      },
      "outputs": [
        {
          "output_type": "execute_result",
          "data": {
            "text/plain": [
              "Embarked  Embarked_C  Embarked_Q  Embarked_S\n",
              "S         0           0           1             646\n",
              "C         1           0           0             168\n",
              "Q         0           1           0              77\n",
              "dtype: int64"
            ]
          },
          "metadata": {},
          "execution_count": 25
        }
      ],
      "source": [
        "#I can see separately how OneHotEncoder worked compared to the Embarked column\n",
        "train[['Embarked', 'Embarked_C','Embarked_Q','Embarked_S']].value_counts()"
      ]
    },
    {
      "cell_type": "markdown",
      "id": "9c1ef035",
      "metadata": {
        "id": "9c1ef035",
        "papermill": {
          "duration": 0.014459,
          "end_time": "2023-11-28T22:16:20.291663",
          "exception": false,
          "start_time": "2023-11-28T22:16:20.277204",
          "status": "completed"
        },
        "tags": []
      },
      "source": [
        "**Now let's do the same job with the Test**"
      ]
    },
    {
      "cell_type": "code",
      "execution_count": 26,
      "id": "1de9db19",
      "metadata": {
        "execution": {
          "iopub.execute_input": "2023-11-28T22:16:20.322135Z",
          "iopub.status.busy": "2023-11-28T22:16:20.321883Z",
          "iopub.status.idle": "2023-11-28T22:16:20.324870Z",
          "shell.execute_reply": "2023-11-28T22:16:20.324355Z"
        },
        "id": "1de9db19",
        "papermill": {
          "duration": 0.019857,
          "end_time": "2023-11-28T22:16:20.326211",
          "exception": false,
          "start_time": "2023-11-28T22:16:20.306354",
          "status": "completed"
        },
        "tags": []
      },
      "outputs": [],
      "source": [
        "#Create the encoder\n",
        "ohe = OneHotEncoder(handle_unknown= 'ignore', dtype = 'int32')"
      ]
    },
    {
      "cell_type": "code",
      "execution_count": 27,
      "id": "1ec634b9",
      "metadata": {
        "execution": {
          "iopub.execute_input": "2023-11-28T22:16:20.356333Z",
          "iopub.status.busy": "2023-11-28T22:16:20.356107Z",
          "iopub.status.idle": "2023-11-28T22:16:20.360735Z",
          "shell.execute_reply": "2023-11-28T22:16:20.360015Z"
        },
        "id": "1ec634b9",
        "papermill": {
          "duration": 0.021448,
          "end_time": "2023-11-28T22:16:20.362242",
          "exception": false,
          "start_time": "2023-11-28T22:16:20.340794",
          "status": "completed"
        },
        "tags": []
      },
      "outputs": [],
      "source": [
        "#Fit with datas\n",
        "ohe = ohe.fit(test[['Embarked']])"
      ]
    },
    {
      "cell_type": "code",
      "execution_count": 28,
      "id": "468d45de",
      "metadata": {
        "execution": {
          "iopub.execute_input": "2023-11-28T22:16:20.392156Z",
          "iopub.status.busy": "2023-11-28T22:16:20.391931Z",
          "iopub.status.idle": "2023-11-28T22:16:20.397881Z",
          "shell.execute_reply": "2023-11-28T22:16:20.397280Z"
        },
        "id": "468d45de",
        "outputId": "dc46450f-9390-41f4-8208-77c2935b010f",
        "papermill": {
          "duration": 0.022452,
          "end_time": "2023-11-28T22:16:20.399224",
          "exception": false,
          "start_time": "2023-11-28T22:16:20.376772",
          "status": "completed"
        },
        "tags": [],
        "colab": {
          "base_uri": "https://localhost:8080/"
        }
      },
      "outputs": [
        {
          "output_type": "execute_result",
          "data": {
            "text/plain": [
              "array([[0, 1, 0],\n",
              "       [0, 0, 1],\n",
              "       [0, 1, 0],\n",
              "       ...,\n",
              "       [0, 0, 1],\n",
              "       [0, 0, 1],\n",
              "       [1, 0, 0]], dtype=int32)"
            ]
          },
          "metadata": {},
          "execution_count": 28
        }
      ],
      "source": [
        "#Transforming the data\n",
        "ohe.transform(test[['Embarked']]).toarray()"
      ]
    },
    {
      "cell_type": "code",
      "execution_count": 29,
      "id": "fc062789",
      "metadata": {
        "execution": {
          "iopub.execute_input": "2023-11-28T22:16:20.429826Z",
          "iopub.status.busy": "2023-11-28T22:16:20.429598Z",
          "iopub.status.idle": "2023-11-28T22:16:20.434233Z",
          "shell.execute_reply": "2023-11-28T22:16:20.433704Z"
        },
        "id": "fc062789",
        "papermill": {
          "duration": 0.021498,
          "end_time": "2023-11-28T22:16:20.435551",
          "exception": false,
          "start_time": "2023-11-28T22:16:20.414053",
          "status": "completed"
        },
        "tags": []
      },
      "outputs": [],
      "source": [
        "#Transforming the array into dataFrame\n",
        "ohe_df = pd.DataFrame(ohe.transform(test[['Embarked']]).toarray(), columns = ohe.get_feature_names_out())"
      ]
    },
    {
      "cell_type": "code",
      "execution_count": 30,
      "id": "25ef5166",
      "metadata": {
        "execution": {
          "iopub.execute_input": "2023-11-28T22:16:20.466089Z",
          "iopub.status.busy": "2023-11-28T22:16:20.465853Z",
          "iopub.status.idle": "2023-11-28T22:16:20.469847Z",
          "shell.execute_reply": "2023-11-28T22:16:20.469101Z"
        },
        "id": "25ef5166",
        "papermill": {
          "duration": 0.021082,
          "end_time": "2023-11-28T22:16:20.471365",
          "exception": false,
          "start_time": "2023-11-28T22:16:20.450283",
          "status": "completed"
        },
        "tags": []
      },
      "outputs": [],
      "source": [
        "#Now I will add these columns on Test\n",
        "test = pd.concat([test, ohe_df], axis = 1)"
      ]
    },
    {
      "cell_type": "code",
      "execution_count": 31,
      "id": "c1cc6642",
      "metadata": {
        "execution": {
          "iopub.execute_input": "2023-11-28T22:16:20.501410Z",
          "iopub.status.busy": "2023-11-28T22:16:20.501155Z",
          "iopub.status.idle": "2023-11-28T22:16:20.510101Z",
          "shell.execute_reply": "2023-11-28T22:16:20.509344Z"
        },
        "id": "c1cc6642",
        "outputId": "b8e3d510-f426-4273-a73e-46656adc6dd0",
        "papermill": {
          "duration": 0.026345,
          "end_time": "2023-11-28T22:16:20.512306",
          "exception": false,
          "start_time": "2023-11-28T22:16:20.485961",
          "status": "completed"
        },
        "tags": [],
        "colab": {
          "base_uri": "https://localhost:8080/"
        }
      },
      "outputs": [
        {
          "output_type": "execute_result",
          "data": {
            "text/plain": [
              "Embarked  Embarked_C  Embarked_Q  Embarked_S\n",
              "S         0           0           1             646\n",
              "C         1           0           0             168\n",
              "Q         0           1           0              77\n",
              "dtype: int64"
            ]
          },
          "metadata": {},
          "execution_count": 31
        }
      ],
      "source": [
        "#I can see separately how OneHotEncoder worked compared to the Embarked column\n",
        "train[['Embarked', 'Embarked_C','Embarked_Q','Embarked_S']].value_counts()"
      ]
    },
    {
      "cell_type": "code",
      "execution_count": 32,
      "id": "ef719d37",
      "metadata": {
        "execution": {
          "iopub.execute_input": "2023-11-28T22:16:20.543653Z",
          "iopub.status.busy": "2023-11-28T22:16:20.543414Z",
          "iopub.status.idle": "2023-11-28T22:16:20.554786Z",
          "shell.execute_reply": "2023-11-28T22:16:20.554092Z"
        },
        "id": "ef719d37",
        "outputId": "6e3eb788-a8f3-464c-e96c-517955003469",
        "papermill": {
          "duration": 0.028478,
          "end_time": "2023-11-28T22:16:20.556376",
          "exception": false,
          "start_time": "2023-11-28T22:16:20.527898",
          "status": "completed"
        },
        "tags": [],
        "colab": {
          "base_uri": "https://localhost:8080/",
          "height": 226
        }
      },
      "outputs": [
        {
          "output_type": "execute_result",
          "data": {
            "text/plain": [
              "   PassengerId  Survived  Pclass     Sex   Age  SibSp  Parch     Fare  \\\n",
              "0            1         0       3    male  22.0      1      0   7.2500   \n",
              "1            2         1       1  female  38.0      1      0  71.2833   \n",
              "2            3         1       3  female  26.0      0      0   7.9250   \n",
              "3            4         1       1  female  35.0      1      0  53.1000   \n",
              "4            5         0       3    male  35.0      0      0   8.0500   \n",
              "\n",
              "  Embarked  FemaleCheck  Embarked_C  Embarked_Q  Embarked_S  \n",
              "0        S            0           0           0           1  \n",
              "1        C            1           1           0           0  \n",
              "2        S            1           0           0           1  \n",
              "3        S            1           0           0           1  \n",
              "4        S            0           0           0           1  "
            ],
            "text/html": [
              "\n",
              "  <div id=\"df-0b40b563-451a-43ef-a949-8eeafeb25cfe\" class=\"colab-df-container\">\n",
              "    <div>\n",
              "<style scoped>\n",
              "    .dataframe tbody tr th:only-of-type {\n",
              "        vertical-align: middle;\n",
              "    }\n",
              "\n",
              "    .dataframe tbody tr th {\n",
              "        vertical-align: top;\n",
              "    }\n",
              "\n",
              "    .dataframe thead th {\n",
              "        text-align: right;\n",
              "    }\n",
              "</style>\n",
              "<table border=\"1\" class=\"dataframe\">\n",
              "  <thead>\n",
              "    <tr style=\"text-align: right;\">\n",
              "      <th></th>\n",
              "      <th>PassengerId</th>\n",
              "      <th>Survived</th>\n",
              "      <th>Pclass</th>\n",
              "      <th>Sex</th>\n",
              "      <th>Age</th>\n",
              "      <th>SibSp</th>\n",
              "      <th>Parch</th>\n",
              "      <th>Fare</th>\n",
              "      <th>Embarked</th>\n",
              "      <th>FemaleCheck</th>\n",
              "      <th>Embarked_C</th>\n",
              "      <th>Embarked_Q</th>\n",
              "      <th>Embarked_S</th>\n",
              "    </tr>\n",
              "  </thead>\n",
              "  <tbody>\n",
              "    <tr>\n",
              "      <th>0</th>\n",
              "      <td>1</td>\n",
              "      <td>0</td>\n",
              "      <td>3</td>\n",
              "      <td>male</td>\n",
              "      <td>22.0</td>\n",
              "      <td>1</td>\n",
              "      <td>0</td>\n",
              "      <td>7.2500</td>\n",
              "      <td>S</td>\n",
              "      <td>0</td>\n",
              "      <td>0</td>\n",
              "      <td>0</td>\n",
              "      <td>1</td>\n",
              "    </tr>\n",
              "    <tr>\n",
              "      <th>1</th>\n",
              "      <td>2</td>\n",
              "      <td>1</td>\n",
              "      <td>1</td>\n",
              "      <td>female</td>\n",
              "      <td>38.0</td>\n",
              "      <td>1</td>\n",
              "      <td>0</td>\n",
              "      <td>71.2833</td>\n",
              "      <td>C</td>\n",
              "      <td>1</td>\n",
              "      <td>1</td>\n",
              "      <td>0</td>\n",
              "      <td>0</td>\n",
              "    </tr>\n",
              "    <tr>\n",
              "      <th>2</th>\n",
              "      <td>3</td>\n",
              "      <td>1</td>\n",
              "      <td>3</td>\n",
              "      <td>female</td>\n",
              "      <td>26.0</td>\n",
              "      <td>0</td>\n",
              "      <td>0</td>\n",
              "      <td>7.9250</td>\n",
              "      <td>S</td>\n",
              "      <td>1</td>\n",
              "      <td>0</td>\n",
              "      <td>0</td>\n",
              "      <td>1</td>\n",
              "    </tr>\n",
              "    <tr>\n",
              "      <th>3</th>\n",
              "      <td>4</td>\n",
              "      <td>1</td>\n",
              "      <td>1</td>\n",
              "      <td>female</td>\n",
              "      <td>35.0</td>\n",
              "      <td>1</td>\n",
              "      <td>0</td>\n",
              "      <td>53.1000</td>\n",
              "      <td>S</td>\n",
              "      <td>1</td>\n",
              "      <td>0</td>\n",
              "      <td>0</td>\n",
              "      <td>1</td>\n",
              "    </tr>\n",
              "    <tr>\n",
              "      <th>4</th>\n",
              "      <td>5</td>\n",
              "      <td>0</td>\n",
              "      <td>3</td>\n",
              "      <td>male</td>\n",
              "      <td>35.0</td>\n",
              "      <td>0</td>\n",
              "      <td>0</td>\n",
              "      <td>8.0500</td>\n",
              "      <td>S</td>\n",
              "      <td>0</td>\n",
              "      <td>0</td>\n",
              "      <td>0</td>\n",
              "      <td>1</td>\n",
              "    </tr>\n",
              "  </tbody>\n",
              "</table>\n",
              "</div>\n",
              "    <div class=\"colab-df-buttons\">\n",
              "\n",
              "  <div class=\"colab-df-container\">\n",
              "    <button class=\"colab-df-convert\" onclick=\"convertToInteractive('df-0b40b563-451a-43ef-a949-8eeafeb25cfe')\"\n",
              "            title=\"Convert this dataframe to an interactive table.\"\n",
              "            style=\"display:none;\">\n",
              "\n",
              "  <svg xmlns=\"http://www.w3.org/2000/svg\" height=\"24px\" viewBox=\"0 -960 960 960\">\n",
              "    <path d=\"M120-120v-720h720v720H120Zm60-500h600v-160H180v160Zm220 220h160v-160H400v160Zm0 220h160v-160H400v160ZM180-400h160v-160H180v160Zm440 0h160v-160H620v160ZM180-180h160v-160H180v160Zm440 0h160v-160H620v160Z\"/>\n",
              "  </svg>\n",
              "    </button>\n",
              "\n",
              "  <style>\n",
              "    .colab-df-container {\n",
              "      display:flex;\n",
              "      gap: 12px;\n",
              "    }\n",
              "\n",
              "    .colab-df-convert {\n",
              "      background-color: #E8F0FE;\n",
              "      border: none;\n",
              "      border-radius: 50%;\n",
              "      cursor: pointer;\n",
              "      display: none;\n",
              "      fill: #1967D2;\n",
              "      height: 32px;\n",
              "      padding: 0 0 0 0;\n",
              "      width: 32px;\n",
              "    }\n",
              "\n",
              "    .colab-df-convert:hover {\n",
              "      background-color: #E2EBFA;\n",
              "      box-shadow: 0px 1px 2px rgba(60, 64, 67, 0.3), 0px 1px 3px 1px rgba(60, 64, 67, 0.15);\n",
              "      fill: #174EA6;\n",
              "    }\n",
              "\n",
              "    .colab-df-buttons div {\n",
              "      margin-bottom: 4px;\n",
              "    }\n",
              "\n",
              "    [theme=dark] .colab-df-convert {\n",
              "      background-color: #3B4455;\n",
              "      fill: #D2E3FC;\n",
              "    }\n",
              "\n",
              "    [theme=dark] .colab-df-convert:hover {\n",
              "      background-color: #434B5C;\n",
              "      box-shadow: 0px 1px 3px 1px rgba(0, 0, 0, 0.15);\n",
              "      filter: drop-shadow(0px 1px 2px rgba(0, 0, 0, 0.3));\n",
              "      fill: #FFFFFF;\n",
              "    }\n",
              "  </style>\n",
              "\n",
              "    <script>\n",
              "      const buttonEl =\n",
              "        document.querySelector('#df-0b40b563-451a-43ef-a949-8eeafeb25cfe button.colab-df-convert');\n",
              "      buttonEl.style.display =\n",
              "        google.colab.kernel.accessAllowed ? 'block' : 'none';\n",
              "\n",
              "      async function convertToInteractive(key) {\n",
              "        const element = document.querySelector('#df-0b40b563-451a-43ef-a949-8eeafeb25cfe');\n",
              "        const dataTable =\n",
              "          await google.colab.kernel.invokeFunction('convertToInteractive',\n",
              "                                                    [key], {});\n",
              "        if (!dataTable) return;\n",
              "\n",
              "        const docLinkHtml = 'Like what you see? Visit the ' +\n",
              "          '<a target=\"_blank\" href=https://colab.research.google.com/notebooks/data_table.ipynb>data table notebook</a>'\n",
              "          + ' to learn more about interactive tables.';\n",
              "        element.innerHTML = '';\n",
              "        dataTable['output_type'] = 'display_data';\n",
              "        await google.colab.output.renderOutput(dataTable, element);\n",
              "        const docLink = document.createElement('div');\n",
              "        docLink.innerHTML = docLinkHtml;\n",
              "        element.appendChild(docLink);\n",
              "      }\n",
              "    </script>\n",
              "  </div>\n",
              "\n",
              "\n",
              "<div id=\"df-e56ff10d-b452-4d59-93de-784c49bc1b0d\">\n",
              "  <button class=\"colab-df-quickchart\" onclick=\"quickchart('df-e56ff10d-b452-4d59-93de-784c49bc1b0d')\"\n",
              "            title=\"Suggest charts\"\n",
              "            style=\"display:none;\">\n",
              "\n",
              "<svg xmlns=\"http://www.w3.org/2000/svg\" height=\"24px\"viewBox=\"0 0 24 24\"\n",
              "     width=\"24px\">\n",
              "    <g>\n",
              "        <path d=\"M19 3H5c-1.1 0-2 .9-2 2v14c0 1.1.9 2 2 2h14c1.1 0 2-.9 2-2V5c0-1.1-.9-2-2-2zM9 17H7v-7h2v7zm4 0h-2V7h2v10zm4 0h-2v-4h2v4z\"/>\n",
              "    </g>\n",
              "</svg>\n",
              "  </button>\n",
              "\n",
              "<style>\n",
              "  .colab-df-quickchart {\n",
              "      --bg-color: #E8F0FE;\n",
              "      --fill-color: #1967D2;\n",
              "      --hover-bg-color: #E2EBFA;\n",
              "      --hover-fill-color: #174EA6;\n",
              "      --disabled-fill-color: #AAA;\n",
              "      --disabled-bg-color: #DDD;\n",
              "  }\n",
              "\n",
              "  [theme=dark] .colab-df-quickchart {\n",
              "      --bg-color: #3B4455;\n",
              "      --fill-color: #D2E3FC;\n",
              "      --hover-bg-color: #434B5C;\n",
              "      --hover-fill-color: #FFFFFF;\n",
              "      --disabled-bg-color: #3B4455;\n",
              "      --disabled-fill-color: #666;\n",
              "  }\n",
              "\n",
              "  .colab-df-quickchart {\n",
              "    background-color: var(--bg-color);\n",
              "    border: none;\n",
              "    border-radius: 50%;\n",
              "    cursor: pointer;\n",
              "    display: none;\n",
              "    fill: var(--fill-color);\n",
              "    height: 32px;\n",
              "    padding: 0;\n",
              "    width: 32px;\n",
              "  }\n",
              "\n",
              "  .colab-df-quickchart:hover {\n",
              "    background-color: var(--hover-bg-color);\n",
              "    box-shadow: 0 1px 2px rgba(60, 64, 67, 0.3), 0 1px 3px 1px rgba(60, 64, 67, 0.15);\n",
              "    fill: var(--button-hover-fill-color);\n",
              "  }\n",
              "\n",
              "  .colab-df-quickchart-complete:disabled,\n",
              "  .colab-df-quickchart-complete:disabled:hover {\n",
              "    background-color: var(--disabled-bg-color);\n",
              "    fill: var(--disabled-fill-color);\n",
              "    box-shadow: none;\n",
              "  }\n",
              "\n",
              "  .colab-df-spinner {\n",
              "    border: 2px solid var(--fill-color);\n",
              "    border-color: transparent;\n",
              "    border-bottom-color: var(--fill-color);\n",
              "    animation:\n",
              "      spin 1s steps(1) infinite;\n",
              "  }\n",
              "\n",
              "  @keyframes spin {\n",
              "    0% {\n",
              "      border-color: transparent;\n",
              "      border-bottom-color: var(--fill-color);\n",
              "      border-left-color: var(--fill-color);\n",
              "    }\n",
              "    20% {\n",
              "      border-color: transparent;\n",
              "      border-left-color: var(--fill-color);\n",
              "      border-top-color: var(--fill-color);\n",
              "    }\n",
              "    30% {\n",
              "      border-color: transparent;\n",
              "      border-left-color: var(--fill-color);\n",
              "      border-top-color: var(--fill-color);\n",
              "      border-right-color: var(--fill-color);\n",
              "    }\n",
              "    40% {\n",
              "      border-color: transparent;\n",
              "      border-right-color: var(--fill-color);\n",
              "      border-top-color: var(--fill-color);\n",
              "    }\n",
              "    60% {\n",
              "      border-color: transparent;\n",
              "      border-right-color: var(--fill-color);\n",
              "    }\n",
              "    80% {\n",
              "      border-color: transparent;\n",
              "      border-right-color: var(--fill-color);\n",
              "      border-bottom-color: var(--fill-color);\n",
              "    }\n",
              "    90% {\n",
              "      border-color: transparent;\n",
              "      border-bottom-color: var(--fill-color);\n",
              "    }\n",
              "  }\n",
              "</style>\n",
              "\n",
              "  <script>\n",
              "    async function quickchart(key) {\n",
              "      const quickchartButtonEl =\n",
              "        document.querySelector('#' + key + ' button');\n",
              "      quickchartButtonEl.disabled = true;  // To prevent multiple clicks.\n",
              "      quickchartButtonEl.classList.add('colab-df-spinner');\n",
              "      try {\n",
              "        const charts = await google.colab.kernel.invokeFunction(\n",
              "            'suggestCharts', [key], {});\n",
              "      } catch (error) {\n",
              "        console.error('Error during call to suggestCharts:', error);\n",
              "      }\n",
              "      quickchartButtonEl.classList.remove('colab-df-spinner');\n",
              "      quickchartButtonEl.classList.add('colab-df-quickchart-complete');\n",
              "    }\n",
              "    (() => {\n",
              "      let quickchartButtonEl =\n",
              "        document.querySelector('#df-e56ff10d-b452-4d59-93de-784c49bc1b0d button');\n",
              "      quickchartButtonEl.style.display =\n",
              "        google.colab.kernel.accessAllowed ? 'block' : 'none';\n",
              "    })();\n",
              "  </script>\n",
              "</div>\n",
              "    </div>\n",
              "  </div>\n"
            ]
          },
          "metadata": {},
          "execution_count": 32
        }
      ],
      "source": [
        "train.head()"
      ]
    },
    {
      "cell_type": "code",
      "execution_count": 33,
      "id": "62e700f2",
      "metadata": {
        "execution": {
          "iopub.execute_input": "2023-11-28T22:16:20.588268Z",
          "iopub.status.busy": "2023-11-28T22:16:20.588046Z",
          "iopub.status.idle": "2023-11-28T22:16:20.599285Z",
          "shell.execute_reply": "2023-11-28T22:16:20.598546Z"
        },
        "id": "62e700f2",
        "outputId": "8b70e88b-662c-44f8-cd6d-01a1c810ffec",
        "papermill": {
          "duration": 0.028571,
          "end_time": "2023-11-28T22:16:20.600844",
          "exception": false,
          "start_time": "2023-11-28T22:16:20.572273",
          "status": "completed"
        },
        "tags": [],
        "colab": {
          "base_uri": "https://localhost:8080/",
          "height": 226
        }
      },
      "outputs": [
        {
          "output_type": "execute_result",
          "data": {
            "text/plain": [
              "   PassengerId  Pclass     Sex   Age  SibSp  Parch     Fare Embarked  \\\n",
              "0          892       3    male  34.5      0      0   7.8292        Q   \n",
              "1          893       3  female  47.0      1      0   7.0000        S   \n",
              "2          894       2    male  62.0      0      0   9.6875        Q   \n",
              "3          895       3    male  27.0      0      0   8.6625        S   \n",
              "4          896       3  female  22.0      1      1  12.2875        S   \n",
              "\n",
              "   FemaleCheck  Embarked_C  Embarked_Q  Embarked_S  \n",
              "0            0           0           1           0  \n",
              "1            1           0           0           1  \n",
              "2            0           0           1           0  \n",
              "3            0           0           0           1  \n",
              "4            1           0           0           1  "
            ],
            "text/html": [
              "\n",
              "  <div id=\"df-0cdd63f5-742f-45e1-b0c7-71d1b8deac85\" class=\"colab-df-container\">\n",
              "    <div>\n",
              "<style scoped>\n",
              "    .dataframe tbody tr th:only-of-type {\n",
              "        vertical-align: middle;\n",
              "    }\n",
              "\n",
              "    .dataframe tbody tr th {\n",
              "        vertical-align: top;\n",
              "    }\n",
              "\n",
              "    .dataframe thead th {\n",
              "        text-align: right;\n",
              "    }\n",
              "</style>\n",
              "<table border=\"1\" class=\"dataframe\">\n",
              "  <thead>\n",
              "    <tr style=\"text-align: right;\">\n",
              "      <th></th>\n",
              "      <th>PassengerId</th>\n",
              "      <th>Pclass</th>\n",
              "      <th>Sex</th>\n",
              "      <th>Age</th>\n",
              "      <th>SibSp</th>\n",
              "      <th>Parch</th>\n",
              "      <th>Fare</th>\n",
              "      <th>Embarked</th>\n",
              "      <th>FemaleCheck</th>\n",
              "      <th>Embarked_C</th>\n",
              "      <th>Embarked_Q</th>\n",
              "      <th>Embarked_S</th>\n",
              "    </tr>\n",
              "  </thead>\n",
              "  <tbody>\n",
              "    <tr>\n",
              "      <th>0</th>\n",
              "      <td>892</td>\n",
              "      <td>3</td>\n",
              "      <td>male</td>\n",
              "      <td>34.5</td>\n",
              "      <td>0</td>\n",
              "      <td>0</td>\n",
              "      <td>7.8292</td>\n",
              "      <td>Q</td>\n",
              "      <td>0</td>\n",
              "      <td>0</td>\n",
              "      <td>1</td>\n",
              "      <td>0</td>\n",
              "    </tr>\n",
              "    <tr>\n",
              "      <th>1</th>\n",
              "      <td>893</td>\n",
              "      <td>3</td>\n",
              "      <td>female</td>\n",
              "      <td>47.0</td>\n",
              "      <td>1</td>\n",
              "      <td>0</td>\n",
              "      <td>7.0000</td>\n",
              "      <td>S</td>\n",
              "      <td>1</td>\n",
              "      <td>0</td>\n",
              "      <td>0</td>\n",
              "      <td>1</td>\n",
              "    </tr>\n",
              "    <tr>\n",
              "      <th>2</th>\n",
              "      <td>894</td>\n",
              "      <td>2</td>\n",
              "      <td>male</td>\n",
              "      <td>62.0</td>\n",
              "      <td>0</td>\n",
              "      <td>0</td>\n",
              "      <td>9.6875</td>\n",
              "      <td>Q</td>\n",
              "      <td>0</td>\n",
              "      <td>0</td>\n",
              "      <td>1</td>\n",
              "      <td>0</td>\n",
              "    </tr>\n",
              "    <tr>\n",
              "      <th>3</th>\n",
              "      <td>895</td>\n",
              "      <td>3</td>\n",
              "      <td>male</td>\n",
              "      <td>27.0</td>\n",
              "      <td>0</td>\n",
              "      <td>0</td>\n",
              "      <td>8.6625</td>\n",
              "      <td>S</td>\n",
              "      <td>0</td>\n",
              "      <td>0</td>\n",
              "      <td>0</td>\n",
              "      <td>1</td>\n",
              "    </tr>\n",
              "    <tr>\n",
              "      <th>4</th>\n",
              "      <td>896</td>\n",
              "      <td>3</td>\n",
              "      <td>female</td>\n",
              "      <td>22.0</td>\n",
              "      <td>1</td>\n",
              "      <td>1</td>\n",
              "      <td>12.2875</td>\n",
              "      <td>S</td>\n",
              "      <td>1</td>\n",
              "      <td>0</td>\n",
              "      <td>0</td>\n",
              "      <td>1</td>\n",
              "    </tr>\n",
              "  </tbody>\n",
              "</table>\n",
              "</div>\n",
              "    <div class=\"colab-df-buttons\">\n",
              "\n",
              "  <div class=\"colab-df-container\">\n",
              "    <button class=\"colab-df-convert\" onclick=\"convertToInteractive('df-0cdd63f5-742f-45e1-b0c7-71d1b8deac85')\"\n",
              "            title=\"Convert this dataframe to an interactive table.\"\n",
              "            style=\"display:none;\">\n",
              "\n",
              "  <svg xmlns=\"http://www.w3.org/2000/svg\" height=\"24px\" viewBox=\"0 -960 960 960\">\n",
              "    <path d=\"M120-120v-720h720v720H120Zm60-500h600v-160H180v160Zm220 220h160v-160H400v160Zm0 220h160v-160H400v160ZM180-400h160v-160H180v160Zm440 0h160v-160H620v160ZM180-180h160v-160H180v160Zm440 0h160v-160H620v160Z\"/>\n",
              "  </svg>\n",
              "    </button>\n",
              "\n",
              "  <style>\n",
              "    .colab-df-container {\n",
              "      display:flex;\n",
              "      gap: 12px;\n",
              "    }\n",
              "\n",
              "    .colab-df-convert {\n",
              "      background-color: #E8F0FE;\n",
              "      border: none;\n",
              "      border-radius: 50%;\n",
              "      cursor: pointer;\n",
              "      display: none;\n",
              "      fill: #1967D2;\n",
              "      height: 32px;\n",
              "      padding: 0 0 0 0;\n",
              "      width: 32px;\n",
              "    }\n",
              "\n",
              "    .colab-df-convert:hover {\n",
              "      background-color: #E2EBFA;\n",
              "      box-shadow: 0px 1px 2px rgba(60, 64, 67, 0.3), 0px 1px 3px 1px rgba(60, 64, 67, 0.15);\n",
              "      fill: #174EA6;\n",
              "    }\n",
              "\n",
              "    .colab-df-buttons div {\n",
              "      margin-bottom: 4px;\n",
              "    }\n",
              "\n",
              "    [theme=dark] .colab-df-convert {\n",
              "      background-color: #3B4455;\n",
              "      fill: #D2E3FC;\n",
              "    }\n",
              "\n",
              "    [theme=dark] .colab-df-convert:hover {\n",
              "      background-color: #434B5C;\n",
              "      box-shadow: 0px 1px 3px 1px rgba(0, 0, 0, 0.15);\n",
              "      filter: drop-shadow(0px 1px 2px rgba(0, 0, 0, 0.3));\n",
              "      fill: #FFFFFF;\n",
              "    }\n",
              "  </style>\n",
              "\n",
              "    <script>\n",
              "      const buttonEl =\n",
              "        document.querySelector('#df-0cdd63f5-742f-45e1-b0c7-71d1b8deac85 button.colab-df-convert');\n",
              "      buttonEl.style.display =\n",
              "        google.colab.kernel.accessAllowed ? 'block' : 'none';\n",
              "\n",
              "      async function convertToInteractive(key) {\n",
              "        const element = document.querySelector('#df-0cdd63f5-742f-45e1-b0c7-71d1b8deac85');\n",
              "        const dataTable =\n",
              "          await google.colab.kernel.invokeFunction('convertToInteractive',\n",
              "                                                    [key], {});\n",
              "        if (!dataTable) return;\n",
              "\n",
              "        const docLinkHtml = 'Like what you see? Visit the ' +\n",
              "          '<a target=\"_blank\" href=https://colab.research.google.com/notebooks/data_table.ipynb>data table notebook</a>'\n",
              "          + ' to learn more about interactive tables.';\n",
              "        element.innerHTML = '';\n",
              "        dataTable['output_type'] = 'display_data';\n",
              "        await google.colab.output.renderOutput(dataTable, element);\n",
              "        const docLink = document.createElement('div');\n",
              "        docLink.innerHTML = docLinkHtml;\n",
              "        element.appendChild(docLink);\n",
              "      }\n",
              "    </script>\n",
              "  </div>\n",
              "\n",
              "\n",
              "<div id=\"df-368e6667-d64e-4fa4-b6f6-dc2dc32241a2\">\n",
              "  <button class=\"colab-df-quickchart\" onclick=\"quickchart('df-368e6667-d64e-4fa4-b6f6-dc2dc32241a2')\"\n",
              "            title=\"Suggest charts\"\n",
              "            style=\"display:none;\">\n",
              "\n",
              "<svg xmlns=\"http://www.w3.org/2000/svg\" height=\"24px\"viewBox=\"0 0 24 24\"\n",
              "     width=\"24px\">\n",
              "    <g>\n",
              "        <path d=\"M19 3H5c-1.1 0-2 .9-2 2v14c0 1.1.9 2 2 2h14c1.1 0 2-.9 2-2V5c0-1.1-.9-2-2-2zM9 17H7v-7h2v7zm4 0h-2V7h2v10zm4 0h-2v-4h2v4z\"/>\n",
              "    </g>\n",
              "</svg>\n",
              "  </button>\n",
              "\n",
              "<style>\n",
              "  .colab-df-quickchart {\n",
              "      --bg-color: #E8F0FE;\n",
              "      --fill-color: #1967D2;\n",
              "      --hover-bg-color: #E2EBFA;\n",
              "      --hover-fill-color: #174EA6;\n",
              "      --disabled-fill-color: #AAA;\n",
              "      --disabled-bg-color: #DDD;\n",
              "  }\n",
              "\n",
              "  [theme=dark] .colab-df-quickchart {\n",
              "      --bg-color: #3B4455;\n",
              "      --fill-color: #D2E3FC;\n",
              "      --hover-bg-color: #434B5C;\n",
              "      --hover-fill-color: #FFFFFF;\n",
              "      --disabled-bg-color: #3B4455;\n",
              "      --disabled-fill-color: #666;\n",
              "  }\n",
              "\n",
              "  .colab-df-quickchart {\n",
              "    background-color: var(--bg-color);\n",
              "    border: none;\n",
              "    border-radius: 50%;\n",
              "    cursor: pointer;\n",
              "    display: none;\n",
              "    fill: var(--fill-color);\n",
              "    height: 32px;\n",
              "    padding: 0;\n",
              "    width: 32px;\n",
              "  }\n",
              "\n",
              "  .colab-df-quickchart:hover {\n",
              "    background-color: var(--hover-bg-color);\n",
              "    box-shadow: 0 1px 2px rgba(60, 64, 67, 0.3), 0 1px 3px 1px rgba(60, 64, 67, 0.15);\n",
              "    fill: var(--button-hover-fill-color);\n",
              "  }\n",
              "\n",
              "  .colab-df-quickchart-complete:disabled,\n",
              "  .colab-df-quickchart-complete:disabled:hover {\n",
              "    background-color: var(--disabled-bg-color);\n",
              "    fill: var(--disabled-fill-color);\n",
              "    box-shadow: none;\n",
              "  }\n",
              "\n",
              "  .colab-df-spinner {\n",
              "    border: 2px solid var(--fill-color);\n",
              "    border-color: transparent;\n",
              "    border-bottom-color: var(--fill-color);\n",
              "    animation:\n",
              "      spin 1s steps(1) infinite;\n",
              "  }\n",
              "\n",
              "  @keyframes spin {\n",
              "    0% {\n",
              "      border-color: transparent;\n",
              "      border-bottom-color: var(--fill-color);\n",
              "      border-left-color: var(--fill-color);\n",
              "    }\n",
              "    20% {\n",
              "      border-color: transparent;\n",
              "      border-left-color: var(--fill-color);\n",
              "      border-top-color: var(--fill-color);\n",
              "    }\n",
              "    30% {\n",
              "      border-color: transparent;\n",
              "      border-left-color: var(--fill-color);\n",
              "      border-top-color: var(--fill-color);\n",
              "      border-right-color: var(--fill-color);\n",
              "    }\n",
              "    40% {\n",
              "      border-color: transparent;\n",
              "      border-right-color: var(--fill-color);\n",
              "      border-top-color: var(--fill-color);\n",
              "    }\n",
              "    60% {\n",
              "      border-color: transparent;\n",
              "      border-right-color: var(--fill-color);\n",
              "    }\n",
              "    80% {\n",
              "      border-color: transparent;\n",
              "      border-right-color: var(--fill-color);\n",
              "      border-bottom-color: var(--fill-color);\n",
              "    }\n",
              "    90% {\n",
              "      border-color: transparent;\n",
              "      border-bottom-color: var(--fill-color);\n",
              "    }\n",
              "  }\n",
              "</style>\n",
              "\n",
              "  <script>\n",
              "    async function quickchart(key) {\n",
              "      const quickchartButtonEl =\n",
              "        document.querySelector('#' + key + ' button');\n",
              "      quickchartButtonEl.disabled = true;  // To prevent multiple clicks.\n",
              "      quickchartButtonEl.classList.add('colab-df-spinner');\n",
              "      try {\n",
              "        const charts = await google.colab.kernel.invokeFunction(\n",
              "            'suggestCharts', [key], {});\n",
              "      } catch (error) {\n",
              "        console.error('Error during call to suggestCharts:', error);\n",
              "      }\n",
              "      quickchartButtonEl.classList.remove('colab-df-spinner');\n",
              "      quickchartButtonEl.classList.add('colab-df-quickchart-complete');\n",
              "    }\n",
              "    (() => {\n",
              "      let quickchartButtonEl =\n",
              "        document.querySelector('#df-368e6667-d64e-4fa4-b6f6-dc2dc32241a2 button');\n",
              "      quickchartButtonEl.style.display =\n",
              "        google.colab.kernel.accessAllowed ? 'block' : 'none';\n",
              "    })();\n",
              "  </script>\n",
              "</div>\n",
              "    </div>\n",
              "  </div>\n"
            ]
          },
          "metadata": {},
          "execution_count": 33
        }
      ],
      "source": [
        "test.head()"
      ]
    },
    {
      "cell_type": "code",
      "execution_count": 34,
      "id": "e2731cc3",
      "metadata": {
        "execution": {
          "iopub.execute_input": "2023-11-28T22:16:20.632445Z",
          "iopub.status.busy": "2023-11-28T22:16:20.632148Z",
          "iopub.status.idle": "2023-11-28T22:16:20.637487Z",
          "shell.execute_reply": "2023-11-28T22:16:20.636722Z"
        },
        "id": "e2731cc3",
        "papermill": {
          "duration": 0.022786,
          "end_time": "2023-11-28T22:16:20.638969",
          "exception": false,
          "start_time": "2023-11-28T22:16:20.616183",
          "status": "completed"
        },
        "tags": []
      },
      "outputs": [],
      "source": [
        "#Now I can delete the columns 'Sex' and 'Embarked'\n",
        "test = test.drop(['Sex', 'Embarked'], axis = 1)\n",
        "train = train.drop(['Sex', 'Embarked'], axis = 1)"
      ]
    },
    {
      "cell_type": "markdown",
      "id": "5c165a25",
      "metadata": {
        "id": "5c165a25",
        "papermill": {
          "duration": 0.015412,
          "end_time": "2023-11-28T22:16:20.669577",
          "exception": false,
          "start_time": "2023-11-28T22:16:20.654165",
          "status": "completed"
        },
        "tags": []
      },
      "source": [
        "**Now that we have processed the data, let's separate the training base into training and validation, to finally implement the algorithms. To this part we'll use the [Train_test_split](https://scikit-learn.org/stable/modules/generated/sklearn.model_selection.train_test_split.html)**"
      ]
    },
    {
      "cell_type": "code",
      "execution_count": 35,
      "id": "61781387",
      "metadata": {
        "execution": {
          "iopub.execute_input": "2023-11-28T22:16:20.700829Z",
          "iopub.status.busy": "2023-11-28T22:16:20.700565Z",
          "iopub.status.idle": "2023-11-28T22:16:20.775639Z",
          "shell.execute_reply": "2023-11-28T22:16:20.774898Z"
        },
        "id": "61781387",
        "papermill": {
          "duration": 0.092891,
          "end_time": "2023-11-28T22:16:20.777517",
          "exception": false,
          "start_time": "2023-11-28T22:16:20.684626",
          "status": "completed"
        },
        "tags": []
      },
      "outputs": [],
      "source": [
        "#Import train_test_split\n",
        "from sklearn.model_selection import train_test_split"
      ]
    },
    {
      "cell_type": "code",
      "execution_count": 36,
      "id": "f1dc7c1c",
      "metadata": {
        "execution": {
          "iopub.execute_input": "2023-11-28T22:16:20.809897Z",
          "iopub.status.busy": "2023-11-28T22:16:20.809622Z",
          "iopub.status.idle": "2023-11-28T22:16:20.814733Z",
          "shell.execute_reply": "2023-11-28T22:16:20.813937Z"
        },
        "id": "f1dc7c1c",
        "papermill": {
          "duration": 0.022739,
          "end_time": "2023-11-28T22:16:20.816215",
          "exception": false,
          "start_time": "2023-11-28T22:16:20.793476",
          "status": "completed"
        },
        "tags": []
      },
      "outputs": [],
      "source": [
        "#Separating the training base into X and y\n",
        "X = train.drop(['PassengerId','Survived'], axis = 1)\n",
        "y = train.Survived"
      ]
    },
    {
      "cell_type": "code",
      "execution_count": 37,
      "id": "96d98195",
      "metadata": {
        "execution": {
          "iopub.execute_input": "2023-11-28T22:16:20.848775Z",
          "iopub.status.busy": "2023-11-28T22:16:20.848539Z",
          "iopub.status.idle": "2023-11-28T22:16:20.855018Z",
          "shell.execute_reply": "2023-11-28T22:16:20.854327Z"
        },
        "id": "96d98195",
        "papermill": {
          "duration": 0.024804,
          "end_time": "2023-11-28T22:16:20.856616",
          "exception": false,
          "start_time": "2023-11-28T22:16:20.831812",
          "status": "completed"
        },
        "tags": []
      },
      "outputs": [],
      "source": [
        "#Separate train and validation\n",
        "X_train, X_validation, y_train, y_validation = train_test_split(X, y, test_size=0.33, random_state=42)"
      ]
    },
    {
      "cell_type": "markdown",
      "id": "c4c41431",
      "metadata": {
        "id": "c4c41431",
        "papermill": {
          "duration": 0.014935,
          "end_time": "2023-11-28T22:16:20.886727",
          "exception": false,
          "start_time": "2023-11-28T22:16:20.871792",
          "status": "completed"
        },
        "tags": []
      },
      "source": [
        "**A metric for evaluating the competition is this:**\n",
        "\n",
        "**Metric Your score is the percentage of passengers you correctly predict. This is known as accuracy.**\n",
        "\n",
        "**For this reason, we will test the accuracy of these models:**\n",
        "\n",
        "[Decision Trees](https://scikit-learn.org/stable/modules/tree.html#classification)\n",
        "\n",
        "\n",
        "[KNeighborsClassifier](https://scikit-learn.org/stable/modules/generated/sklearn.neighbors.KNeighborsClassifier.html#sklearn.neighbors.KNeighborsClassifier)\n",
        "\n",
        "\n",
        "[LogisticRegression](https://scikitlearn.org/stable/modules/generated/sklearn.linear_model.LogisticRegression.html#sklearn.linear_model.LogisticRegression)\n"
      ]
    },
    {
      "cell_type": "code",
      "execution_count": 38,
      "id": "ff1c2a8d",
      "metadata": {
        "execution": {
          "iopub.execute_input": "2023-11-28T22:16:20.917887Z",
          "iopub.status.busy": "2023-11-28T22:16:20.917630Z",
          "iopub.status.idle": "2023-11-28T22:16:21.104255Z",
          "shell.execute_reply": "2023-11-28T22:16:21.103429Z"
        },
        "id": "ff1c2a8d",
        "papermill": {
          "duration": 0.204514,
          "end_time": "2023-11-28T22:16:21.106235",
          "exception": false,
          "start_time": "2023-11-28T22:16:20.901721",
          "status": "completed"
        },
        "tags": []
      },
      "outputs": [],
      "source": [
        "#Import\n",
        "from sklearn import tree"
      ]
    },
    {
      "cell_type": "code",
      "execution_count": 39,
      "id": "290ba35e",
      "metadata": {
        "execution": {
          "iopub.execute_input": "2023-11-28T22:16:21.138756Z",
          "iopub.status.busy": "2023-11-28T22:16:21.138498Z",
          "iopub.status.idle": "2023-11-28T22:16:21.142183Z",
          "shell.execute_reply": "2023-11-28T22:16:21.141422Z"
        },
        "id": "290ba35e",
        "papermill": {
          "duration": 0.021195,
          "end_time": "2023-11-28T22:16:21.143674",
          "exception": false,
          "start_time": "2023-11-28T22:16:21.122479",
          "status": "completed"
        },
        "tags": []
      },
      "outputs": [],
      "source": [
        "#Creating the classifier\n",
        "clf_dt = tree.DecisionTreeClassifier(random_state = 42)"
      ]
    },
    {
      "cell_type": "code",
      "execution_count": 40,
      "id": "84fce28f",
      "metadata": {
        "execution": {
          "iopub.execute_input": "2023-11-28T22:16:21.174888Z",
          "iopub.status.busy": "2023-11-28T22:16:21.174661Z",
          "iopub.status.idle": "2023-11-28T22:16:21.183104Z",
          "shell.execute_reply": "2023-11-28T22:16:21.182327Z"
        },
        "id": "84fce28f",
        "papermill": {
          "duration": 0.025863,
          "end_time": "2023-11-28T22:16:21.184740",
          "exception": false,
          "start_time": "2023-11-28T22:16:21.158877",
          "status": "completed"
        },
        "tags": []
      },
      "outputs": [],
      "source": [
        "#Fit with datas\n",
        "clf_dt = clf_dt.fit(X_train, y_train)"
      ]
    },
    {
      "cell_type": "code",
      "execution_count": 41,
      "id": "b12b263b",
      "metadata": {
        "execution": {
          "iopub.execute_input": "2023-11-28T22:16:21.216285Z",
          "iopub.status.busy": "2023-11-28T22:16:21.215996Z",
          "iopub.status.idle": "2023-11-28T22:16:21.220896Z",
          "shell.execute_reply": "2023-11-28T22:16:21.220141Z"
        },
        "id": "b12b263b",
        "papermill": {
          "duration": 0.022508,
          "end_time": "2023-11-28T22:16:21.222425",
          "exception": false,
          "start_time": "2023-11-28T22:16:21.199917",
          "status": "completed"
        },
        "tags": []
      },
      "outputs": [],
      "source": [
        "#Making the prediction\n",
        "y_pred_dt = clf_dt.predict(X_validation)"
      ]
    },
    {
      "cell_type": "markdown",
      "id": "58b26ba7",
      "metadata": {
        "id": "58b26ba7",
        "papermill": {
          "duration": 0.014925,
          "end_time": "2023-11-28T22:16:21.252500",
          "exception": false,
          "start_time": "2023-11-28T22:16:21.237575",
          "status": "completed"
        },
        "tags": []
      },
      "source": [
        "**Let's do the same job with the KNeighborsClassifier and Logistic Regression**"
      ]
    },
    {
      "cell_type": "code",
      "execution_count": 42,
      "id": "3fa51c5e",
      "metadata": {
        "execution": {
          "iopub.execute_input": "2023-11-28T22:16:21.284145Z",
          "iopub.status.busy": "2023-11-28T22:16:21.283882Z",
          "iopub.status.idle": "2023-11-28T22:16:21.286856Z",
          "shell.execute_reply": "2023-11-28T22:16:21.286313Z"
        },
        "id": "3fa51c5e",
        "papermill": {
          "duration": 0.020586,
          "end_time": "2023-11-28T22:16:21.288196",
          "exception": false,
          "start_time": "2023-11-28T22:16:21.267610",
          "status": "completed"
        },
        "tags": []
      },
      "outputs": [],
      "source": [
        "#Import\n",
        "from sklearn.neighbors import KNeighborsClassifier"
      ]
    },
    {
      "cell_type": "code",
      "execution_count": 43,
      "id": "b18f3665",
      "metadata": {
        "execution": {
          "iopub.execute_input": "2023-11-28T22:16:21.319711Z",
          "iopub.status.busy": "2023-11-28T22:16:21.319406Z",
          "iopub.status.idle": "2023-11-28T22:16:21.322806Z",
          "shell.execute_reply": "2023-11-28T22:16:21.322276Z"
        },
        "id": "b18f3665",
        "papermill": {
          "duration": 0.020681,
          "end_time": "2023-11-28T22:16:21.324133",
          "exception": false,
          "start_time": "2023-11-28T22:16:21.303452",
          "status": "completed"
        },
        "tags": []
      },
      "outputs": [],
      "source": [
        "#Creating the classifier\n",
        "clf_knc = KNeighborsClassifier(n_neighbors=3)"
      ]
    },
    {
      "cell_type": "code",
      "execution_count": 44,
      "id": "d2883d97",
      "metadata": {
        "execution": {
          "iopub.execute_input": "2023-11-28T22:16:21.355752Z",
          "iopub.status.busy": "2023-11-28T22:16:21.355486Z",
          "iopub.status.idle": "2023-11-28T22:16:21.362231Z",
          "shell.execute_reply": "2023-11-28T22:16:21.361639Z"
        },
        "id": "d2883d97",
        "papermill": {
          "duration": 0.024283,
          "end_time": "2023-11-28T22:16:21.363917",
          "exception": false,
          "start_time": "2023-11-28T22:16:21.339634",
          "status": "completed"
        },
        "tags": []
      },
      "outputs": [],
      "source": [
        "#Fit with datas\n",
        "clf_knc = clf_knc.fit(X_train, y_train)"
      ]
    },
    {
      "cell_type": "code",
      "execution_count": 45,
      "id": "7a59bce6",
      "metadata": {
        "execution": {
          "iopub.execute_input": "2023-11-28T22:16:21.395959Z",
          "iopub.status.busy": "2023-11-28T22:16:21.395694Z",
          "iopub.status.idle": "2023-11-28T22:16:21.415099Z",
          "shell.execute_reply": "2023-11-28T22:16:21.414288Z"
        },
        "id": "7a59bce6",
        "papermill": {
          "duration": 0.037211,
          "end_time": "2023-11-28T22:16:21.416645",
          "exception": false,
          "start_time": "2023-11-28T22:16:21.379434",
          "status": "completed"
        },
        "tags": []
      },
      "outputs": [],
      "source": [
        "#Making the prediction\n",
        "y_pred_knc = clf_knc.predict(X_validation)"
      ]
    },
    {
      "cell_type": "markdown",
      "id": "3767d241",
      "metadata": {
        "id": "3767d241",
        "papermill": {
          "duration": 0.014953,
          "end_time": "2023-11-28T22:16:21.447133",
          "exception": false,
          "start_time": "2023-11-28T22:16:21.432180",
          "status": "completed"
        },
        "tags": []
      },
      "source": [
        "**Now Logistic Regression**"
      ]
    },
    {
      "cell_type": "code",
      "execution_count": 46,
      "id": "7ad536d6",
      "metadata": {
        "execution": {
          "iopub.execute_input": "2023-11-28T22:16:21.478682Z",
          "iopub.status.busy": "2023-11-28T22:16:21.478360Z",
          "iopub.status.idle": "2023-11-28T22:16:21.481977Z",
          "shell.execute_reply": "2023-11-28T22:16:21.481196Z"
        },
        "id": "7ad536d6",
        "papermill": {
          "duration": 0.021414,
          "end_time": "2023-11-28T22:16:21.483642",
          "exception": false,
          "start_time": "2023-11-28T22:16:21.462228",
          "status": "completed"
        },
        "tags": []
      },
      "outputs": [],
      "source": [
        "#Import\n",
        "from sklearn.linear_model import LogisticRegression"
      ]
    },
    {
      "cell_type": "code",
      "execution_count": 47,
      "id": "ddfeb6d7",
      "metadata": {
        "execution": {
          "iopub.execute_input": "2023-11-28T22:16:21.515348Z",
          "iopub.status.busy": "2023-11-28T22:16:21.515050Z",
          "iopub.status.idle": "2023-11-28T22:16:21.518654Z",
          "shell.execute_reply": "2023-11-28T22:16:21.517921Z"
        },
        "id": "ddfeb6d7",
        "papermill": {
          "duration": 0.02137,
          "end_time": "2023-11-28T22:16:21.520162",
          "exception": false,
          "start_time": "2023-11-28T22:16:21.498792",
          "status": "completed"
        },
        "tags": []
      },
      "outputs": [],
      "source": [
        "#Creating the classifier\n",
        "clf_lr = LogisticRegression(random_state = 42, max_iter= 1000)"
      ]
    },
    {
      "cell_type": "code",
      "execution_count": 48,
      "id": "a1e8af51",
      "metadata": {
        "execution": {
          "iopub.execute_input": "2023-11-28T22:16:21.552425Z",
          "iopub.status.busy": "2023-11-28T22:16:21.552145Z",
          "iopub.status.idle": "2023-11-28T22:16:21.601294Z",
          "shell.execute_reply": "2023-11-28T22:16:21.600525Z"
        },
        "id": "a1e8af51",
        "papermill": {
          "duration": 0.066989,
          "end_time": "2023-11-28T22:16:21.602879",
          "exception": false,
          "start_time": "2023-11-28T22:16:21.535890",
          "status": "completed"
        },
        "tags": []
      },
      "outputs": [],
      "source": [
        "#Fit with datas\n",
        "clf_lr = clf_lr.fit(X_train, y_train)"
      ]
    },
    {
      "cell_type": "code",
      "execution_count": 49,
      "id": "eb6f3876",
      "metadata": {
        "execution": {
          "iopub.execute_input": "2023-11-28T22:16:21.634374Z",
          "iopub.status.busy": "2023-11-28T22:16:21.634133Z",
          "iopub.status.idle": "2023-11-28T22:16:21.639204Z",
          "shell.execute_reply": "2023-11-28T22:16:21.638429Z"
        },
        "id": "eb6f3876",
        "papermill": {
          "duration": 0.022614,
          "end_time": "2023-11-28T22:16:21.640905",
          "exception": false,
          "start_time": "2023-11-28T22:16:21.618291",
          "status": "completed"
        },
        "tags": []
      },
      "outputs": [],
      "source": [
        "#Creating the classifier\n",
        "\n",
        "y_pred_lr = clf_lr.predict(X_validation)"
      ]
    },
    {
      "cell_type": "markdown",
      "id": "30c7e3c6",
      "metadata": {
        "id": "30c7e3c6",
        "papermill": {
          "duration": 0.015161,
          "end_time": "2023-11-28T22:16:21.671191",
          "exception": false,
          "start_time": "2023-11-28T22:16:21.656030",
          "status": "completed"
        },
        "tags": []
      },
      "source": [
        "**As I said the metric will be accuracy, so it's time to check the best model to find the best result:**\n",
        "\n",
        "[Accuracy](https://scikit-learn.org/stable/modules/model_evaluation.html#accuracy-score)"
      ]
    },
    {
      "cell_type": "code",
      "execution_count": 50,
      "id": "ce0161df",
      "metadata": {
        "execution": {
          "iopub.execute_input": "2023-11-28T22:16:21.702509Z",
          "iopub.status.busy": "2023-11-28T22:16:21.702173Z",
          "iopub.status.idle": "2023-11-28T22:16:21.705579Z",
          "shell.execute_reply": "2023-11-28T22:16:21.704833Z"
        },
        "id": "ce0161df",
        "papermill": {
          "duration": 0.021158,
          "end_time": "2023-11-28T22:16:21.707273",
          "exception": false,
          "start_time": "2023-11-28T22:16:21.686115",
          "status": "completed"
        },
        "tags": []
      },
      "outputs": [],
      "source": [
        "#Import Accuracy\n",
        "from sklearn.metrics import accuracy_score"
      ]
    },
    {
      "cell_type": "code",
      "execution_count": 51,
      "id": "8148475f",
      "metadata": {
        "execution": {
          "iopub.execute_input": "2023-11-28T22:16:21.738850Z",
          "iopub.status.busy": "2023-11-28T22:16:21.738191Z",
          "iopub.status.idle": "2023-11-28T22:16:21.744355Z",
          "shell.execute_reply": "2023-11-28T22:16:21.743633Z"
        },
        "id": "8148475f",
        "outputId": "aff3160d-bbc4-4be8-9ad4-f026df8ffe18",
        "papermill": {
          "duration": 0.023474,
          "end_time": "2023-11-28T22:16:21.745920",
          "exception": false,
          "start_time": "2023-11-28T22:16:21.722446",
          "status": "completed"
        },
        "tags": [],
        "colab": {
          "base_uri": "https://localhost:8080/"
        }
      },
      "outputs": [
        {
          "output_type": "execute_result",
          "data": {
            "text/plain": [
              "0.7457627118644068"
            ]
          },
          "metadata": {},
          "execution_count": 51
        }
      ],
      "source": [
        "#Decision Tree Accuracy\n",
        "accuracy_score(y_validation, y_pred_dt)"
      ]
    },
    {
      "cell_type": "code",
      "execution_count": 52,
      "id": "d2229e14",
      "metadata": {
        "execution": {
          "iopub.execute_input": "2023-11-28T22:16:21.777656Z",
          "iopub.status.busy": "2023-11-28T22:16:21.777020Z",
          "iopub.status.idle": "2023-11-28T22:16:21.782861Z",
          "shell.execute_reply": "2023-11-28T22:16:21.782309Z"
        },
        "id": "d2229e14",
        "outputId": "68b8afab-b41f-4f95-8109-f2e7559eaf7c",
        "papermill": {
          "duration": 0.023412,
          "end_time": "2023-11-28T22:16:21.784414",
          "exception": false,
          "start_time": "2023-11-28T22:16:21.761002",
          "status": "completed"
        },
        "tags": [],
        "colab": {
          "base_uri": "https://localhost:8080/"
        }
      },
      "outputs": [
        {
          "output_type": "execute_result",
          "data": {
            "text/plain": [
              "0.7152542372881356"
            ]
          },
          "metadata": {},
          "execution_count": 52
        }
      ],
      "source": [
        "#KNeighborsClassifier accuracy\n",
        "accuracy_score(y_validation, y_pred_knc)"
      ]
    },
    {
      "cell_type": "code",
      "execution_count": 53,
      "id": "ce874294",
      "metadata": {
        "execution": {
          "iopub.execute_input": "2023-11-28T22:16:21.816011Z",
          "iopub.status.busy": "2023-11-28T22:16:21.815577Z",
          "iopub.status.idle": "2023-11-28T22:16:21.820803Z",
          "shell.execute_reply": "2023-11-28T22:16:21.820249Z"
        },
        "id": "ce874294",
        "outputId": "92c197d8-1660-4f38-f8a4-1736b5e8a0a2",
        "papermill": {
          "duration": 0.022654,
          "end_time": "2023-11-28T22:16:21.822316",
          "exception": false,
          "start_time": "2023-11-28T22:16:21.799662",
          "status": "completed"
        },
        "tags": [],
        "colab": {
          "base_uri": "https://localhost:8080/"
        }
      },
      "outputs": [
        {
          "output_type": "execute_result",
          "data": {
            "text/plain": [
              "0.8169491525423729"
            ]
          },
          "metadata": {},
          "execution_count": 53
        }
      ],
      "source": [
        "#Logistic Regression Accuracy\n",
        "accuracy_score(y_validation, y_pred_lr)"
      ]
    },
    {
      "cell_type": "markdown",
      "id": "67199e53",
      "metadata": {
        "id": "67199e53",
        "papermill": {
          "duration": 0.01514,
          "end_time": "2023-11-28T22:16:21.853054",
          "exception": false,
          "start_time": "2023-11-28T22:16:21.837914",
          "status": "completed"
        },
        "tags": []
      },
      "source": [
        "**I can also use the confusion_matrix to better visualize the distribution of errors and evaluate the accuracy of a classification.**\n",
        "\n",
        "\n",
        "[Confusion Matrix](https://scikit-learn.org/stable/modules/generated/sklearn.metrics.confusion_matrix.html)"
      ]
    },
    {
      "cell_type": "code",
      "execution_count": 54,
      "id": "0c754d34",
      "metadata": {
        "execution": {
          "iopub.execute_input": "2023-11-28T22:16:21.884990Z",
          "iopub.status.busy": "2023-11-28T22:16:21.884517Z",
          "iopub.status.idle": "2023-11-28T22:16:21.887902Z",
          "shell.execute_reply": "2023-11-28T22:16:21.887362Z"
        },
        "id": "0c754d34",
        "papermill": {
          "duration": 0.021206,
          "end_time": "2023-11-28T22:16:21.889466",
          "exception": false,
          "start_time": "2023-11-28T22:16:21.868260",
          "status": "completed"
        },
        "tags": []
      },
      "outputs": [],
      "source": [
        "#Import\n",
        "from sklearn.metrics import confusion_matrix"
      ]
    },
    {
      "cell_type": "code",
      "execution_count": 55,
      "id": "36fb14c7",
      "metadata": {
        "execution": {
          "iopub.execute_input": "2023-11-28T22:16:21.920983Z",
          "iopub.status.busy": "2023-11-28T22:16:21.920745Z",
          "iopub.status.idle": "2023-11-28T22:16:21.927169Z",
          "shell.execute_reply": "2023-11-28T22:16:21.926578Z"
        },
        "id": "36fb14c7",
        "outputId": "31ea7078-9a6d-4a9b-e6c3-bfd1b97b4835",
        "papermill": {
          "duration": 0.023957,
          "end_time": "2023-11-28T22:16:21.928713",
          "exception": false,
          "start_time": "2023-11-28T22:16:21.904756",
          "status": "completed"
        },
        "tags": [],
        "colab": {
          "base_uri": "https://localhost:8080/"
        }
      },
      "outputs": [
        {
          "output_type": "execute_result",
          "data": {
            "text/plain": [
              "array([[137,  38],\n",
              "       [ 37,  83]])"
            ]
          },
          "metadata": {},
          "execution_count": 55
        }
      ],
      "source": [
        "#Decision Tree confusion_matrix\n",
        "confusion_matrix(y_validation, y_pred_dt)"
      ]
    },
    {
      "cell_type": "code",
      "execution_count": 56,
      "id": "5753b243",
      "metadata": {
        "execution": {
          "iopub.execute_input": "2023-11-28T22:16:21.962101Z",
          "iopub.status.busy": "2023-11-28T22:16:21.961648Z",
          "iopub.status.idle": "2023-11-28T22:16:21.967464Z",
          "shell.execute_reply": "2023-11-28T22:16:21.966840Z"
        },
        "id": "5753b243",
        "outputId": "dcccc1a8-e6c2-46c6-efdc-869d1db057bb",
        "papermill": {
          "duration": 0.023367,
          "end_time": "2023-11-28T22:16:21.968978",
          "exception": false,
          "start_time": "2023-11-28T22:16:21.945611",
          "status": "completed"
        },
        "tags": [],
        "colab": {
          "base_uri": "https://localhost:8080/"
        }
      },
      "outputs": [
        {
          "output_type": "execute_result",
          "data": {
            "text/plain": [
              "array([[147,  28],\n",
              "       [ 56,  64]])"
            ]
          },
          "metadata": {},
          "execution_count": 56
        }
      ],
      "source": [
        "#KNeighborsClassifier confusion_matrix\n",
        "confusion_matrix(y_validation, y_pred_knc)"
      ]
    },
    {
      "cell_type": "code",
      "execution_count": 57,
      "id": "084b22cc",
      "metadata": {
        "execution": {
          "iopub.execute_input": "2023-11-28T22:16:22.001132Z",
          "iopub.status.busy": "2023-11-28T22:16:22.000687Z",
          "iopub.status.idle": "2023-11-28T22:16:22.006181Z",
          "shell.execute_reply": "2023-11-28T22:16:22.005628Z"
        },
        "id": "084b22cc",
        "outputId": "e25b458e-73c0-4eb2-c2be-c739551966d4",
        "papermill": {
          "duration": 0.023277,
          "end_time": "2023-11-28T22:16:22.007721",
          "exception": false,
          "start_time": "2023-11-28T22:16:21.984444",
          "status": "completed"
        },
        "tags": [],
        "colab": {
          "base_uri": "https://localhost:8080/"
        }
      },
      "outputs": [
        {
          "output_type": "execute_result",
          "data": {
            "text/plain": [
              "array([[153,  22],\n",
              "       [ 32,  88]])"
            ]
          },
          "metadata": {},
          "execution_count": 57
        }
      ],
      "source": [
        "#Logistic Regression confusion_matrix\n",
        "confusion_matrix(y_validation, y_pred_lr)"
      ]
    },
    {
      "cell_type": "markdown",
      "id": "693b6aba",
      "metadata": {
        "id": "693b6aba",
        "papermill": {
          "duration": 0.0155,
          "end_time": "2023-11-28T22:16:22.038860",
          "exception": false,
          "start_time": "2023-11-28T22:16:22.023360",
          "status": "completed"
        },
        "tags": []
      },
      "source": [
        "**The best model to use still is the Logistic Regression!**"
      ]
    },
    {
      "cell_type": "code",
      "execution_count": 58,
      "id": "948d5b17",
      "metadata": {
        "execution": {
          "iopub.execute_input": "2023-11-28T22:16:22.071543Z",
          "iopub.status.busy": "2023-11-28T22:16:22.071064Z",
          "iopub.status.idle": "2023-11-28T22:16:22.080851Z",
          "shell.execute_reply": "2023-11-28T22:16:22.080269Z"
        },
        "id": "948d5b17",
        "outputId": "d2e801e5-c8f6-441c-af1a-7daf4928508f",
        "papermill": {
          "duration": 0.027873,
          "end_time": "2023-11-28T22:16:22.082399",
          "exception": false,
          "start_time": "2023-11-28T22:16:22.054526",
          "status": "completed"
        },
        "tags": [],
        "colab": {
          "base_uri": "https://localhost:8080/",
          "height": 206
        }
      },
      "outputs": [
        {
          "output_type": "execute_result",
          "data": {
            "text/plain": [
              "     Pclass        Age  SibSp  Parch     Fare  FemaleCheck  Embarked_C  \\\n",
              "6         1  54.000000      0      0  51.8625            0           0   \n",
              "718       3  29.699118      0      0  15.5000            0           0   \n",
              "685       2  25.000000      1      2  41.5792            0           1   \n",
              "73        3  26.000000      1      0  14.4542            0           1   \n",
              "882       3  22.000000      0      0  10.5167            1           0   \n",
              "\n",
              "     Embarked_Q  Embarked_S  \n",
              "6             0           1  \n",
              "718           1           0  \n",
              "685           0           0  \n",
              "73            0           0  \n",
              "882           0           1  "
            ],
            "text/html": [
              "\n",
              "  <div id=\"df-0dc7cf88-f7a8-4922-83fd-4ac529d9e736\" class=\"colab-df-container\">\n",
              "    <div>\n",
              "<style scoped>\n",
              "    .dataframe tbody tr th:only-of-type {\n",
              "        vertical-align: middle;\n",
              "    }\n",
              "\n",
              "    .dataframe tbody tr th {\n",
              "        vertical-align: top;\n",
              "    }\n",
              "\n",
              "    .dataframe thead th {\n",
              "        text-align: right;\n",
              "    }\n",
              "</style>\n",
              "<table border=\"1\" class=\"dataframe\">\n",
              "  <thead>\n",
              "    <tr style=\"text-align: right;\">\n",
              "      <th></th>\n",
              "      <th>Pclass</th>\n",
              "      <th>Age</th>\n",
              "      <th>SibSp</th>\n",
              "      <th>Parch</th>\n",
              "      <th>Fare</th>\n",
              "      <th>FemaleCheck</th>\n",
              "      <th>Embarked_C</th>\n",
              "      <th>Embarked_Q</th>\n",
              "      <th>Embarked_S</th>\n",
              "    </tr>\n",
              "  </thead>\n",
              "  <tbody>\n",
              "    <tr>\n",
              "      <th>6</th>\n",
              "      <td>1</td>\n",
              "      <td>54.000000</td>\n",
              "      <td>0</td>\n",
              "      <td>0</td>\n",
              "      <td>51.8625</td>\n",
              "      <td>0</td>\n",
              "      <td>0</td>\n",
              "      <td>0</td>\n",
              "      <td>1</td>\n",
              "    </tr>\n",
              "    <tr>\n",
              "      <th>718</th>\n",
              "      <td>3</td>\n",
              "      <td>29.699118</td>\n",
              "      <td>0</td>\n",
              "      <td>0</td>\n",
              "      <td>15.5000</td>\n",
              "      <td>0</td>\n",
              "      <td>0</td>\n",
              "      <td>1</td>\n",
              "      <td>0</td>\n",
              "    </tr>\n",
              "    <tr>\n",
              "      <th>685</th>\n",
              "      <td>2</td>\n",
              "      <td>25.000000</td>\n",
              "      <td>1</td>\n",
              "      <td>2</td>\n",
              "      <td>41.5792</td>\n",
              "      <td>0</td>\n",
              "      <td>1</td>\n",
              "      <td>0</td>\n",
              "      <td>0</td>\n",
              "    </tr>\n",
              "    <tr>\n",
              "      <th>73</th>\n",
              "      <td>3</td>\n",
              "      <td>26.000000</td>\n",
              "      <td>1</td>\n",
              "      <td>0</td>\n",
              "      <td>14.4542</td>\n",
              "      <td>0</td>\n",
              "      <td>1</td>\n",
              "      <td>0</td>\n",
              "      <td>0</td>\n",
              "    </tr>\n",
              "    <tr>\n",
              "      <th>882</th>\n",
              "      <td>3</td>\n",
              "      <td>22.000000</td>\n",
              "      <td>0</td>\n",
              "      <td>0</td>\n",
              "      <td>10.5167</td>\n",
              "      <td>1</td>\n",
              "      <td>0</td>\n",
              "      <td>0</td>\n",
              "      <td>1</td>\n",
              "    </tr>\n",
              "  </tbody>\n",
              "</table>\n",
              "</div>\n",
              "    <div class=\"colab-df-buttons\">\n",
              "\n",
              "  <div class=\"colab-df-container\">\n",
              "    <button class=\"colab-df-convert\" onclick=\"convertToInteractive('df-0dc7cf88-f7a8-4922-83fd-4ac529d9e736')\"\n",
              "            title=\"Convert this dataframe to an interactive table.\"\n",
              "            style=\"display:none;\">\n",
              "\n",
              "  <svg xmlns=\"http://www.w3.org/2000/svg\" height=\"24px\" viewBox=\"0 -960 960 960\">\n",
              "    <path d=\"M120-120v-720h720v720H120Zm60-500h600v-160H180v160Zm220 220h160v-160H400v160Zm0 220h160v-160H400v160ZM180-400h160v-160H180v160Zm440 0h160v-160H620v160ZM180-180h160v-160H180v160Zm440 0h160v-160H620v160Z\"/>\n",
              "  </svg>\n",
              "    </button>\n",
              "\n",
              "  <style>\n",
              "    .colab-df-container {\n",
              "      display:flex;\n",
              "      gap: 12px;\n",
              "    }\n",
              "\n",
              "    .colab-df-convert {\n",
              "      background-color: #E8F0FE;\n",
              "      border: none;\n",
              "      border-radius: 50%;\n",
              "      cursor: pointer;\n",
              "      display: none;\n",
              "      fill: #1967D2;\n",
              "      height: 32px;\n",
              "      padding: 0 0 0 0;\n",
              "      width: 32px;\n",
              "    }\n",
              "\n",
              "    .colab-df-convert:hover {\n",
              "      background-color: #E2EBFA;\n",
              "      box-shadow: 0px 1px 2px rgba(60, 64, 67, 0.3), 0px 1px 3px 1px rgba(60, 64, 67, 0.15);\n",
              "      fill: #174EA6;\n",
              "    }\n",
              "\n",
              "    .colab-df-buttons div {\n",
              "      margin-bottom: 4px;\n",
              "    }\n",
              "\n",
              "    [theme=dark] .colab-df-convert {\n",
              "      background-color: #3B4455;\n",
              "      fill: #D2E3FC;\n",
              "    }\n",
              "\n",
              "    [theme=dark] .colab-df-convert:hover {\n",
              "      background-color: #434B5C;\n",
              "      box-shadow: 0px 1px 3px 1px rgba(0, 0, 0, 0.15);\n",
              "      filter: drop-shadow(0px 1px 2px rgba(0, 0, 0, 0.3));\n",
              "      fill: #FFFFFF;\n",
              "    }\n",
              "  </style>\n",
              "\n",
              "    <script>\n",
              "      const buttonEl =\n",
              "        document.querySelector('#df-0dc7cf88-f7a8-4922-83fd-4ac529d9e736 button.colab-df-convert');\n",
              "      buttonEl.style.display =\n",
              "        google.colab.kernel.accessAllowed ? 'block' : 'none';\n",
              "\n",
              "      async function convertToInteractive(key) {\n",
              "        const element = document.querySelector('#df-0dc7cf88-f7a8-4922-83fd-4ac529d9e736');\n",
              "        const dataTable =\n",
              "          await google.colab.kernel.invokeFunction('convertToInteractive',\n",
              "                                                    [key], {});\n",
              "        if (!dataTable) return;\n",
              "\n",
              "        const docLinkHtml = 'Like what you see? Visit the ' +\n",
              "          '<a target=\"_blank\" href=https://colab.research.google.com/notebooks/data_table.ipynb>data table notebook</a>'\n",
              "          + ' to learn more about interactive tables.';\n",
              "        element.innerHTML = '';\n",
              "        dataTable['output_type'] = 'display_data';\n",
              "        await google.colab.output.renderOutput(dataTable, element);\n",
              "        const docLink = document.createElement('div');\n",
              "        docLink.innerHTML = docLinkHtml;\n",
              "        element.appendChild(docLink);\n",
              "      }\n",
              "    </script>\n",
              "  </div>\n",
              "\n",
              "\n",
              "<div id=\"df-39ee5447-6a56-43ee-b540-be5249b43451\">\n",
              "  <button class=\"colab-df-quickchart\" onclick=\"quickchart('df-39ee5447-6a56-43ee-b540-be5249b43451')\"\n",
              "            title=\"Suggest charts\"\n",
              "            style=\"display:none;\">\n",
              "\n",
              "<svg xmlns=\"http://www.w3.org/2000/svg\" height=\"24px\"viewBox=\"0 0 24 24\"\n",
              "     width=\"24px\">\n",
              "    <g>\n",
              "        <path d=\"M19 3H5c-1.1 0-2 .9-2 2v14c0 1.1.9 2 2 2h14c1.1 0 2-.9 2-2V5c0-1.1-.9-2-2-2zM9 17H7v-7h2v7zm4 0h-2V7h2v10zm4 0h-2v-4h2v4z\"/>\n",
              "    </g>\n",
              "</svg>\n",
              "  </button>\n",
              "\n",
              "<style>\n",
              "  .colab-df-quickchart {\n",
              "      --bg-color: #E8F0FE;\n",
              "      --fill-color: #1967D2;\n",
              "      --hover-bg-color: #E2EBFA;\n",
              "      --hover-fill-color: #174EA6;\n",
              "      --disabled-fill-color: #AAA;\n",
              "      --disabled-bg-color: #DDD;\n",
              "  }\n",
              "\n",
              "  [theme=dark] .colab-df-quickchart {\n",
              "      --bg-color: #3B4455;\n",
              "      --fill-color: #D2E3FC;\n",
              "      --hover-bg-color: #434B5C;\n",
              "      --hover-fill-color: #FFFFFF;\n",
              "      --disabled-bg-color: #3B4455;\n",
              "      --disabled-fill-color: #666;\n",
              "  }\n",
              "\n",
              "  .colab-df-quickchart {\n",
              "    background-color: var(--bg-color);\n",
              "    border: none;\n",
              "    border-radius: 50%;\n",
              "    cursor: pointer;\n",
              "    display: none;\n",
              "    fill: var(--fill-color);\n",
              "    height: 32px;\n",
              "    padding: 0;\n",
              "    width: 32px;\n",
              "  }\n",
              "\n",
              "  .colab-df-quickchart:hover {\n",
              "    background-color: var(--hover-bg-color);\n",
              "    box-shadow: 0 1px 2px rgba(60, 64, 67, 0.3), 0 1px 3px 1px rgba(60, 64, 67, 0.15);\n",
              "    fill: var(--button-hover-fill-color);\n",
              "  }\n",
              "\n",
              "  .colab-df-quickchart-complete:disabled,\n",
              "  .colab-df-quickchart-complete:disabled:hover {\n",
              "    background-color: var(--disabled-bg-color);\n",
              "    fill: var(--disabled-fill-color);\n",
              "    box-shadow: none;\n",
              "  }\n",
              "\n",
              "  .colab-df-spinner {\n",
              "    border: 2px solid var(--fill-color);\n",
              "    border-color: transparent;\n",
              "    border-bottom-color: var(--fill-color);\n",
              "    animation:\n",
              "      spin 1s steps(1) infinite;\n",
              "  }\n",
              "\n",
              "  @keyframes spin {\n",
              "    0% {\n",
              "      border-color: transparent;\n",
              "      border-bottom-color: var(--fill-color);\n",
              "      border-left-color: var(--fill-color);\n",
              "    }\n",
              "    20% {\n",
              "      border-color: transparent;\n",
              "      border-left-color: var(--fill-color);\n",
              "      border-top-color: var(--fill-color);\n",
              "    }\n",
              "    30% {\n",
              "      border-color: transparent;\n",
              "      border-left-color: var(--fill-color);\n",
              "      border-top-color: var(--fill-color);\n",
              "      border-right-color: var(--fill-color);\n",
              "    }\n",
              "    40% {\n",
              "      border-color: transparent;\n",
              "      border-right-color: var(--fill-color);\n",
              "      border-top-color: var(--fill-color);\n",
              "    }\n",
              "    60% {\n",
              "      border-color: transparent;\n",
              "      border-right-color: var(--fill-color);\n",
              "    }\n",
              "    80% {\n",
              "      border-color: transparent;\n",
              "      border-right-color: var(--fill-color);\n",
              "      border-bottom-color: var(--fill-color);\n",
              "    }\n",
              "    90% {\n",
              "      border-color: transparent;\n",
              "      border-bottom-color: var(--fill-color);\n",
              "    }\n",
              "  }\n",
              "</style>\n",
              "\n",
              "  <script>\n",
              "    async function quickchart(key) {\n",
              "      const quickchartButtonEl =\n",
              "        document.querySelector('#' + key + ' button');\n",
              "      quickchartButtonEl.disabled = true;  // To prevent multiple clicks.\n",
              "      quickchartButtonEl.classList.add('colab-df-spinner');\n",
              "      try {\n",
              "        const charts = await google.colab.kernel.invokeFunction(\n",
              "            'suggestCharts', [key], {});\n",
              "      } catch (error) {\n",
              "        console.error('Error during call to suggestCharts:', error);\n",
              "      }\n",
              "      quickchartButtonEl.classList.remove('colab-df-spinner');\n",
              "      quickchartButtonEl.classList.add('colab-df-quickchart-complete');\n",
              "    }\n",
              "    (() => {\n",
              "      let quickchartButtonEl =\n",
              "        document.querySelector('#df-39ee5447-6a56-43ee-b540-be5249b43451 button');\n",
              "      quickchartButtonEl.style.display =\n",
              "        google.colab.kernel.accessAllowed ? 'block' : 'none';\n",
              "    })();\n",
              "  </script>\n",
              "</div>\n",
              "    </div>\n",
              "  </div>\n"
            ]
          },
          "metadata": {},
          "execution_count": 58
        }
      ],
      "source": [
        "#If I compare both files, will be a difference, let's check\n",
        "X_train.head()"
      ]
    },
    {
      "cell_type": "code",
      "execution_count": 59,
      "id": "bfeaab5b",
      "metadata": {
        "execution": {
          "iopub.execute_input": "2023-11-28T22:16:22.115066Z",
          "iopub.status.busy": "2023-11-28T22:16:22.114624Z",
          "iopub.status.idle": "2023-11-28T22:16:22.124347Z",
          "shell.execute_reply": "2023-11-28T22:16:22.123778Z"
        },
        "id": "bfeaab5b",
        "outputId": "243a755d-d6a7-4aed-ed12-9cbaab71ff66",
        "papermill": {
          "duration": 0.027745,
          "end_time": "2023-11-28T22:16:22.125894",
          "exception": false,
          "start_time": "2023-11-28T22:16:22.098149",
          "status": "completed"
        },
        "tags": [],
        "colab": {
          "base_uri": "https://localhost:8080/",
          "height": 206
        }
      },
      "outputs": [
        {
          "output_type": "execute_result",
          "data": {
            "text/plain": [
              "   PassengerId  Pclass   Age  SibSp  Parch     Fare  FemaleCheck  Embarked_C  \\\n",
              "0          892       3  34.5      0      0   7.8292            0           0   \n",
              "1          893       3  47.0      1      0   7.0000            1           0   \n",
              "2          894       2  62.0      0      0   9.6875            0           0   \n",
              "3          895       3  27.0      0      0   8.6625            0           0   \n",
              "4          896       3  22.0      1      1  12.2875            1           0   \n",
              "\n",
              "   Embarked_Q  Embarked_S  \n",
              "0           1           0  \n",
              "1           0           1  \n",
              "2           1           0  \n",
              "3           0           1  \n",
              "4           0           1  "
            ],
            "text/html": [
              "\n",
              "  <div id=\"df-52ce881e-5a67-4b70-85e6-21e5b96c825e\" class=\"colab-df-container\">\n",
              "    <div>\n",
              "<style scoped>\n",
              "    .dataframe tbody tr th:only-of-type {\n",
              "        vertical-align: middle;\n",
              "    }\n",
              "\n",
              "    .dataframe tbody tr th {\n",
              "        vertical-align: top;\n",
              "    }\n",
              "\n",
              "    .dataframe thead th {\n",
              "        text-align: right;\n",
              "    }\n",
              "</style>\n",
              "<table border=\"1\" class=\"dataframe\">\n",
              "  <thead>\n",
              "    <tr style=\"text-align: right;\">\n",
              "      <th></th>\n",
              "      <th>PassengerId</th>\n",
              "      <th>Pclass</th>\n",
              "      <th>Age</th>\n",
              "      <th>SibSp</th>\n",
              "      <th>Parch</th>\n",
              "      <th>Fare</th>\n",
              "      <th>FemaleCheck</th>\n",
              "      <th>Embarked_C</th>\n",
              "      <th>Embarked_Q</th>\n",
              "      <th>Embarked_S</th>\n",
              "    </tr>\n",
              "  </thead>\n",
              "  <tbody>\n",
              "    <tr>\n",
              "      <th>0</th>\n",
              "      <td>892</td>\n",
              "      <td>3</td>\n",
              "      <td>34.5</td>\n",
              "      <td>0</td>\n",
              "      <td>0</td>\n",
              "      <td>7.8292</td>\n",
              "      <td>0</td>\n",
              "      <td>0</td>\n",
              "      <td>1</td>\n",
              "      <td>0</td>\n",
              "    </tr>\n",
              "    <tr>\n",
              "      <th>1</th>\n",
              "      <td>893</td>\n",
              "      <td>3</td>\n",
              "      <td>47.0</td>\n",
              "      <td>1</td>\n",
              "      <td>0</td>\n",
              "      <td>7.0000</td>\n",
              "      <td>1</td>\n",
              "      <td>0</td>\n",
              "      <td>0</td>\n",
              "      <td>1</td>\n",
              "    </tr>\n",
              "    <tr>\n",
              "      <th>2</th>\n",
              "      <td>894</td>\n",
              "      <td>2</td>\n",
              "      <td>62.0</td>\n",
              "      <td>0</td>\n",
              "      <td>0</td>\n",
              "      <td>9.6875</td>\n",
              "      <td>0</td>\n",
              "      <td>0</td>\n",
              "      <td>1</td>\n",
              "      <td>0</td>\n",
              "    </tr>\n",
              "    <tr>\n",
              "      <th>3</th>\n",
              "      <td>895</td>\n",
              "      <td>3</td>\n",
              "      <td>27.0</td>\n",
              "      <td>0</td>\n",
              "      <td>0</td>\n",
              "      <td>8.6625</td>\n",
              "      <td>0</td>\n",
              "      <td>0</td>\n",
              "      <td>0</td>\n",
              "      <td>1</td>\n",
              "    </tr>\n",
              "    <tr>\n",
              "      <th>4</th>\n",
              "      <td>896</td>\n",
              "      <td>3</td>\n",
              "      <td>22.0</td>\n",
              "      <td>1</td>\n",
              "      <td>1</td>\n",
              "      <td>12.2875</td>\n",
              "      <td>1</td>\n",
              "      <td>0</td>\n",
              "      <td>0</td>\n",
              "      <td>1</td>\n",
              "    </tr>\n",
              "  </tbody>\n",
              "</table>\n",
              "</div>\n",
              "    <div class=\"colab-df-buttons\">\n",
              "\n",
              "  <div class=\"colab-df-container\">\n",
              "    <button class=\"colab-df-convert\" onclick=\"convertToInteractive('df-52ce881e-5a67-4b70-85e6-21e5b96c825e')\"\n",
              "            title=\"Convert this dataframe to an interactive table.\"\n",
              "            style=\"display:none;\">\n",
              "\n",
              "  <svg xmlns=\"http://www.w3.org/2000/svg\" height=\"24px\" viewBox=\"0 -960 960 960\">\n",
              "    <path d=\"M120-120v-720h720v720H120Zm60-500h600v-160H180v160Zm220 220h160v-160H400v160Zm0 220h160v-160H400v160ZM180-400h160v-160H180v160Zm440 0h160v-160H620v160ZM180-180h160v-160H180v160Zm440 0h160v-160H620v160Z\"/>\n",
              "  </svg>\n",
              "    </button>\n",
              "\n",
              "  <style>\n",
              "    .colab-df-container {\n",
              "      display:flex;\n",
              "      gap: 12px;\n",
              "    }\n",
              "\n",
              "    .colab-df-convert {\n",
              "      background-color: #E8F0FE;\n",
              "      border: none;\n",
              "      border-radius: 50%;\n",
              "      cursor: pointer;\n",
              "      display: none;\n",
              "      fill: #1967D2;\n",
              "      height: 32px;\n",
              "      padding: 0 0 0 0;\n",
              "      width: 32px;\n",
              "    }\n",
              "\n",
              "    .colab-df-convert:hover {\n",
              "      background-color: #E2EBFA;\n",
              "      box-shadow: 0px 1px 2px rgba(60, 64, 67, 0.3), 0px 1px 3px 1px rgba(60, 64, 67, 0.15);\n",
              "      fill: #174EA6;\n",
              "    }\n",
              "\n",
              "    .colab-df-buttons div {\n",
              "      margin-bottom: 4px;\n",
              "    }\n",
              "\n",
              "    [theme=dark] .colab-df-convert {\n",
              "      background-color: #3B4455;\n",
              "      fill: #D2E3FC;\n",
              "    }\n",
              "\n",
              "    [theme=dark] .colab-df-convert:hover {\n",
              "      background-color: #434B5C;\n",
              "      box-shadow: 0px 1px 3px 1px rgba(0, 0, 0, 0.15);\n",
              "      filter: drop-shadow(0px 1px 2px rgba(0, 0, 0, 0.3));\n",
              "      fill: #FFFFFF;\n",
              "    }\n",
              "  </style>\n",
              "\n",
              "    <script>\n",
              "      const buttonEl =\n",
              "        document.querySelector('#df-52ce881e-5a67-4b70-85e6-21e5b96c825e button.colab-df-convert');\n",
              "      buttonEl.style.display =\n",
              "        google.colab.kernel.accessAllowed ? 'block' : 'none';\n",
              "\n",
              "      async function convertToInteractive(key) {\n",
              "        const element = document.querySelector('#df-52ce881e-5a67-4b70-85e6-21e5b96c825e');\n",
              "        const dataTable =\n",
              "          await google.colab.kernel.invokeFunction('convertToInteractive',\n",
              "                                                    [key], {});\n",
              "        if (!dataTable) return;\n",
              "\n",
              "        const docLinkHtml = 'Like what you see? Visit the ' +\n",
              "          '<a target=\"_blank\" href=https://colab.research.google.com/notebooks/data_table.ipynb>data table notebook</a>'\n",
              "          + ' to learn more about interactive tables.';\n",
              "        element.innerHTML = '';\n",
              "        dataTable['output_type'] = 'display_data';\n",
              "        await google.colab.output.renderOutput(dataTable, element);\n",
              "        const docLink = document.createElement('div');\n",
              "        docLink.innerHTML = docLinkHtml;\n",
              "        element.appendChild(docLink);\n",
              "      }\n",
              "    </script>\n",
              "  </div>\n",
              "\n",
              "\n",
              "<div id=\"df-be656e41-7649-4f7d-b906-7f86023743b3\">\n",
              "  <button class=\"colab-df-quickchart\" onclick=\"quickchart('df-be656e41-7649-4f7d-b906-7f86023743b3')\"\n",
              "            title=\"Suggest charts\"\n",
              "            style=\"display:none;\">\n",
              "\n",
              "<svg xmlns=\"http://www.w3.org/2000/svg\" height=\"24px\"viewBox=\"0 0 24 24\"\n",
              "     width=\"24px\">\n",
              "    <g>\n",
              "        <path d=\"M19 3H5c-1.1 0-2 .9-2 2v14c0 1.1.9 2 2 2h14c1.1 0 2-.9 2-2V5c0-1.1-.9-2-2-2zM9 17H7v-7h2v7zm4 0h-2V7h2v10zm4 0h-2v-4h2v4z\"/>\n",
              "    </g>\n",
              "</svg>\n",
              "  </button>\n",
              "\n",
              "<style>\n",
              "  .colab-df-quickchart {\n",
              "      --bg-color: #E8F0FE;\n",
              "      --fill-color: #1967D2;\n",
              "      --hover-bg-color: #E2EBFA;\n",
              "      --hover-fill-color: #174EA6;\n",
              "      --disabled-fill-color: #AAA;\n",
              "      --disabled-bg-color: #DDD;\n",
              "  }\n",
              "\n",
              "  [theme=dark] .colab-df-quickchart {\n",
              "      --bg-color: #3B4455;\n",
              "      --fill-color: #D2E3FC;\n",
              "      --hover-bg-color: #434B5C;\n",
              "      --hover-fill-color: #FFFFFF;\n",
              "      --disabled-bg-color: #3B4455;\n",
              "      --disabled-fill-color: #666;\n",
              "  }\n",
              "\n",
              "  .colab-df-quickchart {\n",
              "    background-color: var(--bg-color);\n",
              "    border: none;\n",
              "    border-radius: 50%;\n",
              "    cursor: pointer;\n",
              "    display: none;\n",
              "    fill: var(--fill-color);\n",
              "    height: 32px;\n",
              "    padding: 0;\n",
              "    width: 32px;\n",
              "  }\n",
              "\n",
              "  .colab-df-quickchart:hover {\n",
              "    background-color: var(--hover-bg-color);\n",
              "    box-shadow: 0 1px 2px rgba(60, 64, 67, 0.3), 0 1px 3px 1px rgba(60, 64, 67, 0.15);\n",
              "    fill: var(--button-hover-fill-color);\n",
              "  }\n",
              "\n",
              "  .colab-df-quickchart-complete:disabled,\n",
              "  .colab-df-quickchart-complete:disabled:hover {\n",
              "    background-color: var(--disabled-bg-color);\n",
              "    fill: var(--disabled-fill-color);\n",
              "    box-shadow: none;\n",
              "  }\n",
              "\n",
              "  .colab-df-spinner {\n",
              "    border: 2px solid var(--fill-color);\n",
              "    border-color: transparent;\n",
              "    border-bottom-color: var(--fill-color);\n",
              "    animation:\n",
              "      spin 1s steps(1) infinite;\n",
              "  }\n",
              "\n",
              "  @keyframes spin {\n",
              "    0% {\n",
              "      border-color: transparent;\n",
              "      border-bottom-color: var(--fill-color);\n",
              "      border-left-color: var(--fill-color);\n",
              "    }\n",
              "    20% {\n",
              "      border-color: transparent;\n",
              "      border-left-color: var(--fill-color);\n",
              "      border-top-color: var(--fill-color);\n",
              "    }\n",
              "    30% {\n",
              "      border-color: transparent;\n",
              "      border-left-color: var(--fill-color);\n",
              "      border-top-color: var(--fill-color);\n",
              "      border-right-color: var(--fill-color);\n",
              "    }\n",
              "    40% {\n",
              "      border-color: transparent;\n",
              "      border-right-color: var(--fill-color);\n",
              "      border-top-color: var(--fill-color);\n",
              "    }\n",
              "    60% {\n",
              "      border-color: transparent;\n",
              "      border-right-color: var(--fill-color);\n",
              "    }\n",
              "    80% {\n",
              "      border-color: transparent;\n",
              "      border-right-color: var(--fill-color);\n",
              "      border-bottom-color: var(--fill-color);\n",
              "    }\n",
              "    90% {\n",
              "      border-color: transparent;\n",
              "      border-bottom-color: var(--fill-color);\n",
              "    }\n",
              "  }\n",
              "</style>\n",
              "\n",
              "  <script>\n",
              "    async function quickchart(key) {\n",
              "      const quickchartButtonEl =\n",
              "        document.querySelector('#' + key + ' button');\n",
              "      quickchartButtonEl.disabled = true;  // To prevent multiple clicks.\n",
              "      quickchartButtonEl.classList.add('colab-df-spinner');\n",
              "      try {\n",
              "        const charts = await google.colab.kernel.invokeFunction(\n",
              "            'suggestCharts', [key], {});\n",
              "      } catch (error) {\n",
              "        console.error('Error during call to suggestCharts:', error);\n",
              "      }\n",
              "      quickchartButtonEl.classList.remove('colab-df-spinner');\n",
              "      quickchartButtonEl.classList.add('colab-df-quickchart-complete');\n",
              "    }\n",
              "    (() => {\n",
              "      let quickchartButtonEl =\n",
              "        document.querySelector('#df-be656e41-7649-4f7d-b906-7f86023743b3 button');\n",
              "      quickchartButtonEl.style.display =\n",
              "        google.colab.kernel.accessAllowed ? 'block' : 'none';\n",
              "    })();\n",
              "  </script>\n",
              "</div>\n",
              "    </div>\n",
              "  </div>\n"
            ]
          },
          "metadata": {},
          "execution_count": 59
        }
      ],
      "source": [
        "test.head()"
      ]
    },
    {
      "cell_type": "code",
      "execution_count": 60,
      "id": "609a4754",
      "metadata": {
        "execution": {
          "iopub.execute_input": "2023-11-28T22:16:22.159185Z",
          "iopub.status.busy": "2023-11-28T22:16:22.158728Z",
          "iopub.status.idle": "2023-11-28T22:16:22.162918Z",
          "shell.execute_reply": "2023-11-28T22:16:22.162361Z"
        },
        "id": "609a4754",
        "papermill": {
          "duration": 0.022569,
          "end_time": "2023-11-28T22:16:22.164442",
          "exception": false,
          "start_time": "2023-11-28T22:16:22.141873",
          "status": "completed"
        },
        "tags": []
      },
      "outputs": [],
      "source": [
        "# Is necessary to delete the colum 'PassengerId'.\n",
        "X_test = test.drop(['PassengerId'], axis = 1)"
      ]
    },
    {
      "cell_type": "code",
      "execution_count": 61,
      "id": "d441eefe",
      "metadata": {
        "execution": {
          "iopub.execute_input": "2023-11-28T22:16:22.197587Z",
          "iopub.status.busy": "2023-11-28T22:16:22.197158Z",
          "iopub.status.idle": "2023-11-28T22:16:22.202040Z",
          "shell.execute_reply": "2023-11-28T22:16:22.201503Z"
        },
        "id": "d441eefe",
        "papermill": {
          "duration": 0.023133,
          "end_time": "2023-11-28T22:16:22.203573",
          "exception": false,
          "start_time": "2023-11-28T22:16:22.180440",
          "status": "completed"
        },
        "tags": []
      },
      "outputs": [],
      "source": [
        "#Using logistic regression on your test data\n",
        "y_pred = clf_lr.predict(X_test)"
      ]
    },
    {
      "cell_type": "code",
      "execution_count": 62,
      "id": "a396af39",
      "metadata": {
        "execution": {
          "iopub.execute_input": "2023-11-28T22:16:22.236929Z",
          "iopub.status.busy": "2023-11-28T22:16:22.236531Z",
          "iopub.status.idle": "2023-11-28T22:16:22.240065Z",
          "shell.execute_reply": "2023-11-28T22:16:22.239546Z"
        },
        "id": "a396af39",
        "papermill": {
          "duration": 0.021838,
          "end_time": "2023-11-28T22:16:22.241538",
          "exception": false,
          "start_time": "2023-11-28T22:16:22.219700",
          "status": "completed"
        },
        "tags": []
      },
      "outputs": [],
      "source": [
        "#Creating the colum 'Survived'\n",
        "test['Survived'] = y_pred"
      ]
    },
    {
      "cell_type": "code",
      "execution_count": 63,
      "id": "2ba139ed",
      "metadata": {
        "execution": {
          "iopub.execute_input": "2023-11-28T22:16:22.274587Z",
          "iopub.status.busy": "2023-11-28T22:16:22.274311Z",
          "iopub.status.idle": "2023-11-28T22:16:22.278735Z",
          "shell.execute_reply": "2023-11-28T22:16:22.278060Z"
        },
        "id": "2ba139ed",
        "papermill": {
          "duration": 0.022568,
          "end_time": "2023-11-28T22:16:22.280256",
          "exception": false,
          "start_time": "2023-11-28T22:16:22.257688",
          "status": "completed"
        },
        "tags": []
      },
      "outputs": [],
      "source": [
        "#Selecting just the colums 'PassengerId'and 'Survived' to send and the dataset updated\n",
        "result = test[['PassengerId','Survived']]\n",
        "train_clean_upd = train\n",
        "test_clean_upd = test"
      ]
    },
    {
      "cell_type": "code",
      "execution_count": 64,
      "id": "3b1e13e6",
      "metadata": {
        "execution": {
          "iopub.execute_input": "2023-11-28T22:16:22.313082Z",
          "iopub.status.busy": "2023-11-28T22:16:22.312857Z",
          "iopub.status.idle": "2023-11-28T22:16:22.324643Z",
          "shell.execute_reply": "2023-11-28T22:16:22.324025Z"
        },
        "id": "3b1e13e6",
        "papermill": {
          "duration": 0.029966,
          "end_time": "2023-11-28T22:16:22.326190",
          "exception": false,
          "start_time": "2023-11-28T22:16:22.296224",
          "status": "completed"
        },
        "tags": []
      },
      "outputs": [],
      "source": [
        "#Exporting to .CSV\n",
        "result.to_csv('result2.csv', index = False)\n",
        "train_clean_upd.to_csv('train_clean_upd.csv', index = False)\n",
        "test_clean_upd.to_csv('test_clean_upd.csv', index = False)"
      ]
    }
  ],
  "metadata": {
    "colab": {
      "provenance": [],
      "include_colab_link": true
    },
    "kaggle": {
      "accelerator": "none",
      "dataSources": [
        {
          "datasetId": 4049339,
          "sourceId": 7038321,
          "sourceType": "datasetVersion"
        }
      ],
      "dockerImageVersionId": 30587,
      "isGpuEnabled": false,
      "isInternetEnabled": true,
      "language": "python",
      "sourceType": "notebook"
    },
    "kernelspec": {
      "display_name": "Python 3",
      "language": "python",
      "name": "python3"
    },
    "language_info": {
      "codemirror_mode": {
        "name": "ipython",
        "version": 3
      },
      "file_extension": ".py",
      "mimetype": "text/x-python",
      "name": "python",
      "nbconvert_exporter": "python",
      "pygments_lexer": "ipython3",
      "version": "3.10.12"
    },
    "papermill": {
      "default_parameters": {},
      "duration": 7.075793,
      "end_time": "2023-11-28T22:16:22.759485",
      "environment_variables": {},
      "exception": null,
      "input_path": "__notebook__.ipynb",
      "output_path": "__notebook__.ipynb",
      "parameters": {},
      "start_time": "2023-11-28T22:16:15.683692",
      "version": "2.4.0"
    }
  },
  "nbformat": 4,
  "nbformat_minor": 5
}